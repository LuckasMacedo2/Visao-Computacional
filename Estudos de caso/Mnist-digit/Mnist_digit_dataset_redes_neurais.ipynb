{
  "nbformat": 4,
  "nbformat_minor": 0,
  "metadata": {
    "colab": {
      "name": "Mnist-digit-dataset-redes-neurais.ipynb",
      "provenance": []
    },
    "kernelspec": {
      "name": "python3",
      "display_name": "Python 3"
    },
    "language_info": {
      "name": "python"
    }
  },
  "cells": [
    {
      "cell_type": "markdown",
      "source": [
        "**Estudo de caso**\n",
        "\n",
        "Este notebook contém o estudo de caso de classificação dos digitos do dataset Mnist. \n",
        "\n",
        "Para tanto será utilizada uma rede neural artificial para realizar a classificação. "
      ],
      "metadata": {
        "id": "nBzMVGH3m2FS"
      }
    },
    {
      "cell_type": "code",
      "execution_count": 108,
      "metadata": {
        "id": "PWmFozsVms-5"
      },
      "outputs": [],
      "source": [
        "# Import das bibliotecas\n",
        "# Dataset\n",
        "from keras.datasets import mnist\n",
        "\n",
        "# Processamento\n",
        "from google.colab.patches import cv2_imshow\n",
        "import cv2 \n",
        "import numpy as np\n",
        "import zipfile\n",
        "import os\n",
        "\n",
        "# Construção da rede\n",
        "import tensorflow as tf\n",
        "import pandas as pd\n",
        "from sklearn.model_selection import train_test_split\n",
        "\n",
        "# Plots\n",
        "import seaborn as sns\n",
        "import matplotlib.pyplot as plt\n",
        "\n",
        "# Google colab\n",
        "\n",
        "from google.colab import drive\n",
        "\n",
        "# Métricas de avaliação\n",
        "from sklearn.metrics import confusion_matrix\n",
        "from sklearn.metrics import accuracy_score\n",
        "from sklearn.metrics import classification_report\n",
        "\n",
        "# Salvar o modelo\n",
        "from keras.models import save_model"
      ]
    },
    {
      "cell_type": "code",
      "source": [
        "drive.mount('/content/drive')"
      ],
      "metadata": {
        "colab": {
          "base_uri": "https://localhost:8080/"
        },
        "id": "mKclhM9KoAZ7",
        "outputId": "d6bea61c-3cf1-4b09-93a1-197eab578a8b"
      },
      "execution_count": 2,
      "outputs": [
        {
          "output_type": "stream",
          "name": "stdout",
          "text": [
            "Mounted at /content/drive\n"
          ]
        }
      ]
    },
    {
      "cell_type": "code",
      "source": [
        "# Carregando o dataset\n",
        "\n",
        "(X_treino, y_treino), (X_teste, y_teste) = mnist.load_data()"
      ],
      "metadata": {
        "id": "59aPJFUyoHvh"
      },
      "execution_count": 34,
      "outputs": []
    },
    {
      "cell_type": "markdown",
      "source": [
        "**Análise exploratoria dos dados**\n",
        "\n",
        "Objetivos: \n",
        "- Visualizar os dados\n",
        "- Verificar as caracteristicas do dataset\n",
        "\n",
        "Formato das imagens: 28 x 28 pixels"
      ],
      "metadata": {
        "id": "K5UOx89ropRK"
      }
    },
    {
      "cell_type": "code",
      "source": [
        "# Verificando as dimensões da imagem\n",
        "X_treino[0].shape"
      ],
      "metadata": {
        "colab": {
          "base_uri": "https://localhost:8080/"
        },
        "id": "91SwIgbOo7qL",
        "outputId": "953db816-6076-47be-f430-fe49bfdeb790"
      },
      "execution_count": 35,
      "outputs": [
        {
          "output_type": "execute_result",
          "data": {
            "text/plain": [
              "(28, 28)"
            ]
          },
          "metadata": {},
          "execution_count": 35
        }
      ]
    },
    {
      "cell_type": "code",
      "source": [
        "print(y_treino[0])\n",
        "print(X_treino[0])"
      ],
      "metadata": {
        "colab": {
          "base_uri": "https://localhost:8080/"
        },
        "id": "jThIZCAVpLBC",
        "outputId": "afa23119-70b0-4f8c-ae23-aad2978c784c"
      },
      "execution_count": 36,
      "outputs": [
        {
          "output_type": "stream",
          "name": "stdout",
          "text": [
            "5\n",
            "[[  0   0   0   0   0   0   0   0   0   0   0   0   0   0   0   0   0   0\n",
            "    0   0   0   0   0   0   0   0   0   0]\n",
            " [  0   0   0   0   0   0   0   0   0   0   0   0   0   0   0   0   0   0\n",
            "    0   0   0   0   0   0   0   0   0   0]\n",
            " [  0   0   0   0   0   0   0   0   0   0   0   0   0   0   0   0   0   0\n",
            "    0   0   0   0   0   0   0   0   0   0]\n",
            " [  0   0   0   0   0   0   0   0   0   0   0   0   0   0   0   0   0   0\n",
            "    0   0   0   0   0   0   0   0   0   0]\n",
            " [  0   0   0   0   0   0   0   0   0   0   0   0   0   0   0   0   0   0\n",
            "    0   0   0   0   0   0   0   0   0   0]\n",
            " [  0   0   0   0   0   0   0   0   0   0   0   0   3  18  18  18 126 136\n",
            "  175  26 166 255 247 127   0   0   0   0]\n",
            " [  0   0   0   0   0   0   0   0  30  36  94 154 170 253 253 253 253 253\n",
            "  225 172 253 242 195  64   0   0   0   0]\n",
            " [  0   0   0   0   0   0   0  49 238 253 253 253 253 253 253 253 253 251\n",
            "   93  82  82  56  39   0   0   0   0   0]\n",
            " [  0   0   0   0   0   0   0  18 219 253 253 253 253 253 198 182 247 241\n",
            "    0   0   0   0   0   0   0   0   0   0]\n",
            " [  0   0   0   0   0   0   0   0  80 156 107 253 253 205  11   0  43 154\n",
            "    0   0   0   0   0   0   0   0   0   0]\n",
            " [  0   0   0   0   0   0   0   0   0  14   1 154 253  90   0   0   0   0\n",
            "    0   0   0   0   0   0   0   0   0   0]\n",
            " [  0   0   0   0   0   0   0   0   0   0   0 139 253 190   2   0   0   0\n",
            "    0   0   0   0   0   0   0   0   0   0]\n",
            " [  0   0   0   0   0   0   0   0   0   0   0  11 190 253  70   0   0   0\n",
            "    0   0   0   0   0   0   0   0   0   0]\n",
            " [  0   0   0   0   0   0   0   0   0   0   0   0  35 241 225 160 108   1\n",
            "    0   0   0   0   0   0   0   0   0   0]\n",
            " [  0   0   0   0   0   0   0   0   0   0   0   0   0  81 240 253 253 119\n",
            "   25   0   0   0   0   0   0   0   0   0]\n",
            " [  0   0   0   0   0   0   0   0   0   0   0   0   0   0  45 186 253 253\n",
            "  150  27   0   0   0   0   0   0   0   0]\n",
            " [  0   0   0   0   0   0   0   0   0   0   0   0   0   0   0  16  93 252\n",
            "  253 187   0   0   0   0   0   0   0   0]\n",
            " [  0   0   0   0   0   0   0   0   0   0   0   0   0   0   0   0   0 249\n",
            "  253 249  64   0   0   0   0   0   0   0]\n",
            " [  0   0   0   0   0   0   0   0   0   0   0   0   0   0  46 130 183 253\n",
            "  253 207   2   0   0   0   0   0   0   0]\n",
            " [  0   0   0   0   0   0   0   0   0   0   0   0  39 148 229 253 253 253\n",
            "  250 182   0   0   0   0   0   0   0   0]\n",
            " [  0   0   0   0   0   0   0   0   0   0  24 114 221 253 253 253 253 201\n",
            "   78   0   0   0   0   0   0   0   0   0]\n",
            " [  0   0   0   0   0   0   0   0  23  66 213 253 253 253 253 198  81   2\n",
            "    0   0   0   0   0   0   0   0   0   0]\n",
            " [  0   0   0   0   0   0  18 171 219 253 253 253 253 195  80   9   0   0\n",
            "    0   0   0   0   0   0   0   0   0   0]\n",
            " [  0   0   0   0  55 172 226 253 253 253 253 244 133  11   0   0   0   0\n",
            "    0   0   0   0   0   0   0   0   0   0]\n",
            " [  0   0   0   0 136 253 253 253 212 135 132  16   0   0   0   0   0   0\n",
            "    0   0   0   0   0   0   0   0   0   0]\n",
            " [  0   0   0   0   0   0   0   0   0   0   0   0   0   0   0   0   0   0\n",
            "    0   0   0   0   0   0   0   0   0   0]\n",
            " [  0   0   0   0   0   0   0   0   0   0   0   0   0   0   0   0   0   0\n",
            "    0   0   0   0   0   0   0   0   0   0]\n",
            " [  0   0   0   0   0   0   0   0   0   0   0   0   0   0   0   0   0   0\n",
            "    0   0   0   0   0   0   0   0   0   0]]\n"
          ]
        }
      ]
    },
    {
      "cell_type": "code",
      "source": [
        "def mostrar_imagem(imagem):\n",
        "  ''' Mostra a imagem redimensionada para 200 x 200 pixels\n",
        "      Parâmetros:\n",
        "        imagem: Imagem a ser exibida\n",
        "  ''' \n",
        "  cv2_imshow(cv2.resize(imagem, dsize=(200, 200), interpolation=cv2.INTER_CUBIC))"
      ],
      "metadata": {
        "id": "R2kxJxZaqrBL"
      },
      "execution_count": 127,
      "outputs": []
    },
    {
      "cell_type": "code",
      "source": [
        "def histograma_imagem(imagem):\n",
        "  ''' Plota o histograma com as distribuições dos pixels de uma imagem\n",
        "      Parâmetros:\n",
        "        imagem: imagem que o histograma será mostrado\n",
        "  '''\n",
        "  plt.hist(imagem)"
      ],
      "metadata": {
        "id": "8RjhO_u5rskk"
      },
      "execution_count": 128,
      "outputs": []
    },
    {
      "cell_type": "code",
      "source": [
        "mostrar_imagem(X_treino[0].reshape(28,28))"
      ],
      "metadata": {
        "colab": {
          "base_uri": "https://localhost:8080/",
          "height": 217
        },
        "id": "jPIEP6hJoklT",
        "outputId": "753a2bef-f569-4008-cfd3-a39374369dc8"
      },
      "execution_count": 129,
      "outputs": [
        {
          "output_type": "display_data",
          "data": {
            "text/plain": [
              "<PIL.Image.Image image mode=L size=200x200 at 0x7FF3FC731610>"
            ],
            "image/png": "[encoded data removed]"
          },
          "metadata": {}
        }
      ]
    },
    {
      "cell_type": "code",
      "source": [
        "histograma_imagem(X_treino[0])"
      ],
      "metadata": {
        "colab": {
          "base_uri": "https://localhost:8080/",
          "height": 265
        },
        "id": "n2iV6lEiqPUb",
        "outputId": "63a97856-01ab-4218-bf1e-fe45e2af0f8e"
      },
      "execution_count": 9,
      "outputs": [
        {
          "output_type": "display_data",
          "data": {
            "text/plain": [
              "<Figure size 432x288 with 1 Axes>"
            ],
            "image/png": "[encoded data removed]"
          },
          "metadata": {
            "needs_background": "light"
          }
        }
      ]
    },
    {
      "cell_type": "markdown",
      "source": [
        "A função **shape** retorna as dimensões de um vetor\n",
        "\n",
        "Ela retorna a altura (indice 0), altura (indice 1) e quantidade de canais de cor de uma imagem (indice 2) de uma imagem"
      ],
      "metadata": {
        "id": "3AFDvmu_tI-z"
      }
    },
    {
      "cell_type": "code",
      "source": [
        "# 28 pixels de altura\n",
        "# 28 pixels de largura\n",
        "# 0 canais de cor\n",
        "print(X_treino[0].shape)"
      ],
      "metadata": {
        "colab": {
          "base_uri": "https://localhost:8080/"
        },
        "id": "UElEdf9PsudD",
        "outputId": "4b6de461-ded7-40e4-e758-d955b5161fef"
      },
      "execution_count": 10,
      "outputs": [
        {
          "output_type": "stream",
          "name": "stdout",
          "text": [
            "(28, 28)\n"
          ]
        }
      ]
    },
    {
      "cell_type": "code",
      "source": [
        "# Total de pixels\n",
        "altura = X_treino[0].shape[0]\n",
        "largura = X_treino[0].shape[1]\n",
        "print(f'Sumário da imagem:\\nAltura: {altura} pixels\\nLargura: {largura} pixels\\nTotal de pixels: {altura * largura} pixels')"
      ],
      "metadata": {
        "colab": {
          "base_uri": "https://localhost:8080/"
        },
        "id": "KuNaOLJds3IM",
        "outputId": "d3c8705d-3470-4118-a912-ace0b583aa19"
      },
      "execution_count": 37,
      "outputs": [
        {
          "output_type": "stream",
          "name": "stdout",
          "text": [
            "Sumário da imagem:\n",
            "Altura: 28 pixels\n",
            "Largura: 28 pixels\n",
            "Total de pixels: 784 pixels\n"
          ]
        }
      ]
    },
    {
      "cell_type": "code",
      "source": [
        "# Informações do dataset de treino\n",
        "total_amostras = X_treino.shape[0]\n",
        "altura_amostras = X_treino.shape[1]\n",
        "largura_amostras = X_treino.shape[2]\n",
        "print(f'Sumário X_treino:\\nTotal de amostras {total_amostras}\\nAltura das amostras: {altura_amostras}\\nLargura das amostras: {largura_amostras}\\nLargura * Altura: {altura*largura}')"
      ],
      "metadata": {
        "colab": {
          "base_uri": "https://localhost:8080/"
        },
        "id": "0zpZxBAtu0ka",
        "outputId": "d797940a-c560-48d2-f736-9e4b99cf2f2b"
      },
      "execution_count": 38,
      "outputs": [
        {
          "output_type": "stream",
          "name": "stdout",
          "text": [
            "Sumário X_treino:\n",
            "Total de amostras 60000\n",
            "Altura das amostras: 28\n",
            "Largura das amostras: 28\n",
            "Largura * Altura: 784\n"
          ]
        }
      ]
    },
    {
      "cell_type": "code",
      "source": [
        "print(altura * largura * X_treino.shape[0])"
      ],
      "metadata": {
        "colab": {
          "base_uri": "https://localhost:8080/"
        },
        "id": "6BvG7kdiutjb",
        "outputId": "d8b07683-66b0-401a-8575-5347207b15b9"
      },
      "execution_count": 39,
      "outputs": [
        {
          "output_type": "stream",
          "name": "stdout",
          "text": [
            "47040000\n"
          ]
        }
      ]
    },
    {
      "cell_type": "markdown",
      "source": [
        "**Pré-processamento**\n",
        "\n",
        "Objetivos:\n",
        "\n",
        "- Normalizar o dataset;\n",
        "- Converter o dataset para vetores, pois são eles que são reconhecidos pela rede neural"
      ],
      "metadata": {
        "id": "e5fNQn2Bse_7"
      }
    },
    {
      "cell_type": "code",
      "source": [
        "def converter_matriz_vetor(matriz):\n",
        "  ''' Converte uma matriz em um vetor nparray\n",
        "      Parâmetros:\n",
        "        matriz -> matriz a ser convertida no vetor\n",
        "  '''\n",
        "  return np.asarray([x.ravel() for x in matriz])"
      ],
      "metadata": {
        "id": "k2R0YHYHxHVj"
      },
      "execution_count": 40,
      "outputs": []
    },
    {
      "cell_type": "code",
      "source": [
        "# Convertendo de matriz para vetor\n",
        "X_treino = converter_matriz_vetor(X_treino)\n",
        "X_teste = converter_matriz_vetor(X_teste)"
      ],
      "metadata": {
        "id": "J4LaeNawr_4q"
      },
      "execution_count": 41,
      "outputs": []
    },
    {
      "cell_type": "code",
      "source": [
        "print(X_treino.shape)"
      ],
      "metadata": {
        "colab": {
          "base_uri": "https://localhost:8080/"
        },
        "id": "72DzUdbZug4y",
        "outputId": "21cb9bb7-d4d8-4818-8245-e6a2fb08d2ac"
      },
      "execution_count": 42,
      "outputs": [
        {
          "output_type": "stream",
          "name": "stdout",
          "text": [
            "(60000, 784)\n"
          ]
        }
      ]
    },
    {
      "cell_type": "code",
      "source": [
        "print(y_treino.shape)"
      ],
      "metadata": {
        "colab": {
          "base_uri": "https://localhost:8080/"
        },
        "id": "NghLKYKEui7C",
        "outputId": "79fc602e-9311-491e-a8a4-f30ac64f98ab"
      },
      "execution_count": 43,
      "outputs": [
        {
          "output_type": "stream",
          "name": "stdout",
          "text": [
            "(60000,)\n"
          ]
        }
      ]
    },
    {
      "cell_type": "markdown",
      "source": [
        "**Construção do modelo**\n",
        "\n",
        "Objetivo:\n",
        "\n",
        "- Contruir a rede neural;\n",
        "- Treinar a rede neural."
      ],
      "metadata": {
        "id": "LZjOkDjQZXbo"
      }
    },
    {
      "cell_type": "code",
      "source": [
        "# Número de unidades = quantidades de pixels da entrada = altura * largura da imagem\n",
        "# As imagens do dataset possuem 28 x 28 pixels, logo\n",
        "print(f'Número de unidades = {28 * 28}')\n",
        "# Costuma-se utilizar a seguinte heuristica para determinar a quantidade de unidades\n",
        "# (qtd de pixels + 2) / 2. Onde qtd de pixels é igual a multiplicação da altura pela largura\n",
        "# As imagens do dataset possuem 28 x 28 pixels, logo\n",
        "print(f'Número de unidades = {(28*28 + 2)/2}')"
      ],
      "metadata": {
        "colab": {
          "base_uri": "https://localhost:8080/"
        },
        "id": "1_2jeeLXaexS",
        "outputId": "1e817dff-ef23-4bf7-d516-df304e038447"
      },
      "execution_count": 24,
      "outputs": [
        {
          "output_type": "stream",
          "name": "stdout",
          "text": [
            "Número de unidades = 784\n",
            "Número de unidades = 393.0\n"
          ]
        }
      ]
    },
    {
      "cell_type": "code",
      "source": [
        "rede = tf.keras.Sequential()\n",
        "# Camada de entrada e primeira camada oculta\n",
        "rede.add(tf.keras.layers.Dense(input_shape = (784,), units = 393, activation = 'relu'))\n",
        "# 2ª camada oculta\n",
        "rede.add(tf.keras.layers.Dense(units = 393, activation = 'relu'))\n",
        "# Camada de saída\n",
        "rede.add(tf.keras.layers.Dense(units = 10, activation = 'softmax'))"
      ],
      "metadata": {
        "id": "6naXUVENxEda"
      },
      "execution_count": 29,
      "outputs": []
    },
    {
      "cell_type": "code",
      "source": [
        "# Verificando informações da rede\n",
        "rede.summary()"
      ],
      "metadata": {
        "colab": {
          "base_uri": "https://localhost:8080/"
        },
        "id": "V7eOplaMccSQ",
        "outputId": "90b186cc-05f8-41fc-d4c8-37be4635c6ac"
      },
      "execution_count": 30,
      "outputs": [
        {
          "output_type": "stream",
          "name": "stdout",
          "text": [
            "Model: \"sequential_4\"\n",
            "_________________________________________________________________\n",
            " Layer (type)                Output Shape              Param #   \n",
            "=================================================================\n",
            " dense_1 (Dense)             (None, 393)               308505    \n",
            "                                                                 \n",
            " dense_2 (Dense)             (None, 393)               154842    \n",
            "                                                                 \n",
            " dense_3 (Dense)             (None, 10)                3940      \n",
            "                                                                 \n",
            "=================================================================\n",
            "Total params: 467,287\n",
            "Trainable params: 467,287\n",
            "Non-trainable params: 0\n",
            "_________________________________________________________________\n"
          ]
        }
      ]
    },
    {
      "cell_type": "markdown",
      "source": [
        "A função compile compila o modelo\n",
        "\n",
        "Para isso deve-se passar como parâmetros:\n",
        "\n",
        "- optimizer: algoritmo para realizar o ajuste dos pesos e encontrar o minímo local;\n",
        "- loss: função para realizar o cálculo do erro;\n",
        "- metrics: métrica para avaliação da rede."
      ],
      "metadata": {
        "id": "DxHzqN_Oeu2Z"
      }
    },
    {
      "cell_type": "code",
      "source": [
        "rede.compile(optimizer = 'adam', loss = 'sparse_categorical_crossentropy', metrics = ['accuracy'])"
      ],
      "metadata": {
        "id": "UwDjeMlUeOlR"
      },
      "execution_count": 46,
      "outputs": []
    },
    {
      "cell_type": "code",
      "source": [
        "# Treinando a rede neural\n",
        "progresso_treino = rede.fit(X_treino, y_treino, epochs = 50)"
      ],
      "metadata": {
        "colab": {
          "base_uri": "https://localhost:8080/"
        },
        "id": "hVFGsr8Bf00C",
        "outputId": "30a60e07-f594-4c41-aaf3-8b2c935d7abe"
      },
      "execution_count": 47,
      "outputs": [
        {
          "output_type": "stream",
          "name": "stdout",
          "text": [
            "Epoch 1/50\n",
            "1875/1875 [==============================] - 12s 6ms/step - loss: 1.5510 - accuracy: 0.9021\n",
            "Epoch 2/50\n",
            "1875/1875 [==============================] - 11s 6ms/step - loss: 0.2223 - accuracy: 0.9472\n",
            "Epoch 3/50\n",
            "1875/1875 [==============================] - 12s 6ms/step - loss: 0.1777 - accuracy: 0.9542\n",
            "Epoch 4/50\n",
            "1875/1875 [==============================] - 12s 6ms/step - loss: 0.1613 - accuracy: 0.9576\n",
            "Epoch 5/50\n",
            "1875/1875 [==============================] - 11s 6ms/step - loss: 0.1447 - accuracy: 0.9620\n",
            "Epoch 6/50\n",
            "1875/1875 [==============================] - 12s 6ms/step - loss: 0.1303 - accuracy: 0.9665\n",
            "Epoch 7/50\n",
            "1875/1875 [==============================] - 11s 6ms/step - loss: 0.1237 - accuracy: 0.9687\n",
            "Epoch 8/50\n",
            "1875/1875 [==============================] - 11s 6ms/step - loss: 0.1060 - accuracy: 0.9724\n",
            "Epoch 9/50\n",
            "1875/1875 [==============================] - 12s 6ms/step - loss: 0.1064 - accuracy: 0.9730\n",
            "Epoch 10/50\n",
            "1875/1875 [==============================] - 11s 6ms/step - loss: 0.0926 - accuracy: 0.9766\n",
            "Epoch 11/50\n",
            "1875/1875 [==============================] - 12s 6ms/step - loss: 0.0871 - accuracy: 0.9784\n",
            "Epoch 12/50\n",
            "1875/1875 [==============================] - 11s 6ms/step - loss: 0.0944 - accuracy: 0.9786\n",
            "Epoch 13/50\n",
            "1875/1875 [==============================] - 11s 6ms/step - loss: 0.0767 - accuracy: 0.9813\n",
            "Epoch 14/50\n",
            "1875/1875 [==============================] - 12s 6ms/step - loss: 0.0759 - accuracy: 0.9819\n",
            "Epoch 15/50\n",
            "1875/1875 [==============================] - 11s 6ms/step - loss: 0.0765 - accuracy: 0.9830\n",
            "Epoch 16/50\n",
            "1875/1875 [==============================] - 11s 6ms/step - loss: 0.0687 - accuracy: 0.9842\n",
            "Epoch 17/50\n",
            "1875/1875 [==============================] - 12s 6ms/step - loss: 0.0723 - accuracy: 0.9846\n",
            "Epoch 18/50\n",
            "1875/1875 [==============================] - 11s 6ms/step - loss: 0.0681 - accuracy: 0.9858\n",
            "Epoch 19/50\n",
            "1875/1875 [==============================] - 12s 6ms/step - loss: 0.0650 - accuracy: 0.9853\n",
            "Epoch 20/50\n",
            "1875/1875 [==============================] - 11s 6ms/step - loss: 0.0621 - accuracy: 0.9862\n",
            "Epoch 21/50\n",
            "1875/1875 [==============================] - 11s 6ms/step - loss: 0.0693 - accuracy: 0.9855\n",
            "Epoch 22/50\n",
            "1875/1875 [==============================] - 12s 6ms/step - loss: 0.0601 - accuracy: 0.9872\n",
            "Epoch 23/50\n",
            "1875/1875 [==============================] - 11s 6ms/step - loss: 0.0638 - accuracy: 0.9871\n",
            "Epoch 24/50\n",
            "1875/1875 [==============================] - 11s 6ms/step - loss: 0.0585 - accuracy: 0.9875\n",
            "Epoch 25/50\n",
            "1875/1875 [==============================] - 12s 6ms/step - loss: 0.0747 - accuracy: 0.9854\n",
            "Epoch 26/50\n",
            "1875/1875 [==============================] - 11s 6ms/step - loss: 0.0543 - accuracy: 0.9882\n",
            "Epoch 27/50\n",
            "1875/1875 [==============================] - 12s 6ms/step - loss: 0.0599 - accuracy: 0.9877\n",
            "Epoch 28/50\n",
            "1875/1875 [==============================] - 11s 6ms/step - loss: 0.0637 - accuracy: 0.9871\n",
            "Epoch 29/50\n",
            "1875/1875 [==============================] - 11s 6ms/step - loss: 0.0602 - accuracy: 0.9883\n",
            "Epoch 30/50\n",
            "1875/1875 [==============================] - 12s 6ms/step - loss: 0.0588 - accuracy: 0.9877\n",
            "Epoch 31/50\n",
            "1875/1875 [==============================] - 11s 6ms/step - loss: 0.0547 - accuracy: 0.9891\n",
            "Epoch 32/50\n",
            "1875/1875 [==============================] - 12s 6ms/step - loss: 0.0636 - accuracy: 0.9879\n",
            "Epoch 33/50\n",
            "1875/1875 [==============================] - 11s 6ms/step - loss: 0.0567 - accuracy: 0.9895\n",
            "Epoch 34/50\n",
            "1875/1875 [==============================] - 11s 6ms/step - loss: 0.0592 - accuracy: 0.9894\n",
            "Epoch 35/50\n",
            "1875/1875 [==============================] - 12s 6ms/step - loss: 0.0567 - accuracy: 0.9887\n",
            "Epoch 36/50\n",
            "1875/1875 [==============================] - 11s 6ms/step - loss: 0.0625 - accuracy: 0.9880\n",
            "Epoch 37/50\n",
            "1875/1875 [==============================] - 11s 6ms/step - loss: 0.0493 - accuracy: 0.9899\n",
            "Epoch 38/50\n",
            "1875/1875 [==============================] - 12s 6ms/step - loss: 0.0571 - accuracy: 0.9893\n",
            "Epoch 39/50\n",
            "1875/1875 [==============================] - 11s 6ms/step - loss: 0.0674 - accuracy: 0.9884\n",
            "Epoch 40/50\n",
            "1875/1875 [==============================] - 12s 6ms/step - loss: 0.0515 - accuracy: 0.9890\n",
            "Epoch 41/50\n",
            "1875/1875 [==============================] - 11s 6ms/step - loss: 0.0624 - accuracy: 0.9889\n",
            "Epoch 42/50\n",
            "1875/1875 [==============================] - 11s 6ms/step - loss: 0.0636 - accuracy: 0.9887\n",
            "Epoch 43/50\n",
            "1875/1875 [==============================] - 12s 6ms/step - loss: 0.0556 - accuracy: 0.9895\n",
            "Epoch 44/50\n",
            "1875/1875 [==============================] - 11s 6ms/step - loss: 0.0613 - accuracy: 0.9886\n",
            "Epoch 45/50\n",
            "1875/1875 [==============================] - 11s 6ms/step - loss: 0.0815 - accuracy: 0.9866\n",
            "Epoch 46/50\n",
            "1875/1875 [==============================] - 12s 6ms/step - loss: 0.0547 - accuracy: 0.9898\n",
            "Epoch 47/50\n",
            "1875/1875 [==============================] - 11s 6ms/step - loss: 0.0801 - accuracy: 0.9872\n",
            "Epoch 48/50\n",
            "1875/1875 [==============================] - 12s 6ms/step - loss: 0.0625 - accuracy: 0.9890\n",
            "Epoch 49/50\n",
            "1875/1875 [==============================] - 11s 6ms/step - loss: 0.0523 - accuracy: 0.9899\n",
            "Epoch 50/50\n",
            "1875/1875 [==============================] - 11s 6ms/step - loss: 0.0913 - accuracy: 0.9862\n"
          ]
        }
      ]
    },
    {
      "cell_type": "markdown",
      "source": [
        "**Avaliação da rede neural**\n",
        "\n",
        "Objetivos:\n",
        "\n",
        "- Avaliar a rede neural;\n",
        "- Verificar as métricas alcançadas pelas rede."
      ],
      "metadata": {
        "id": "t3yOXwa_i6i4"
      }
    },
    {
      "cell_type": "code",
      "source": [
        "def plotar_graficos(graficos, titulos):\n",
        "  fig, axes = plt.subplots(1, len(graficos), figsize = (10, 10), linewidth=3)\n",
        "\n",
        "  for i in range(0, len(axes)):\n",
        "    axes[i].plot(graficos[i])\n",
        "    if len(titulos) > i:\n",
        "      axes[i].set_title(titulos[i])"
      ],
      "metadata": {
        "id": "1wHQfKqGgCWY"
      },
      "execution_count": 112,
      "outputs": []
    },
    {
      "cell_type": "code",
      "source": [
        "plotar_graficos([progresso_treino.history['loss'],\n",
        "                 progresso_treino.history['accuracy']],\n",
        "                 ['Erro', 'Acurácia'])"
      ],
      "metadata": {
        "colab": {
          "base_uri": "https://localhost:8080/",
          "height": 607
        },
        "id": "HwIdyt7Aj6AY",
        "outputId": "3f2606e5-a067-458f-eb43-2ed881de6f76"
      },
      "execution_count": 113,
      "outputs": [
        {
          "output_type": "display_data",
          "data": {
            "text/plain": [
              "<Figure size 720x720 with 2 Axes>"
            ],
            "image/png": "[encoded data removed]"
          },
          "metadata": {
            "needs_background": "light"
          }
        }
      ]
    },
    {
      "cell_type": "code",
      "source": [
        "test_loss, test_acc = rede.evaluate(X_teste, y_teste, verbose=2)"
      ],
      "metadata": {
        "colab": {
          "base_uri": "https://localhost:8080/"
        },
        "id": "6rGU5O4ykH8Q",
        "outputId": "baf36a85-8be7-4a99-a83a-53b612b34dcb"
      },
      "execution_count": 77,
      "outputs": [
        {
          "output_type": "stream",
          "name": "stdout",
          "text": [
            "313/313 - 1s - loss: 0.5370 - accuracy: 0.9673 - 1s/epoch - 4ms/step\n"
          ]
        }
      ]
    },
    {
      "cell_type": "code",
      "source": [
        "classificacoes = rede.predict(X_teste)"
      ],
      "metadata": {
        "id": "8dlVPUCFm9N5"
      },
      "execution_count": 81,
      "outputs": []
    },
    {
      "cell_type": "code",
      "source": [
        "classificacoes[0], classificacoes.shape, y_teste.shape"
      ],
      "metadata": {
        "colab": {
          "base_uri": "https://localhost:8080/"
        },
        "id": "5UO5zyhwnmaQ",
        "outputId": "1cf87c06-cc17-4497-d5eb-e4c10b93eef8"
      },
      "execution_count": 85,
      "outputs": [
        {
          "output_type": "execute_result",
          "data": {
            "text/plain": [
              "(array([0.0000000e+00, 1.0000199e-36, 0.0000000e+00, 0.0000000e+00,\n",
              "        0.0000000e+00, 0.0000000e+00, 0.0000000e+00, 1.0000000e+00,\n",
              "        0.0000000e+00, 1.2205033e-25], dtype=float32), (10000, 10), (10000,))"
            ]
          },
          "metadata": {},
          "execution_count": 85
        }
      ]
    },
    {
      "cell_type": "code",
      "source": [
        "# Verifica a predição e pega o maior valor como sendo considerada a saída correta\n",
        "# Converte para inteiro para ser possível verificar na matriz de confusão\n",
        "classificacao_normalizada = []\n",
        "for classificacao in classificacoes:\n",
        "  classificacao_normalizada.append(int(np.argmax(classificacao)))"
      ],
      "metadata": {
        "id": "1WBJluuFnfkA"
      },
      "execution_count": 86,
      "outputs": []
    },
    {
      "cell_type": "code",
      "source": [
        "cm = confusion_matrix(y_teste, classificacao_normalizada)\n",
        "plt.figure(figsize = (16,5))\n",
        "sns.heatmap(cm, annot = True)"
      ],
      "metadata": {
        "colab": {
          "base_uri": "https://localhost:8080/",
          "height": 337
        },
        "id": "tKQ0lEyVl2-q",
        "outputId": "6456842b-b7b4-4abf-d128-17647771d942"
      },
      "execution_count": 90,
      "outputs": [
        {
          "output_type": "execute_result",
          "data": {
            "text/plain": [
              "<matplotlib.axes._subplots.AxesSubplot at 0x7ff3f9a3f7d0>"
            ]
          },
          "metadata": {},
          "execution_count": 90
        },
        {
          "output_type": "display_data",
          "data": {
            "text/plain": [
              "<Figure size 1152x360 with 2 Axes>"
            ],
            "image/png": "[encoded data removed]"
          },
          "metadata": {
            "needs_background": "light"
          }
        }
      ]
    },
    {
      "cell_type": "markdown",
      "source": [
        "**Verificando as classificacoes**\n",
        "\n",
        "Objetivo:\n",
        "- Verificar as previsões do modelo;\n",
        "- Plotar imagens com as classificações."
      ],
      "metadata": {
        "id": "k8XWAIkctmNb"
      }
    },
    {
      "cell_type": "code",
      "source": [
        "def verificar_predicao(indice_classificacao, X, y, classificacao):\n",
        "  ''' Verifica a predição do modelo mostrando a classe real e a classe predita, bem como o plot da imagem do dataset de teste\n",
        "      Parâmetros:\n",
        "        indice_classificacao -> indice do item a ser verificado\n",
        "        X -> dados de teste\n",
        "        y -> label dos dados de teste\n",
        "        classificacao -> dados da classificação realizada pelo modelo\n",
        "  '''\n",
        "  classe_real = y[indice_classificacao]\n",
        "  classe_predita = classificacao[indice_classificacao]\n",
        "  predicao = 'acertou' if classe_real == classe_predita else 'errou'\n",
        "  print(f'Classe real: {classe_real}\\nClasse predita: {classe_predita}\\nModelo { predicao }')\n",
        "  mostrar_imagem(X[indice_classificacao].reshape(28,28))"
      ],
      "metadata": {
        "id": "as6E4nkktt06"
      },
      "execution_count": 155,
      "outputs": []
    },
    {
      "cell_type": "code",
      "source": [
        "verificar_predicao(0, X_teste, y_teste, classificacao_normalizada)"
      ],
      "metadata": {
        "colab": {
          "base_uri": "https://localhost:8080/",
          "height": 269
        },
        "id": "5EXq6X3YwHTL",
        "outputId": "a4d22a68-f16c-44f4-d25c-acebf17a448f"
      },
      "execution_count": 143,
      "outputs": [
        {
          "output_type": "stream",
          "name": "stdout",
          "text": [
            "Classe real: 7\n",
            "Classe predita: 7\n",
            "Modelo acertou\n"
          ]
        },
        {
          "output_type": "display_data",
          "data": {
            "text/plain": [
              "<PIL.Image.Image image mode=L size=200x200 at 0x7FF3FC85DD50>"
            ],
            "image/png": "[encoded data removed]"
          },
          "metadata": {}
        }
      ]
    },
    {
      "cell_type": "code",
      "source": [
        "verificar_predicao(10, X_teste, y_teste, classificacao_normalizada)"
      ],
      "metadata": {
        "colab": {
          "base_uri": "https://localhost:8080/",
          "height": 269
        },
        "id": "6Rq-2Rkkxf0b",
        "outputId": "fe92a10a-598e-4f2b-898d-7d4baaa15954"
      },
      "execution_count": 144,
      "outputs": [
        {
          "output_type": "stream",
          "name": "stdout",
          "text": [
            "Classe real: 0\n",
            "Classe predita: 0\n",
            "Modelo acertou\n"
          ]
        },
        {
          "output_type": "display_data",
          "data": {
            "text/plain": [
              "<PIL.Image.Image image mode=L size=200x200 at 0x7FF3FC85D5D0>"
            ],
            "image/png": "[encoded data removed]"
          },
          "metadata": {}
        }
      ]
    },
    {
      "cell_type": "code",
      "source": [
        "verificar_predicao(100, X_teste, y_teste, classificacao_normalizada)"
      ],
      "metadata": {
        "colab": {
          "base_uri": "https://localhost:8080/",
          "height": 269
        },
        "id": "tRmg3KkJxfp7",
        "outputId": "1aa47465-9fa2-4b8c-e9b0-9c1eba268ef9"
      },
      "execution_count": 145,
      "outputs": [
        {
          "output_type": "stream",
          "name": "stdout",
          "text": [
            "Classe real: 6\n",
            "Classe predita: 6\n",
            "Modelo acertou\n"
          ]
        },
        {
          "output_type": "display_data",
          "data": {
            "text/plain": [
              "<PIL.Image.Image image mode=L size=200x200 at 0x7FF3FC88C650>"
            ],
            "image/png": "[encoded data removed]"
          },
          "metadata": {}
        }
      ]
    },
    {
      "cell_type": "code",
      "source": [
        "verificar_predicao(13, X_teste, y_teste, classificacao_normalizada)"
      ],
      "metadata": {
        "colab": {
          "base_uri": "https://localhost:8080/",
          "height": 269
        },
        "id": "JhLu3bWpxjVj",
        "outputId": "8a8c4804-13a4-407e-d5f4-f4b157a39cc0"
      },
      "execution_count": 146,
      "outputs": [
        {
          "output_type": "stream",
          "name": "stdout",
          "text": [
            "Classe real: 0\n",
            "Classe predita: 0\n",
            "Modelo acertou\n"
          ]
        },
        {
          "output_type": "display_data",
          "data": {
            "text/plain": [
              "<PIL.Image.Image image mode=L size=200x200 at 0x7FF3FC6E0F50>"
            ],
            "image/png": "[encoded data removed]"
          },
          "metadata": {}
        }
      ]
    },
    {
      "cell_type": "code",
      "source": [
        "verificar_predicao(151, X_teste, y_teste, classificacao_normalizada)"
      ],
      "metadata": {
        "colab": {
          "base_uri": "https://localhost:8080/",
          "height": 269
        },
        "id": "aekxZ2ZAxlpr",
        "outputId": "b680be78-d3b2-4621-9c51-6b34d4c4ab58"
      },
      "execution_count": 153,
      "outputs": [
        {
          "output_type": "stream",
          "name": "stdout",
          "text": [
            "Classe real: 9\n",
            "Classe predita: 8\n",
            "Modelo errou\n"
          ]
        },
        {
          "output_type": "display_data",
          "data": {
            "text/plain": [
              "<PIL.Image.Image image mode=L size=200x200 at 0x7FF3FC87F950>"
            ],
            "image/png": "[encoded data removed]"
          },
          "metadata": {}
        }
      ]
    },
    {
      "cell_type": "code",
      "source": [
        "verificar_predicao(1114, X_teste, y_teste, classificacao_normalizada)"
      ],
      "metadata": {
        "colab": {
          "base_uri": "https://localhost:8080/",
          "height": 269
        },
        "id": "UjANWuMhx7f9",
        "outputId": "7ecdab4c-4267-45b4-e3a2-89521085585d"
      },
      "execution_count": 154,
      "outputs": [
        {
          "output_type": "stream",
          "name": "stdout",
          "text": [
            "Classe real: 3\n",
            "Classe predita: 8\n",
            "Modelo errou\n"
          ]
        },
        {
          "output_type": "display_data",
          "data": {
            "text/plain": [
              "<PIL.Image.Image image mode=L size=200x200 at 0x7FF3F9D370D0>"
            ],
            "image/png": "[encoded data removed]"
          },
          "metadata": {}
        }
      ]
    },
    {
      "cell_type": "markdown",
      "source": [
        "**Salvando o modelo**\n",
        "\n",
        "Objetivos:\n",
        "- Salvar o modelo em um arquivo para permitir ser carregado posteriomente."
      ],
      "metadata": {
        "id": "QgKC2APKokfi"
      }
    },
    {
      "cell_type": "code",
      "source": [
        "def salvar_modelo_pesos(modelo, nome_arq_modelo, nome_arq_peso):\n",
        "  ''' Salva o modelo em um arquivo .json e os pesos em um arquivo .hdf5\n",
        "      Parâmetros:\n",
        "        modelo -> modelo a ser salvo\n",
        "        nome_arq_modelo -> nome do arquivo que o modelo será salvo\n",
        "        nome_arq_peso -> nome do arquivo que os pesos serão salvos\n",
        "  ''' \n",
        "  # Converte o modelo para json\n",
        "  modelo_json = modelo.to_json()\n",
        "  # Salva o arquivo do modelo em json\n",
        "  with open(nome_arq_modelo + '.json', 'w') as json_file:\n",
        "    json_file.write(modelo_json)\n",
        "  # Salva os pesos\n",
        "  # O padrão é salvar em um arquivo .hdf5\n",
        "  rede_salva = save_model(modelo, nome_arq_peso + '.hdf5')\n"
      ],
      "metadata": {
        "id": "D_x2yhPEmsup"
      },
      "execution_count": 91,
      "outputs": []
    },
    {
      "cell_type": "code",
      "source": [
        "def carregar_modelo_salvo(arquivo_json_modelo, arquivo_pesos):\n",
        "  ''' Carrega e retorna o modelo salvo no disco\n",
        "      Parâmetros:\n",
        "        arquivo_sjon_modelo ->  Arquivo json contendo o modelo\n",
        "        arquivo_pesos -> Arquivo com os pesos do modelo\n",
        "  '''\n",
        "  with open(arquivo_json_modelo) as json_file:\n",
        "    modelo_json = json_file.read()\n",
        "  rede_carregada = tf.keras.models.model_from_json(modelo_json)\n",
        "  rede_carregada.load_weights(arquivo_pesos)\n",
        "  return rede_carregada"
      ],
      "metadata": {
        "id": "FxxNY8DdqMCp"
      },
      "execution_count": 111,
      "outputs": []
    },
    {
      "cell_type": "code",
      "source": [
        "salvar_modelo_pesos(rede, 'redeNeuralMnistDigit', 'pesosRedeNeuralMnistDigit')"
      ],
      "metadata": {
        "id": "X1pjHTSkp9iR"
      },
      "execution_count": 96,
      "outputs": []
    },
    {
      "cell_type": "code",
      "source": [
        "rede_carregada = carregar_modelo_salvo('/content/redeNeuralMnistDigit.json', '/content/pesosRedeNeuralMnistDigit.hdf5')\n",
        "rede_carregada.compile(loss = 'binary_crossentropy', optimizer = 'Adam', metrics = ['accuracy'])"
      ],
      "metadata": {
        "id": "jFohM6dNqHnx"
      },
      "execution_count": 109,
      "outputs": []
    },
    {
      "cell_type": "code",
      "source": [
        "rede_carregada.summary()"
      ],
      "metadata": {
        "colab": {
          "base_uri": "https://localhost:8080/"
        },
        "id": "PjCPODAaqudJ",
        "outputId": "3d7730b2-f35b-49d4-e445-ef8f163698ee"
      },
      "execution_count": 110,
      "outputs": [
        {
          "output_type": "stream",
          "name": "stdout",
          "text": [
            "Model: \"sequential_4\"\n",
            "_________________________________________________________________\n",
            " Layer (type)                Output Shape              Param #   \n",
            "=================================================================\n",
            " dense_1 (Dense)             (None, 393)               308505    \n",
            "                                                                 \n",
            " dense_2 (Dense)             (None, 393)               154842    \n",
            "                                                                 \n",
            " dense_3 (Dense)             (None, 10)                3940      \n",
            "                                                                 \n",
            "=================================================================\n",
            "Total params: 467,287\n",
            "Trainable params: 467,287\n",
            "Non-trainable params: 0\n",
            "_________________________________________________________________\n"
          ]
        }
      ]
    },
    {
      "cell_type": "markdown",
      "source": [
        "**Conclusão**\n",
        "\n",
        "O teste foi realizado com uma rede neural simples\n",
        "\n",
        "As imagens eram pequenas com 28 x 28 pixels de dimensão\n",
        "\n",
        "O modelo foi treinado com 50 epocas de forma relativamente rápida\n",
        "\n",
        "As imagens não foram normalizadas, nem processadas\n",
        "\n",
        "Mesmo assim, o modelo conseguiu se sair bem. Atingiu acurácia de **96%** e tempo de execução de 1 segundo por epoca e 4 ms por passo.\n",
        "\n",
        "O modelo se saiu bem, mas cabem melhorias. Por ser um caso de estudo simples e reduzido foi possível verificar diversos conceitos relativos a construção de uma rede neural para a classificação de imagens."
      ],
      "metadata": {
        "id": "rNi7lpCosmFt"
      }
    }
  ]
}