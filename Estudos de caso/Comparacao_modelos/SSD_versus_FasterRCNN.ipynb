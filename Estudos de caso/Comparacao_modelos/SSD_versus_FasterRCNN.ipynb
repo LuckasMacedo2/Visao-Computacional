{
  "nbformat": 4,
  "nbformat_minor": 0,
  "metadata": {
    "colab": {
      "name": "Cópia de SSD_versus_FasterRCNN.ipynb",
      "provenance": [],
      "collapsed_sections": []
    },
    "kernelspec": {
      "name": "python3",
      "display_name": "Python 3"
    },
    "language_info": {
      "name": "python"
    }
  },
  "cells": [
    {
      "cell_type": "markdown",
      "source": [
        "**Comparação SSD e FASTER RCNN**\n",
        "\n",
        "Este notebook busca explorar os modelos Single Shot Detector e Faster RCNN utilizando a TensorFlow Object Detection API. Os modelos foram treinados com o conjunto de dados COCO dataset.\n",
        "- Single Shot Detector - SSD: O modelo SSD utiliza uma única rede neural para a detecção de objetos. A imagem é dividida em diversas caixas delimitadoras e dentro destas caixas delimitadoras os objetos são detectados;\n",
        "- Faster RCNN: Utiliza uma rede de proposta de regiões no lufgar da busca seletiva a fim de utilizar menos recurosos computacionais.\n",
        "\n",
        "Os modelos foram implementados baseados na API retormencionada e foram realizados testes com dois grupos de imagens. Um grupo de 10 imagens obtidos da internet (Grupo imagens da internet) e um grupo com três imagens presentes no próprio projeto utilizado como base que contém os modelos (Grupo projeto)\n",
        "\n",
        "**Resultados**\n",
        "\n",
        "**Grupo imagens da internet**: este grupo é composto por 10 imagens obtidas da internet, ele contém diferentes tipos de objetos. As iamgens possuem dimensões diferentes.\n",
        "- SSD: O modelo foi executado em 2,4 ns que foi extremamente rápido. O modelo obteve bons resultados, mas não conseguiu distinguir bem todos os objetos. Por exemplo, em uma das imagens que contém um computador, o SSD não conseguiu detectar o mouse.\n",
        "- Faster RCNN: O modelo foi lento na execução demorando 746 ns para realizar a detecção completa das imagens. Contudo o resultado foi excelente, o modelo conseguiur detectar bem todos os objetos e encontrar objetos pequenos, como, por exemplo, o mouse que o SSD não conseguiu detectar.\n",
        "\n",
        "**Grupo projeto**: este grupo contém três imagens próprias do projeto base. Neste grupo o SSD se sobresaiu em questão de tempo de execução enquanto a Faster RCNN se sobresaiu na questão de detecção.\n",
        "\n",
        "Portanto em questões de tempo de execução o modelo YOLO se sobressae enquanto em termos de acurácia na detecção o modelo Faster RCNN se sobresai.\n",
        "\n",
        "O restante do notebook mostra o desenvolvimento dos experimentos."
      ],
      "metadata": {
        "id": "t9zO04cm6WIk"
      }
    },
    {
      "cell_type": "code",
      "execution_count": null,
      "metadata": {
        "colab": {
          "base_uri": "https://localhost:8080/"
        },
        "id": "2Sx1D8wm6VJU",
        "outputId": "a28636bd-760f-4a60-b3f6-369ea7cb4c5f"
      },
      "outputs": [
        {
          "output_type": "stream",
          "name": "stdout",
          "text": [
            "Drive already mounted at /content/drive; to attempt to forcibly remount, call drive.mount(\"/content/drive\", force_remount=True).\n"
          ]
        }
      ],
      "source": [
        "from google.colab import drive\n",
        "drive.mount('/content/drive')"
      ]
    },
    {
      "cell_type": "code",
      "source": [
        "# Instalando o tensorflow e os pacotes necessários\n",
        "!pip install tensorflow==2.7.0 # Evitar erros\n",
        "!pip install pycocotools\n",
        "!pip install tf_slim"
      ],
      "metadata": {
        "colab": {
          "base_uri": "https://localhost:8080/"
        },
        "id": "5Ou2Jkkk6mG8",
        "outputId": "0117f801-dc2b-46c9-e08a-7a357cb77c11"
      },
      "execution_count": null,
      "outputs": [
        {
          "output_type": "stream",
          "name": "stdout",
          "text": [
            "Requirement already satisfied: tensorflow==2.7.0 in /usr/local/lib/python3.7/dist-packages (2.7.0)\n",
            "Requirement already satisfied: opt-einsum>=2.3.2 in /usr/local/lib/python3.7/dist-packages (from tensorflow==2.7.0) (3.3.0)\n",
            "Requirement already satisfied: protobuf>=3.9.2 in /usr/local/lib/python3.7/dist-packages (from tensorflow==2.7.0) (3.17.3)\n",
            "Requirement already satisfied: google-pasta>=0.1.1 in /usr/local/lib/python3.7/dist-packages (from tensorflow==2.7.0) (0.2.0)\n",
            "Requirement already satisfied: numpy>=1.14.5 in /usr/local/lib/python3.7/dist-packages (from tensorflow==2.7.0) (1.21.6)\n",
            "Requirement already satisfied: absl-py>=0.4.0 in /usr/local/lib/python3.7/dist-packages (from tensorflow==2.7.0) (1.0.0)\n",
            "Requirement already satisfied: flatbuffers<3.0,>=1.12 in /usr/local/lib/python3.7/dist-packages (from tensorflow==2.7.0) (2.0)\n",
            "Requirement already satisfied: six>=1.12.0 in /usr/local/lib/python3.7/dist-packages (from tensorflow==2.7.0) (1.15.0)\n",
            "Requirement already satisfied: grpcio<2.0,>=1.24.3 in /usr/local/lib/python3.7/dist-packages (from tensorflow==2.7.0) (1.46.1)\n",
            "Requirement already satisfied: gast<0.5.0,>=0.2.1 in /usr/local/lib/python3.7/dist-packages (from tensorflow==2.7.0) (0.4.0)\n",
            "Requirement already satisfied: tensorflow-io-gcs-filesystem>=0.21.0 in /usr/local/lib/python3.7/dist-packages (from tensorflow==2.7.0) (0.25.0)\n",
            "Requirement already satisfied: keras<2.8,>=2.7.0rc0 in /usr/local/lib/python3.7/dist-packages (from tensorflow==2.7.0) (2.7.0)\n",
            "Requirement already satisfied: tensorboard~=2.6 in /usr/local/lib/python3.7/dist-packages (from tensorflow==2.7.0) (2.8.0)\n",
            "Requirement already satisfied: typing-extensions>=3.6.6 in /usr/local/lib/python3.7/dist-packages (from tensorflow==2.7.0) (4.2.0)\n",
            "Requirement already satisfied: tensorflow-estimator<2.8,~=2.7.0rc0 in /usr/local/lib/python3.7/dist-packages (from tensorflow==2.7.0) (2.7.0)\n",
            "Requirement already satisfied: termcolor>=1.1.0 in /usr/local/lib/python3.7/dist-packages (from tensorflow==2.7.0) (1.1.0)\n",
            "Requirement already satisfied: h5py>=2.9.0 in /usr/local/lib/python3.7/dist-packages (from tensorflow==2.7.0) (3.1.0)\n",
            "Requirement already satisfied: libclang>=9.0.1 in /usr/local/lib/python3.7/dist-packages (from tensorflow==2.7.0) (14.0.1)\n",
            "Requirement already satisfied: astunparse>=1.6.0 in /usr/local/lib/python3.7/dist-packages (from tensorflow==2.7.0) (1.6.3)\n",
            "Requirement already satisfied: wrapt>=1.11.0 in /usr/local/lib/python3.7/dist-packages (from tensorflow==2.7.0) (1.14.1)\n",
            "Requirement already satisfied: wheel<1.0,>=0.32.0 in /usr/local/lib/python3.7/dist-packages (from tensorflow==2.7.0) (0.37.1)\n",
            "Requirement already satisfied: keras-preprocessing>=1.1.1 in /usr/local/lib/python3.7/dist-packages (from tensorflow==2.7.0) (1.1.2)\n",
            "Requirement already satisfied: cached-property in /usr/local/lib/python3.7/dist-packages (from h5py>=2.9.0->tensorflow==2.7.0) (1.5.2)\n",
            "Requirement already satisfied: markdown>=2.6.8 in /usr/local/lib/python3.7/dist-packages (from tensorboard~=2.6->tensorflow==2.7.0) (3.3.7)\n",
            "Requirement already satisfied: setuptools>=41.0.0 in /usr/local/lib/python3.7/dist-packages (from tensorboard~=2.6->tensorflow==2.7.0) (57.4.0)\n",
            "Requirement already satisfied: requests<3,>=2.21.0 in /usr/local/lib/python3.7/dist-packages (from tensorboard~=2.6->tensorflow==2.7.0) (2.23.0)\n",
            "Requirement already satisfied: tensorboard-data-server<0.7.0,>=0.6.0 in /usr/local/lib/python3.7/dist-packages (from tensorboard~=2.6->tensorflow==2.7.0) (0.6.1)\n",
            "Requirement already satisfied: tensorboard-plugin-wit>=1.6.0 in /usr/local/lib/python3.7/dist-packages (from tensorboard~=2.6->tensorflow==2.7.0) (1.8.1)\n",
            "Requirement already satisfied: werkzeug>=0.11.15 in /usr/local/lib/python3.7/dist-packages (from tensorboard~=2.6->tensorflow==2.7.0) (1.0.1)\n",
            "Requirement already satisfied: google-auth<3,>=1.6.3 in /usr/local/lib/python3.7/dist-packages (from tensorboard~=2.6->tensorflow==2.7.0) (1.35.0)\n",
            "Requirement already satisfied: google-auth-oauthlib<0.5,>=0.4.1 in /usr/local/lib/python3.7/dist-packages (from tensorboard~=2.6->tensorflow==2.7.0) (0.4.6)\n",
            "Requirement already satisfied: rsa<5,>=3.1.4 in /usr/local/lib/python3.7/dist-packages (from google-auth<3,>=1.6.3->tensorboard~=2.6->tensorflow==2.7.0) (4.8)\n",
            "Requirement already satisfied: cachetools<5.0,>=2.0.0 in /usr/local/lib/python3.7/dist-packages (from google-auth<3,>=1.6.3->tensorboard~=2.6->tensorflow==2.7.0) (4.2.4)\n",
            "Requirement already satisfied: pyasn1-modules>=0.2.1 in /usr/local/lib/python3.7/dist-packages (from google-auth<3,>=1.6.3->tensorboard~=2.6->tensorflow==2.7.0) (0.2.8)\n",
            "Requirement already satisfied: requests-oauthlib>=0.7.0 in /usr/local/lib/python3.7/dist-packages (from google-auth-oauthlib<0.5,>=0.4.1->tensorboard~=2.6->tensorflow==2.7.0) (1.3.1)\n",
            "Requirement already satisfied: importlib-metadata>=4.4 in /usr/local/lib/python3.7/dist-packages (from markdown>=2.6.8->tensorboard~=2.6->tensorflow==2.7.0) (4.11.3)\n",
            "Requirement already satisfied: zipp>=0.5 in /usr/local/lib/python3.7/dist-packages (from importlib-metadata>=4.4->markdown>=2.6.8->tensorboard~=2.6->tensorflow==2.7.0) (3.8.0)\n",
            "Requirement already satisfied: pyasn1<0.5.0,>=0.4.6 in /usr/local/lib/python3.7/dist-packages (from pyasn1-modules>=0.2.1->google-auth<3,>=1.6.3->tensorboard~=2.6->tensorflow==2.7.0) (0.4.8)\n",
            "Requirement already satisfied: urllib3!=1.25.0,!=1.25.1,<1.26,>=1.21.1 in /usr/local/lib/python3.7/dist-packages (from requests<3,>=2.21.0->tensorboard~=2.6->tensorflow==2.7.0) (1.24.3)\n",
            "Requirement already satisfied: idna<3,>=2.5 in /usr/local/lib/python3.7/dist-packages (from requests<3,>=2.21.0->tensorboard~=2.6->tensorflow==2.7.0) (2.10)\n",
            "Requirement already satisfied: chardet<4,>=3.0.2 in /usr/local/lib/python3.7/dist-packages (from requests<3,>=2.21.0->tensorboard~=2.6->tensorflow==2.7.0) (3.0.4)\n",
            "Requirement already satisfied: certifi>=2017.4.17 in /usr/local/lib/python3.7/dist-packages (from requests<3,>=2.21.0->tensorboard~=2.6->tensorflow==2.7.0) (2021.10.8)\n",
            "Requirement already satisfied: oauthlib>=3.0.0 in /usr/local/lib/python3.7/dist-packages (from requests-oauthlib>=0.7.0->google-auth-oauthlib<0.5,>=0.4.1->tensorboard~=2.6->tensorflow==2.7.0) (3.2.0)\n",
            "Requirement already satisfied: pycocotools in /usr/local/lib/python3.7/dist-packages (2.0.4)\n",
            "Requirement already satisfied: numpy in /usr/local/lib/python3.7/dist-packages (from pycocotools) (1.21.6)\n",
            "Requirement already satisfied: matplotlib>=2.1.0 in /usr/local/lib/python3.7/dist-packages (from pycocotools) (3.2.2)\n",
            "Requirement already satisfied: cycler>=0.10 in /usr/local/lib/python3.7/dist-packages (from matplotlib>=2.1.0->pycocotools) (0.11.0)\n",
            "Requirement already satisfied: python-dateutil>=2.1 in /usr/local/lib/python3.7/dist-packages (from matplotlib>=2.1.0->pycocotools) (2.8.2)\n",
            "Requirement already satisfied: kiwisolver>=1.0.1 in /usr/local/lib/python3.7/dist-packages (from matplotlib>=2.1.0->pycocotools) (1.4.2)\n",
            "Requirement already satisfied: pyparsing!=2.0.4,!=2.1.2,!=2.1.6,>=2.0.1 in /usr/local/lib/python3.7/dist-packages (from matplotlib>=2.1.0->pycocotools) (3.0.9)\n",
            "Requirement already satisfied: typing-extensions in /usr/local/lib/python3.7/dist-packages (from kiwisolver>=1.0.1->matplotlib>=2.1.0->pycocotools) (4.2.0)\n",
            "Requirement already satisfied: six>=1.5 in /usr/local/lib/python3.7/dist-packages (from python-dateutil>=2.1->matplotlib>=2.1.0->pycocotools) (1.15.0)\n",
            "Requirement already satisfied: tf_slim in /usr/local/lib/python3.7/dist-packages (1.1.0)\n",
            "Requirement already satisfied: absl-py>=0.2.2 in /usr/local/lib/python3.7/dist-packages (from tf_slim) (1.0.0)\n",
            "Requirement already satisfied: six in /usr/local/lib/python3.7/dist-packages (from absl-py>=0.2.2->tf_slim) (1.15.0)\n"
          ]
        }
      ]
    },
    {
      "cell_type": "code",
      "source": [
        "# Importações necessárias\n",
        "import os\n",
        "import pathlib\n",
        "\n",
        "import numpy as np\n",
        "import os\n",
        "import six.moves.urllib as urllib\n",
        "import sys\n",
        "import tarfile\n",
        "import zipfile\n",
        "\n",
        "from collections import defaultdict\n",
        "from io import StringIO\n",
        "from matplotlib import pyplot as plt\n",
        "from PIL import Image\n",
        "from IPython.display import display\n",
        "\n",
        "import tensorflow as tf"
      ],
      "metadata": {
        "id": "BW2CNOCD6utr"
      },
      "execution_count": null,
      "outputs": []
    },
    {
      "cell_type": "code",
      "source": [
        "# Fazendo o Download da API\n",
        "if \"models\" in pathlib.Path.cwd().parts:\n",
        "  while \"models\" in pathlib.Path.cwd().parts:\n",
        "    os.chdir('..')\n",
        "elif not pathlib.Path('models').exists():\n",
        "  !git clone --depth 1 https://github.com/tensorflow/models"
      ],
      "metadata": {
        "id": "DkuPhfab6wv7"
      },
      "execution_count": null,
      "outputs": []
    },
    {
      "cell_type": "code",
      "source": [
        "# Compilando o modelo\n",
        "%cd /content/models/research/\n",
        "!protoc object_detection/protos/*.proto --python_out=."
      ],
      "metadata": {
        "colab": {
          "base_uri": "https://localhost:8080/"
        },
        "id": "jmnem5q86yNq",
        "outputId": "060df97f-61d3-4e57-fe05-ce593a92cc10"
      },
      "execution_count": null,
      "outputs": [
        {
          "output_type": "stream",
          "name": "stdout",
          "text": [
            "/content/models/research\n"
          ]
        }
      ]
    },
    {
      "cell_type": "code",
      "source": [
        "from object_detection.utils import ops as utils_ops\n",
        "from object_detection.utils import label_map_util\n",
        "from object_detection.utils import visualization_utils as vis_util"
      ],
      "metadata": {
        "id": "Jmn55doQ9PvE"
      },
      "execution_count": null,
      "outputs": []
    },
    {
      "cell_type": "code",
      "source": [
        "'''\n",
        "  Classe base para criar um modelo baseado na API de detecção de objetos do TensorFlow\n",
        "'''\n",
        "class ModeloObjectDetectionAPI():\n",
        "  nome_modelo = ''\n",
        "  caminho_labels = ''\n",
        "  indices_categorias = {}\n",
        "  modelo = None\n",
        "  output_dict = {}\n",
        "  nivel_confianca = 0.0\n",
        "\n",
        "  def __init__(self, nome_modelo = '', caminho_labels = '', nivel_confianca = 0.5):\n",
        "    self.nome_modelo = nome_modelo\n",
        "    self.caminho_labels = caminho_labels\n",
        "    self.indices_categorias = label_map_util.create_category_index_from_labelmap(caminho_labels, use_display_name=True)\n",
        "    self.nivel_confianca = nivel_confianca\n",
        "    self.carregar_model()\n",
        "    \n",
        "  \n",
        "  def carregar_model(self):\n",
        "    '''\n",
        "      Realiza o download e cria o modelo\n",
        "    '''\n",
        "    base_url = 'http://download.tensorflow.org/models/object_detection/'  # Link para baixar o modelo\n",
        "    model_file = self.nome_modelo + '.tar.gz'\n",
        "\n",
        "    model_dir = tf.keras.utils.get_file(\n",
        "      fname=self.nome_modelo, \n",
        "      origin=base_url + model_file,\n",
        "      untar=True)\n",
        "\n",
        "    model_dir = pathlib.Path(model_dir)/'saved_model'\n",
        "\n",
        "    model = tf.saved_model.load(str(model_dir))\n",
        "    model = model.signatures['serving_default']\n",
        "\n",
        "    self.modelo = model\n",
        "    \n",
        "  def executar_deteccao_imagem(self, imagem):\n",
        "    '''\n",
        "      Realiza a detecção dos objetos em um única imagem\n",
        "    '''\n",
        "    imagem = np.asarray(imagem) # Convertendo para numpy\n",
        "\n",
        "    input_tensor = tf.convert_to_tensor(imagem) # Convertendo para o formato do tensor\n",
        "    input_tensor = input_tensor[tf.newaxis, ...] # Adicionando uma nova dimensão no tensor que diz respeito ao batch size\n",
        "\n",
        "    # Executando a inferência\n",
        "    self.output_dict = self.modelo(input_tensor)\n",
        "\n",
        "    # Convertendo para array numpy e removendo a dimensão extra\n",
        "    num_detections = int(self.output_dict.pop('num_detections'))\n",
        "\n",
        "    self.output_dict = {key:value[0, :num_detections].numpy() for key, value in self.output_dict.items()}\n",
        "    self.output_dict['num_detections'] = num_detections\n",
        "\n",
        "    # Convertendo as classes para int\n",
        "    self.output_dict['detection_classes'] = self.output_dict['detection_classes'].astype(np.int64)\n",
        "\n",
        "    # Manipulando os modelos e as máscaras\n",
        "\n",
        "    if 'detection_masks' in self.output_dict:\n",
        "      # Corrigindo o tamanho da imagem e adicionado a caixa delimitadora\n",
        "      detection_reframed = utils_ops.reframe_box_masks_to_image_masks(self.output_dict['detection_masks'],\n",
        "                                                                      self.output_dict['detection_masks'], self.output_dict['detection_boxes'],\n",
        "                                                                      imagem.shape[0], imagem.shape[1])\n",
        "      detection_reframed = tf.cast(detection_reframed > self.nivel_confianca, tf.uint8)\n",
        "      self.output_dict['detection_masks_reframed'] = detection_reframed.numpy()\n",
        "\n",
        "    return self.output_dict\n",
        "\n",
        "  def detectar_mostrar_inferencia(self, imagem_path):\n",
        "    '''\n",
        "      Mostra a inferência da imagem\n",
        "    '''\n",
        "    # Preparando a imagem para ser dada como entrada para a rede\n",
        "    imagem_np = np.array(Image.open(imagem_path))\n",
        "    output_dict = self.executar_deteccao_imagem(imagem_np)\n",
        "\n",
        "    # Exibindo o resultado\n",
        "    self.mostrar_inferencia(output_dict, imagem_np)\n",
        "\n",
        "  def mostrar_inferencia(self, output_dict, imagem_np):\n",
        "    vis_util.visualize_boxes_and_labels_on_image_array(\n",
        "    imagem_np,\n",
        "    output_dict['detection_boxes'],\n",
        "    output_dict['detection_classes'],\n",
        "    output_dict['detection_scores'],\n",
        "    self.indices_categorias,\n",
        "    instance_masks=output_dict.get('detection_masks_reframed', None),\n",
        "    use_normalized_coordinates=True,\n",
        "    line_thickness=8)\n",
        "\n",
        "    display(Image.fromarray(imagem_np))"
      ],
      "metadata": {
        "id": "zdRwf3Ju6zf6"
      },
      "execution_count": null,
      "outputs": []
    },
    {
      "cell_type": "markdown",
      "source": [
        "**Carregando e processando as imagens**"
      ],
      "metadata": {
        "id": "HYQRu8KX7I6T"
      }
    },
    {
      "cell_type": "code",
      "source": [
        "PATH_TO_TEST_IMAGES_DIR = pathlib.Path('/content/drive/MyDrive/Mestrado/Estudos de caso/Dataset-Testes')\n",
        "TEST_IMAGE_PATHS = sorted(list(PATH_TO_TEST_IMAGES_DIR.glob(\"*.jpg\")))"
      ],
      "metadata": {
        "id": "nNETvirA62pa"
      },
      "execution_count": null,
      "outputs": []
    },
    {
      "cell_type": "code",
      "source": [
        "TEST_IMAGE_PATHS"
      ],
      "metadata": {
        "colab": {
          "base_uri": "https://localhost:8080/"
        },
        "id": "pVY4qzED8RmD",
        "outputId": "8a5920e5-5fdd-41dd-f9c1-963c5a8db74b"
      },
      "execution_count": null,
      "outputs": [
        {
          "output_type": "execute_result",
          "data": {
            "text/plain": [
              "[PosixPath('/content/drive/MyDrive/Mestrado/Estudos de caso/Dataset-Testes/baseball.jpg'),\n",
              " PosixPath('/content/drive/MyDrive/Mestrado/Estudos de caso/Dataset-Testes/coca-cola.jpg'),\n",
              " PosixPath('/content/drive/MyDrive/Mestrado/Estudos de caso/Dataset-Testes/computador2.jpg'),\n",
              " PosixPath('/content/drive/MyDrive/Mestrado/Estudos de caso/Dataset-Testes/img-policial.jpg'),\n",
              " PosixPath('/content/drive/MyDrive/Mestrado/Estudos de caso/Dataset-Testes/mesa.jpg'),\n",
              " PosixPath('/content/drive/MyDrive/Mestrado/Estudos de caso/Dataset-Testes/pessoas.jpg'),\n",
              " PosixPath('/content/drive/MyDrive/Mestrado/Estudos de caso/Dataset-Testes/rua01.jpg'),\n",
              " PosixPath('/content/drive/MyDrive/Mestrado/Estudos de caso/Dataset-Testes/rua02.jpg'),\n",
              " PosixPath('/content/drive/MyDrive/Mestrado/Estudos de caso/Dataset-Testes/volei.jpg')]"
            ]
          },
          "metadata": {},
          "execution_count": 104
        }
      ]
    },
    {
      "cell_type": "code",
      "source": [
        "%matplotlib inline"
      ],
      "metadata": {
        "id": "hpPSHWf4CA1n"
      },
      "execution_count": null,
      "outputs": []
    },
    {
      "cell_type": "code",
      "source": [
        "import cv2\n",
        "def mostrar_imagem(imagem):\n",
        "  fig = plt.gcf() # Limpa as configurações do gráfico\n",
        "  fig.set_size_inches(18, 6)\n",
        "  plt.imshow(cv2.cvtColor(imagem, cv2.COLOR_BGR2RGB), cmap='gray')\n",
        "  plt.axis('off')\n",
        "  plt.show()"
      ],
      "metadata": {
        "id": "OqMz7iTc7aw9"
      },
      "execution_count": null,
      "outputs": []
    },
    {
      "cell_type": "code",
      "source": [
        "# Exibindo as imagens dos dados de teste\n",
        "for image in TEST_IMAGE_PATHS:\n",
        "  mostrar_imagem(cv2.imread(str(image)))"
      ],
      "metadata": {
        "id": "AExVnV4m8CKE"
      },
      "execution_count": null,
      "outputs": []
    },
    {
      "cell_type": "code",
      "source": [
        "modelo_fasterRCNN = ModeloObjectDetectionAPI(nome_modelo = 'faster_rcnn_nas_coco_2018_01_28', caminho_labels='/content/models/research/object_detection/data/mscoco_label_map.pbtxt')"
      ],
      "metadata": {
        "colab": {
          "base_uri": "https://localhost:8080/"
        },
        "id": "ju90vgpG8idE",
        "outputId": "7073bb15-c1ed-4962-a96c-646ddf24a015"
      },
      "execution_count": null,
      "outputs": [
        {
          "output_type": "stream",
          "name": "stdout",
          "text": [
            "INFO:tensorflow:Saver not created because there are no variables in the graph to restore\n"
          ]
        }
      ]
    },
    {
      "cell_type": "code",
      "source": [
        "modeloSSD = ModeloObjectDetectionAPI(nome_modelo = 'ssd_mobilenet_v2_coco_2018_03_29', caminho_labels='/content/models/research/object_detection/data/mscoco_label_map.pbtxt')"
      ],
      "metadata": {
        "colab": {
          "base_uri": "https://localhost:8080/"
        },
        "id": "GI1rExXG9Ko0",
        "outputId": "4607f311-92b4-4e77-ff44-22cce8f09415"
      },
      "execution_count": null,
      "outputs": [
        {
          "output_type": "stream",
          "name": "stdout",
          "text": [
            "INFO:tensorflow:Saver not created because there are no variables in the graph to restore\n"
          ]
        }
      ]
    },
    {
      "cell_type": "code",
      "source": [
        "import time\n",
        "from tqdm import tqdm"
      ],
      "metadata": {
        "id": "hAksz8Qv_LN0"
      },
      "execution_count": null,
      "outputs": []
    },
    {
      "cell_type": "code",
      "source": [
        "def testar_modelos(modelo, test_images):\n",
        "  dict_deteccoes = []\n",
        "  image_np = []\n",
        "\n",
        "\n",
        "  # Faster RCNN\n",
        "  for image in tqdm(test_images, total = len(test_images)):\n",
        "    imagem_np = np.array(Image.open(image))\n",
        "    dict_deteccoes.append(modelo.executar_deteccao_imagem(imagem_np))\n",
        "    image_np.append(imagem_np)\n",
        "  \n",
        "  return dict_deteccoes, image_np"
      ],
      "metadata": {
        "id": "cyDt00J39ikF"
      },
      "execution_count": null,
      "outputs": []
    },
    {
      "cell_type": "code",
      "source": [
        "inicio = time.time()\n",
        "dict_deteccoes_FasterRCNN, image_np_FasterRCNN = testar_modelos(modelo_fasterRCNN, TEST_IMAGE_PATHS)\n",
        "fim = time.time()"
      ],
      "metadata": {
        "id": "BO_MDHN0-Tpj",
        "colab": {
          "base_uri": "https://localhost:8080/"
        },
        "outputId": "5bb38d23-2ac2-43ea-c1eb-6c682ec3413c"
      },
      "execution_count": null,
      "outputs": [
        {
          "output_type": "stream",
          "name": "stderr",
          "text": [
            "100%|██████████| 9/9 [12:25<00:00, 82.88s/it]\n"
          ]
        }
      ]
    },
    {
      "cell_type": "code",
      "source": [
        "tempo_execucao_faster_RCNN = fim - inicio\n",
        "print(f'Faster RCNN - tempo de execução: {fim - inicio} ns')"
      ],
      "metadata": {
        "colab": {
          "base_uri": "https://localhost:8080/"
        },
        "id": "WT0-Pst_Cybf",
        "outputId": "80b03f37-4cfb-468e-b673-3be77adf6733"
      },
      "execution_count": null,
      "outputs": [
        {
          "output_type": "stream",
          "name": "stdout",
          "text": [
            "Faster RCNN - tempo de execução: 745.9581453800201 ns\n"
          ]
        }
      ]
    },
    {
      "cell_type": "code",
      "source": [
        "inicio = time.time()\n",
        "dict_deteccoes_SSD, image_np_SSD = testar_modelos(modeloSSD, TEST_IMAGE_PATHS)\n",
        "fim = time.time()"
      ],
      "metadata": {
        "colab": {
          "base_uri": "https://localhost:8080/"
        },
        "id": "a1GunlLqE2HP",
        "outputId": "780cc73c-1e02-402b-b187-db7f5b284195"
      },
      "execution_count": null,
      "outputs": [
        {
          "output_type": "stream",
          "name": "stderr",
          "text": [
            "100%|██████████| 9/9 [00:02<00:00,  3.77it/s]\n"
          ]
        }
      ]
    },
    {
      "cell_type": "code",
      "source": [
        "tempo_execucao_faster_RCNN = fim - inicio\n",
        "print(f'SSD - tempo de execução: {fim - inicio} ns')"
      ],
      "metadata": {
        "colab": {
          "base_uri": "https://localhost:8080/"
        },
        "id": "2LU4mnoqIi9Q",
        "outputId": "5d1ed027-36ec-489f-b36a-6eeb3bab9b41"
      },
      "execution_count": null,
      "outputs": [
        {
          "output_type": "stream",
          "name": "stdout",
          "text": [
            "SSD - tempo de execução: 2.3994100093841553 ns\n"
          ]
        }
      ]
    },
    {
      "cell_type": "code",
      "source": [
        "for i in tqdm(range(len(dict_deteccoes_FasterRCNN))):\n",
        "  nome_img = str(TEST_IMAGE_PATHS[i]).split('/')[-1].split('.')[0]\n",
        "  print(f'Imagem: {nome_img}')\n",
        "  modelo_fasterRCNN.mostrar_inferencia(dict_deteccoes_FasterRCNN[i], image_np_FasterRCNN[i])\n",
        "  modeloSSD.mostrar_inferencia(dict_deteccoes_SSD[i], image_np_SSD[i])"
      ],
      "metadata": {
        "id": "h-Gn9k4MLa9p"
      },
      "execution_count": null,
      "outputs": []
    },
    {
      "cell_type": "code",
      "source": [
        "PATH_TO_TEST_IMAGES_DIR = pathlib.Path('/content/models/research/object_detection/test_images')\n",
        "TEST_IMAGE_PATHS = sorted(list(PATH_TO_TEST_IMAGES_DIR.glob(\"*.jpg\")))"
      ],
      "metadata": {
        "id": "rYpKdruMO9SS"
      },
      "execution_count": null,
      "outputs": []
    },
    {
      "cell_type": "code",
      "source": [
        "inicio = time.time()\n",
        "for image_path in TEST_IMAGE_PATHS:\n",
        "  modeloSSD.detectar_mostrar_inferencia(image_path)\n",
        "fim = time.time()"
      ],
      "metadata": {
        "id": "q1pT7u5CSoKR"
      },
      "execution_count": null,
      "outputs": []
    },
    {
      "cell_type": "code",
      "source": [
        "tempo_execucao_faster_RCNN = fim - inicio\n",
        "print(f'SSD - tempo de execução: {fim - inicio} ns')"
      ],
      "metadata": {
        "colab": {
          "base_uri": "https://localhost:8080/"
        },
        "id": "RoIpPbGHXWG6",
        "outputId": "f827caf0-a01c-405e-9fa0-92ce1fddbef2"
      },
      "execution_count": null,
      "outputs": [
        {
          "output_type": "stream",
          "name": "stdout",
          "text": [
            "SSD - tempo de execução: 5.221132755279541 ns\n"
          ]
        }
      ]
    },
    {
      "cell_type": "code",
      "source": [
        "inicio = time.time()\n",
        "for image_path in TEST_IMAGE_PATHS:\n",
        "  modelo_fasterRCNN.detectar_mostrar_inferencia(image_path)\n",
        "fim = time.time()"
      ],
      "metadata": {
        "id": "FMRhBWX3Sw1Z"
      },
      "execution_count": null,
      "outputs": []
    },
    {
      "cell_type": "code",
      "source": [
        "tempo_execucao_faster_RCNN = fim - inicio\n",
        "print(f'Faster RCNN - tempo de execução: {fim - inicio} ns')"
      ],
      "metadata": {
        "colab": {
          "base_uri": "https://localhost:8080/"
        },
        "id": "x461rvqxT8Ci",
        "outputId": "3309722f-7dbd-4ea1-83f0-e2f4c6d046f7"
      },
      "execution_count": null,
      "outputs": [
        {
          "output_type": "stream",
          "name": "stdout",
          "text": [
            "Faster RCNN - tempo de execução: 256.4962058067322 ns\n"
          ]
        }
      ]
    }
  ]
}