{
  "nbformat": 4,
  "nbformat_minor": 0,
  "metadata": {
    "colab": {
      "name": "Mnist-fashion-dataset-redes-neurais.ipynb",
      "provenance": [],
      "collapsed_sections": []
    },
    "kernelspec": {
      "name": "python3",
      "display_name": "Python 3"
    },
    "language_info": {
      "name": "python"
    }
  },
  "cells": [
    {
      "cell_type": "markdown",
      "source": [
        "**Estudo de caso - Dataset Mnist fashion**\n",
        "\n",
        "Este estudo de caso busca explorar o conjunto de dados Mnist fashion e aplicar uma rede neural para predizer a classe ao qual a imagem pertence."
      ],
      "metadata": {
        "id": "hy57W4uUiOOb"
      }
    },
    {
      "cell_type": "code",
      "source": [
        "# Import das bibliotecas\n",
        "# Dataset\n",
        "from keras.datasets import mnist\n",
        "\n",
        "# Processamento\n",
        "from google.colab.patches import cv2_imshow\n",
        "import cv2 \n",
        "import numpy as np\n",
        "import zipfile\n",
        "import os\n",
        "\n",
        "# Construção da rede\n",
        "import tensorflow as tf\n",
        "import pandas as pd\n",
        "from sklearn.model_selection import train_test_split\n",
        "\n",
        "# Plots\n",
        "import seaborn as sns\n",
        "import matplotlib.pyplot as plt\n",
        "\n",
        "# Google colab\n",
        "\n",
        "from google.colab import drive\n",
        "\n",
        "# Métricas de avaliação\n",
        "from sklearn.metrics import confusion_matrix\n",
        "from sklearn.metrics import accuracy_score\n",
        "from sklearn.metrics import classification_report\n",
        "\n",
        "# Salvar o modelo\n",
        "from keras.models import save_model"
      ],
      "metadata": {
        "id": "SV4m-dauihdA"
      },
      "execution_count": 104,
      "outputs": []
    },
    {
      "cell_type": "code",
      "source": [
        "def mostrar_imagem(imagem):\n",
        "  ''' Mostra a imagem redimensionada para 200 x 200 pixels\n",
        "      Parâmetros:\n",
        "        imagem: Imagem a ser exibida\n",
        "  ''' \n",
        "  cv2_imshow(cv2.resize(imagem, dsize=(200, 200), interpolation=cv2.INTER_CUBIC))\n",
        "  \n",
        "def histograma_imagem(imagem):\n",
        "  ''' Plota o histograma com as distribuições dos pixels de uma imagem\n",
        "      Parâmetros:\n",
        "        imagem: imagem que o histograma será mostrado\n",
        "  '''\n",
        "  plt.hist(imagem)\n",
        "  \n",
        "def converter_matriz_vetor(matriz):\n",
        "  ''' Converte uma matriz em um vetor nparray\n",
        "      Parâmetros:\n",
        "        matriz -> matriz a ser convertida no vetor\n",
        "  '''\n",
        "  return np.asarray([x.ravel() for x in matriz])\n",
        "  \n",
        "def plotar_graficos(graficos, titulos):\n",
        "  fig, axes = plt.subplots(1, len(graficos), figsize = (10, 10), linewidth=3)\n",
        "\n",
        "  for i in range(0, len(axes)):\n",
        "    axes[i].plot(graficos[i])\n",
        "    if len(titulos) > i:\n",
        "      axes[i].set_title(titulos[i])\n",
        "\n",
        "def verificar_predicao(indice_classificacao, X, y, classificacao):\n",
        "  ''' Verifica a predição do modelo mostrando a classe real e a classe predita, bem como o plot da imagem do dataset de teste\n",
        "      Parâmetros:\n",
        "        indice_classificacao -> indice do item a ser verificado\n",
        "        X -> dados de teste\n",
        "        y -> label dos dados de teste\n",
        "        classificacao -> dados da classificação realizada pelo modelo\n",
        "  '''\n",
        "  classe_real = y[indice_classificacao]\n",
        "  classe_predita = classificacao[indice_classificacao]\n",
        "  predicao = 'acertou' if classe_real == classe_predita else 'errou'\n",
        "  print(f'Classe real: {classe_real}\\nClasse predita: {classe_predita}\\nModelo { predicao }')\n",
        "  mostrar_imagem(X[indice_classificacao].reshape(28,28))\n",
        "  \n",
        "def salvar_modelo_pesos(modelo, nome_arq_modelo, nome_arq_peso):\n",
        "  ''' Salva o modelo em um arquivo .json e os pesos em um arquivo .hdf5\n",
        "      Parâmetros:\n",
        "        modelo -> modelo a ser salvo\n",
        "        nome_arq_modelo -> nome do arquivo que o modelo será salvo\n",
        "        nome_arq_peso -> nome do arquivo que os pesos serão salvos\n",
        "  ''' \n",
        "  # Converte o modelo para json\n",
        "  modelo_json = modelo.to_json()\n",
        "  # Salva o arquivo do modelo em json\n",
        "  with open(nome_arq_modelo + '.json', 'w') as json_file:\n",
        "    json_file.write(modelo_json)\n",
        "  # Salva os pesos\n",
        "  # O padrão é salvar em um arquivo .hdf5\n",
        "  rede_salva = save_model(modelo, nome_arq_peso + '.hdf5')\n",
        "\n",
        "def carregar_modelo_salvo(arquivo_json_modelo, arquivo_pesos):\n",
        "  ''' Carrega e retorna o modelo salvo no disco\n",
        "      Parâmetros:\n",
        "        arquivo_sjon_modelo ->  Arquivo json contendo o modelo\n",
        "        arquivo_pesos -> Arquivo com os pesos do modelo\n",
        "  '''\n",
        "  with open(arquivo_json_modelo) as json_file:\n",
        "    modelo_json = json_file.read()\n",
        "  rede_carregada = tf.keras.models.model_from_json(modelo_json)\n",
        "  rede_carregada.load_weights(arquivo_pesos)\n",
        "  return rede_carregada\n",
        "\n",
        "def normalizar_classificacao(classificacoes):\n",
        "  ''' Normalizar a classificação e retornar a lista com as classes provaveis para cada classificação\n",
        "      Parâmetros:\n",
        "        classificacoes -> lista com as classificacoes\n",
        "  '''\n",
        "  # Verifica a predição e pega o maior valor como sendo considerada a saída correta\n",
        "  # Converte para inteiro para ser possível verificar na matriz de confusão\n",
        "  classificacao_normalizada = []\n",
        "  for classificacao in classificacoes:\n",
        "    classificacao_normalizada.append(int(np.argmax(classificacao)))\n",
        "  return classificacao_normalizada\n",
        "\n",
        "def encontrar_predicoes_incorretas(y_teste, classificacoes_normalizadas):\n",
        "  ''' Encontra e imprime as predições incorretas do modelo.\n",
        "      Parâmetros:\n",
        "        y_teste -> labels corretas\n",
        "        classificacoes_normalizadas -> labels preditas\n",
        "  '''\n",
        "  s = ''\n",
        "  for i in range(0, len(classificacoes_normalizadas)):\n",
        "    if y_teste[i] != classificacoes_normalizadas[i]:\n",
        "      s += str(i) + ', '\n",
        "  print(s[:-2])"
      ],
      "metadata": {
        "id": "f6kbYzDd2zx0"
      },
      "execution_count": 168,
      "outputs": []
    },
    {
      "cell_type": "code",
      "source": [
        "from google.colab import drive\n",
        "drive.mount('/content/drive')"
      ],
      "metadata": {
        "colab": {
          "base_uri": "https://localhost:8080/"
        },
        "id": "hTiz92_xiwaq",
        "outputId": "661a69b9-dc64-4348-b6dd-a89f3aee5049"
      },
      "execution_count": 106,
      "outputs": [
        {
          "output_type": "stream",
          "name": "stdout",
          "text": [
            "Drive already mounted at /content/drive; to attempt to forcibly remount, call drive.mount(\"/content/drive\", force_remount=True).\n"
          ]
        }
      ]
    },
    {
      "cell_type": "code",
      "source": [
        "from keras.datasets import fashion_mnist\n",
        "(X_treino, y_treino), (X_teste, y_teste) = fashion_mnist.load_data()"
      ],
      "metadata": {
        "id": "HyV0Xa1Ri16_"
      },
      "execution_count": 107,
      "outputs": []
    },
    {
      "cell_type": "code",
      "source": [
        "imagem_dataset_original = X_treino[0]\n",
        "altura = imagem_dataset_original.shape[0]\n",
        "largura = imagem_dataset_original.shape[1] \n",
        "qtd_pixels = largura * altura\n",
        "print(f'Sumário do dataset:\\nQtd de imagens de treino {X_treino.shape[0]} - labels de treino {y_treino.shape[0]}\\nQtd Imagens de teste: {X_teste.shape[0]} - labels de teste {y_teste.shape[0]}')\n",
        "print(f'Shape imagem de exemplo do dataset: {imagem_dataset_original.shape}\\nAltura: {altura}\\nLargura: {largura}\\nQtd de pixels: {qtd_pixels}')"
      ],
      "metadata": {
        "colab": {
          "base_uri": "https://localhost:8080/"
        },
        "id": "7lraClgexrPj",
        "outputId": "edc08b35-8f8b-44bb-a6d4-d19bee21c1d9"
      },
      "execution_count": 108,
      "outputs": [
        {
          "output_type": "stream",
          "name": "stdout",
          "text": [
            "Sumário do dataset:\n",
            "Qtd de imagens de treino 60000 - labels de treino 60000\n",
            "Qtd Imagens de teste: 10000 - labels de teste 10000\n",
            "Shape imagem de exemplo do dataset: (28, 28)\n",
            "Altura: 28\n",
            "Largura: 28\n",
            "Qtd de pixels: 784\n"
          ]
        }
      ]
    },
    {
      "cell_type": "code",
      "source": [
        "mostrar_imagem(imagem_dataset_original)"
      ],
      "metadata": {
        "colab": {
          "base_uri": "https://localhost:8080/",
          "height": 217
        },
        "id": "AdCRvyt7x-qs",
        "outputId": "99dc2344-e69c-46f7-cd88-0e9c3b36a043"
      },
      "execution_count": 109,
      "outputs": [
        {
          "output_type": "display_data",
          "data": {
            "text/plain": [
              "<PIL.Image.Image image mode=L size=200x200 at 0x7FF54B2BE190>"
            ],
            "image/png": "[encoded data removed]"
          },
          "metadata": {}
        }
      ]
    },
    {
      "cell_type": "code",
      "source": [
        "histograma_imagem(imagem_dataset_original)"
      ],
      "metadata": {
        "colab": {
          "base_uri": "https://localhost:8080/",
          "height": 265
        },
        "id": "lv06EwAk1MV7",
        "outputId": "a6b103f9-22e6-4932-a473-7f1c63fe088c"
      },
      "execution_count": 110,
      "outputs": [
        {
          "output_type": "display_data",
          "data": {
            "text/plain": [
              "<Figure size 432x288 with 1 Axes>"
            ],
            "image/png": "[encoded data removed]"
          },
          "metadata": {
            "needs_background": "light"
          }
        }
      ]
    },
    {
      "cell_type": "code",
      "source": [
        "imagem_teste = []\n",
        "\n",
        "for x in range(0, imagem_dataset_original.shape[0]):\n",
        "  linha = []\n",
        "  for y in range(0, imagem_dataset_original.shape[1]):\n",
        "   linha.append(int(imagem_dataset_original[x][y] < 50 or imagem_dataset_original[x][y] > 200) * 255)\n",
        "  imagem_teste.append(linha)"
      ],
      "metadata": {
        "id": "AyKw7Rvd3a5r"
      },
      "execution_count": 111,
      "outputs": []
    },
    {
      "cell_type": "code",
      "source": [
        "imagem_teste = np.asarray(imagem_teste)\n",
        "print(imagem_teste.shape)"
      ],
      "metadata": {
        "colab": {
          "base_uri": "https://localhost:8080/"
        },
        "id": "IvePbqp95WSd",
        "outputId": "fee09b82-4580-4c47-9d5a-c9c0611c40ac"
      },
      "execution_count": 112,
      "outputs": [
        {
          "output_type": "stream",
          "name": "stdout",
          "text": [
            "(28, 28)\n"
          ]
        }
      ]
    },
    {
      "cell_type": "code",
      "source": [
        "histograma_imagem(imagem_teste)"
      ],
      "metadata": {
        "colab": {
          "base_uri": "https://localhost:8080/",
          "height": 265
        },
        "id": "xh4JqJDR3rwz",
        "outputId": "25f86f3a-99df-44c4-b024-6a647ae570e8"
      },
      "execution_count": 113,
      "outputs": [
        {
          "output_type": "display_data",
          "data": {
            "text/plain": [
              "<Figure size 432x288 with 1 Axes>"
            ],
            "image/png": "[encoded data removed]"
          },
          "metadata": {
            "needs_background": "light"
          }
        }
      ]
    },
    {
      "cell_type": "code",
      "source": [
        "mostrar_imagem(imagem_teste.astype('uint8'))"
      ],
      "metadata": {
        "colab": {
          "base_uri": "https://localhost:8080/",
          "height": 217
        },
        "id": "_aaQ4dXr4tE9",
        "outputId": "e65be426-5455-40d8-9583-c07b8d150018"
      },
      "execution_count": 114,
      "outputs": [
        {
          "output_type": "display_data",
          "data": {
            "text/plain": [
              "<PIL.Image.Image image mode=L size=200x200 at 0x7FF54ABF5CD0>"
            ],
            "image/png": "[encoded data removed]"
          },
          "metadata": {}
        }
      ]
    },
    {
      "cell_type": "code",
      "source": [
        "# Normalizando a imagem colocando-a no intervalo de zero a um\n",
        "X_treino = X_treino / 255.0\n",
        "X_teste = X_teste / 255.0\n",
        "\n",
        "# Convertendo para vetor a matriz de imagens\n",
        "X_treino = converter_matriz_vetor(X_treino)\n",
        "X_teste = converter_matriz_vetor(X_teste)"
      ],
      "metadata": {
        "id": "VR2g0L5gDfA4"
      },
      "execution_count": 124,
      "outputs": []
    },
    {
      "cell_type": "code",
      "source": [
        "numero_pixels = 28 * 28\n",
        "numero_unidades = (28 * 28 + 2) / 2"
      ],
      "metadata": {
        "id": "3PS4MLHSD8Kq"
      },
      "execution_count": 125,
      "outputs": []
    },
    {
      "cell_type": "code",
      "source": [
        "print(f'Número de pixels: {numero_pixels}\\nNúmero de unidades: {numero_unidades}')"
      ],
      "metadata": {
        "colab": {
          "base_uri": "https://localhost:8080/"
        },
        "id": "THqlRB5JEGIB",
        "outputId": "00be5ed8-0af9-4d3b-8026-effe12cf3955"
      },
      "execution_count": 126,
      "outputs": [
        {
          "output_type": "stream",
          "name": "stdout",
          "text": [
            "Número de pixels: 784\n",
            "Número de unidades: 393.0\n"
          ]
        }
      ]
    },
    {
      "cell_type": "code",
      "source": [
        "print(y_treino.shape)"
      ],
      "metadata": {
        "colab": {
          "base_uri": "https://localhost:8080/"
        },
        "id": "1SBLOCLqE83q",
        "outputId": "9f0451ec-9498-435e-9275-237529ccce65"
      },
      "execution_count": 130,
      "outputs": [
        {
          "output_type": "stream",
          "name": "stdout",
          "text": [
            "(60000,)\n"
          ]
        }
      ]
    },
    {
      "cell_type": "code",
      "source": [
        "# Construção da rede neural\n",
        "rede = tf.keras.Sequential()\n",
        "\n",
        "rede.add(tf.keras.layers.Dense(input_shape = (numero_pixels,), units = numero_unidades, activation = 'relu'))\n",
        "rede.add(tf.keras.layers.Dense(units = numero_unidades, activation = 'relu'))\n",
        "rede.add(tf.keras.layers.Dense(units = 10, activation = 'softmax'))"
      ],
      "metadata": {
        "id": "tEP2SUW5EPQp"
      },
      "execution_count": 139,
      "outputs": []
    },
    {
      "cell_type": "code",
      "source": [
        "rede.compile(optimizer = 'adam', loss = 'sparse_categorical_crossentropy', metrics = ['accuracy'])\n",
        "progresso = rede.fit(X_treino, y_treino, epochs = 30)"
      ],
      "metadata": {
        "colab": {
          "base_uri": "https://localhost:8080/"
        },
        "id": "RWIZWaPAEgux",
        "outputId": "43b0a15b-cab3-4158-9566-d8fb15c67714"
      },
      "execution_count": 141,
      "outputs": [
        {
          "output_type": "stream",
          "name": "stdout",
          "text": [
            "Epoch 1/30\n",
            "1875/1875 [==============================] - 11s 5ms/step - loss: 0.4681 - accuracy: 0.8299\n",
            "Epoch 2/30\n",
            "1875/1875 [==============================] - 10s 6ms/step - loss: 0.3538 - accuracy: 0.8702\n",
            "Epoch 3/30\n",
            "1875/1875 [==============================] - 10s 5ms/step - loss: 0.3160 - accuracy: 0.8818\n",
            "Epoch 4/30\n",
            "1875/1875 [==============================] - 11s 6ms/step - loss: 0.2959 - accuracy: 0.8898\n",
            "Epoch 5/30\n",
            "1875/1875 [==============================] - 10s 5ms/step - loss: 0.2763 - accuracy: 0.8963\n",
            "Epoch 6/30\n",
            "1875/1875 [==============================] - 10s 5ms/step - loss: 0.2647 - accuracy: 0.9002\n",
            "Epoch 7/30\n",
            "1875/1875 [==============================] - 10s 5ms/step - loss: 0.2535 - accuracy: 0.9046\n",
            "Epoch 8/30\n",
            "1875/1875 [==============================] - 10s 5ms/step - loss: 0.2411 - accuracy: 0.9086\n",
            "Epoch 9/30\n",
            "1875/1875 [==============================] - 10s 5ms/step - loss: 0.2312 - accuracy: 0.9117\n",
            "Epoch 10/30\n",
            "1875/1875 [==============================] - 10s 5ms/step - loss: 0.2198 - accuracy: 0.9151\n",
            "Epoch 11/30\n",
            "1875/1875 [==============================] - 11s 6ms/step - loss: 0.2127 - accuracy: 0.9204\n",
            "Epoch 12/30\n",
            "1875/1875 [==============================] - 11s 6ms/step - loss: 0.2073 - accuracy: 0.9216\n",
            "Epoch 13/30\n",
            "1875/1875 [==============================] - 11s 6ms/step - loss: 0.1970 - accuracy: 0.9247\n",
            "Epoch 14/30\n",
            "1875/1875 [==============================] - 11s 6ms/step - loss: 0.1918 - accuracy: 0.9271\n",
            "Epoch 15/30\n",
            "1875/1875 [==============================] - 11s 6ms/step - loss: 0.1835 - accuracy: 0.9299\n",
            "Epoch 16/30\n",
            "1875/1875 [==============================] - 11s 6ms/step - loss: 0.1785 - accuracy: 0.9311\n",
            "Epoch 17/30\n",
            "1875/1875 [==============================] - 10s 6ms/step - loss: 0.1711 - accuracy: 0.9345\n",
            "Epoch 18/30\n",
            "1875/1875 [==============================] - 10s 6ms/step - loss: 0.1656 - accuracy: 0.9359\n",
            "Epoch 19/30\n",
            "1875/1875 [==============================] - 10s 5ms/step - loss: 0.1645 - accuracy: 0.9368\n",
            "Epoch 20/30\n",
            "1875/1875 [==============================] - 10s 6ms/step - loss: 0.1548 - accuracy: 0.9393\n",
            "Epoch 21/30\n",
            "1875/1875 [==============================] - 10s 6ms/step - loss: 0.1535 - accuracy: 0.9411\n",
            "Epoch 22/30\n",
            "1875/1875 [==============================] - 10s 5ms/step - loss: 0.1489 - accuracy: 0.9427\n",
            "Epoch 23/30\n",
            "1875/1875 [==============================] - 11s 6ms/step - loss: 0.1438 - accuracy: 0.9457\n",
            "Epoch 24/30\n",
            "1875/1875 [==============================] - 10s 6ms/step - loss: 0.1405 - accuracy: 0.9461\n",
            "Epoch 25/30\n",
            "1875/1875 [==============================] - 10s 6ms/step - loss: 0.1384 - accuracy: 0.9468\n",
            "Epoch 26/30\n",
            "1875/1875 [==============================] - 10s 6ms/step - loss: 0.1292 - accuracy: 0.9504\n",
            "Epoch 27/30\n",
            "1875/1875 [==============================] - 11s 6ms/step - loss: 0.1292 - accuracy: 0.9496\n",
            "Epoch 28/30\n",
            "1875/1875 [==============================] - 11s 6ms/step - loss: 0.1291 - accuracy: 0.9513\n",
            "Epoch 29/30\n",
            "1875/1875 [==============================] - 10s 6ms/step - loss: 0.1217 - accuracy: 0.9528\n",
            "Epoch 30/30\n",
            "1875/1875 [==============================] - 10s 5ms/step - loss: 0.1213 - accuracy: 0.9530\n"
          ]
        }
      ]
    },
    {
      "cell_type": "code",
      "source": [
        "plotar_graficos([progresso.history['loss'],\n",
        "                 progresso.history['accuracy']],\n",
        "                 ['Erro', 'Acurácia'])"
      ],
      "metadata": {
        "colab": {
          "base_uri": "https://localhost:8080/",
          "height": 607
        },
        "id": "RdplC-roFozb",
        "outputId": "40e8e517-7630-4fad-a3b6-87808dd1a613"
      },
      "execution_count": 142,
      "outputs": [
        {
          "output_type": "display_data",
          "data": {
            "text/plain": [
              "<Figure size 720x720 with 2 Axes>"
            ],
            "image/png": "[encoded data removed]"
          },
          "metadata": {
            "needs_background": "light"
          }
        }
      ]
    },
    {
      "cell_type": "code",
      "source": [
        "test_loss, test_acc = rede.evaluate(X_teste, y_teste, verbose=2)"
      ],
      "metadata": {
        "colab": {
          "base_uri": "https://localhost:8080/"
        },
        "id": "JBEOQyeiHJYy",
        "outputId": "cd4a28fe-ebda-4238-c41b-af4ea17f69bf"
      },
      "execution_count": 143,
      "outputs": [
        {
          "output_type": "stream",
          "name": "stdout",
          "text": [
            "313/313 - 1s - loss: 0.4902 - accuracy: 0.8915 - 1s/epoch - 4ms/step\n"
          ]
        }
      ]
    },
    {
      "cell_type": "code",
      "source": [
        "classificacoes = rede.predict(X_teste)"
      ],
      "metadata": {
        "id": "tFGDl_0HHMEJ"
      },
      "execution_count": 144,
      "outputs": []
    },
    {
      "cell_type": "code",
      "source": [
        "classificacoes_normalizadas = normalizar_classificacao(classificacoes)"
      ],
      "metadata": {
        "id": "3tednWSFHQxR"
      },
      "execution_count": 153,
      "outputs": []
    },
    {
      "cell_type": "code",
      "source": [
        "cm = confusion_matrix(y_teste, classificacoes_normalizadas)\n",
        "plt.figure(figsize = (16,5))\n",
        "sns.heatmap(cm, annot = True)"
      ],
      "metadata": {
        "colab": {
          "base_uri": "https://localhost:8080/",
          "height": 337
        },
        "id": "rm_sckhmHojT",
        "outputId": "2315f3cd-4408-4579-a3b4-4363314780a7"
      },
      "execution_count": 154,
      "outputs": [
        {
          "output_type": "execute_result",
          "data": {
            "text/plain": [
              "<matplotlib.axes._subplots.AxesSubplot at 0x7ff5469f9990>"
            ]
          },
          "metadata": {},
          "execution_count": 154
        },
        {
          "output_type": "display_data",
          "data": {
            "text/plain": [
              "<Figure size 1152x360 with 2 Axes>"
            ],
            "image/png": "[encoded data removed]"
          },
          "metadata": {
            "needs_background": "light"
          }
        }
      ]
    },
    {
      "cell_type": "code",
      "source": [
        "verificar_predicao(1, X_teste * 255, y_teste, classificacoes_normalizadas)"
      ],
      "metadata": {
        "colab": {
          "base_uri": "https://localhost:8080/",
          "height": 269
        },
        "id": "ri609m7GHqlz",
        "outputId": "bd5eb661-38be-4611-9d14-a83e00467101"
      },
      "execution_count": 157,
      "outputs": [
        {
          "output_type": "stream",
          "name": "stdout",
          "text": [
            "Classe real: 2\n",
            "Classe predita: 2\n",
            "Modelo acertou\n"
          ]
        },
        {
          "output_type": "display_data",
          "data": {
            "text/plain": [
              "<PIL.Image.Image image mode=L size=200x200 at 0x7FF5467EEA50>"
            ],
            "image/png": "[encoded data removed]"
          },
          "metadata": {}
        }
      ]
    },
    {
      "cell_type": "code",
      "source": [
        "verificar_predicao(105, X_teste * 255, y_teste, classificacoes_normalizadas)"
      ],
      "metadata": {
        "colab": {
          "base_uri": "https://localhost:8080/",
          "height": 269
        },
        "id": "dj5niDxYIAU6",
        "outputId": "78a35231-9a3a-4087-f8f8-e931cab4b6fa"
      },
      "execution_count": 158,
      "outputs": [
        {
          "output_type": "stream",
          "name": "stdout",
          "text": [
            "Classe real: 8\n",
            "Classe predita: 8\n",
            "Modelo acertou\n"
          ]
        },
        {
          "output_type": "display_data",
          "data": {
            "text/plain": [
              "<PIL.Image.Image image mode=L size=200x200 at 0x7FF5469C0090>"
            ],
            "image/png": "[encoded data removed]"
          },
          "metadata": {}
        }
      ]
    },
    {
      "cell_type": "code",
      "source": [
        "verificar_predicao(258, X_teste * 255, y_teste, classificacoes_normalizadas)"
      ],
      "metadata": {
        "colab": {
          "base_uri": "https://localhost:8080/",
          "height": 269
        },
        "id": "reRcA0PIIVTC",
        "outputId": "106f2ecd-b2ac-46f9-9b7f-e0cc055403ed"
      },
      "execution_count": 159,
      "outputs": [
        {
          "output_type": "stream",
          "name": "stdout",
          "text": [
            "Classe real: 2\n",
            "Classe predita: 2\n",
            "Modelo acertou\n"
          ]
        },
        {
          "output_type": "display_data",
          "data": {
            "text/plain": [
              "<PIL.Image.Image image mode=L size=200x200 at 0x7FF5467EEC10>"
            ],
            "image/png": "[encoded data removed]"
          },
          "metadata": {}
        }
      ]
    },
    {
      "cell_type": "code",
      "source": [
        "verificar_predicao(4, X_teste * 255, y_teste, classificacoes_normalizadas)"
      ],
      "metadata": {
        "colab": {
          "base_uri": "https://localhost:8080/",
          "height": 269
        },
        "id": "sSfCXWd5Inra",
        "outputId": "f59ecf5d-3d99-44fc-a4c4-c9cd90ab0863"
      },
      "execution_count": 166,
      "outputs": [
        {
          "output_type": "stream",
          "name": "stdout",
          "text": [
            "Classe real: 6\n",
            "Classe predita: 0\n",
            "Modelo errou\n"
          ]
        },
        {
          "output_type": "display_data",
          "data": {
            "text/plain": [
              "<PIL.Image.Image image mode=L size=200x200 at 0x7FF5467EDED0>"
            ],
            "image/png": "[encoded data removed]"
          },
          "metadata": {}
        }
      ]
    },
    {
      "cell_type": "code",
      "source": [
        "verificar_predicao(12, X_teste * 255, y_teste, classificacoes_normalizadas)"
      ],
      "metadata": {
        "colab": {
          "base_uri": "https://localhost:8080/",
          "height": 269
        },
        "id": "GUGynQZ5I8ry",
        "outputId": "90ce8db9-43b7-4daf-f2c1-7c8801ad45cb"
      },
      "execution_count": 167,
      "outputs": [
        {
          "output_type": "stream",
          "name": "stdout",
          "text": [
            "Classe real: 7\n",
            "Classe predita: 5\n",
            "Modelo errou\n"
          ]
        },
        {
          "output_type": "display_data",
          "data": {
            "text/plain": [
              "<PIL.Image.Image image mode=L size=200x200 at 0x7FF546806B90>"
            ],
            "image/png": "[encoded data removed]"
          },
          "metadata": {}
        }
      ]
    },
    {
      "cell_type": "markdown",
      "source": [
        "**Testes com diferentes números de epócas**\n",
        "\n",
        "Objetivo: \n",
        "\n",
        "- Verificar a acurácia da rede ao realizar o treino com diferentes quantidades de epócas.\n",
        "\n",
        "Número de epócas = 1 - Acurácia = 88 %\n",
        "\n",
        "Número de epócas = 5 - Acurácia = 89 %\n",
        "\n",
        "Número de epócas = 10 - Acurácia = 89 %\n",
        "\n",
        "Número de epócas = 20 - Acurácia = 89 %\n",
        "\n",
        "Número de epócas = 50 - Acurácia = 89 %\n",
        "\n",
        "Número de epócas = 150 - Acurácia = 89 %"
      ],
      "metadata": {
        "id": "s3MksYncJdFb"
      }
    },
    {
      "cell_type": "code",
      "source": [
        "def treinar_testar_rede(X_treino, y_treino, X_teste, y_teste, nEpocas):\n",
        "  ''' Treinar e testar a rede com diferentes números de epocas e imprimir a acurácia\n",
        "      Parâmetros:\n",
        "        X_treino -> Dados de treino\n",
        "        y_treino -> labels de treino\n",
        "        X_teste -> Dados de teste\n",
        "        y_teste -> labels de teste\n",
        "        nEpocas -> número de épocas do treino\n",
        "  '''\n",
        "  rede.compile(optimizer = 'adam', loss = 'sparse_categorical_crossentropy', metrics = ['accuracy'])\n",
        "  progresso = rede.fit(X_treino, y_treino, epochs = nEpocas)\n",
        "\n",
        "  test_loss, test_acc = rede.evaluate(X_teste, y_teste, verbose=2)\n",
        "  print('----------------')\n",
        "  print(f'Acurácia: {test_acc}')"
      ],
      "metadata": {
        "id": "92PyFQ9YJx7S"
      },
      "execution_count": 170,
      "outputs": []
    },
    {
      "cell_type": "code",
      "source": [
        "treinar_testar_rede(X_treino, y_treino, X_teste, y_teste, 5)\n"
      ],
      "metadata": {
        "colab": {
          "base_uri": "https://localhost:8080/"
        },
        "id": "aFijkqr6I-w5",
        "outputId": "e85c7af5-74db-4873-d37d-118f7c317ae8"
      },
      "execution_count": 171,
      "outputs": [
        {
          "output_type": "stream",
          "name": "stdout",
          "text": [
            "Epoch 1/5\n",
            "1875/1875 [==============================] - 13s 6ms/step - loss: 0.1218 - accuracy: 0.9530\n",
            "Epoch 2/5\n",
            "1875/1875 [==============================] - 12s 6ms/step - loss: 0.1187 - accuracy: 0.9547\n",
            "Epoch 3/5\n",
            "1875/1875 [==============================] - 12s 6ms/step - loss: 0.1141 - accuracy: 0.9554\n",
            "Epoch 4/5\n",
            "1875/1875 [==============================] - 12s 6ms/step - loss: 0.1105 - accuracy: 0.9582\n",
            "Epoch 5/5\n",
            "1875/1875 [==============================] - 12s 6ms/step - loss: 0.1074 - accuracy: 0.9582\n",
            "313/313 - 1s - loss: 0.5739 - accuracy: 0.8941 - 819ms/epoch - 3ms/step\n",
            "----------------\n",
            "Acurácia: 0.89410001039505\n"
          ]
        }
      ]
    },
    {
      "cell_type": "code",
      "source": [
        "treinar_testar_rede(X_treino, y_treino, X_teste, y_teste, 10)"
      ],
      "metadata": {
        "colab": {
          "base_uri": "https://localhost:8080/"
        },
        "id": "IEBGW30MKaMS",
        "outputId": "a684d8df-d848-481e-ef7b-e9fc19372cc3"
      },
      "execution_count": 172,
      "outputs": [
        {
          "output_type": "stream",
          "name": "stdout",
          "text": [
            "Epoch 1/10\n",
            "1875/1875 [==============================] - 13s 7ms/step - loss: 0.1108 - accuracy: 0.9586\n",
            "Epoch 2/10\n",
            "1875/1875 [==============================] - 13s 7ms/step - loss: 0.1099 - accuracy: 0.9583\n",
            "Epoch 3/10\n",
            "1875/1875 [==============================] - 12s 6ms/step - loss: 0.1049 - accuracy: 0.9609\n",
            "Epoch 4/10\n",
            "1875/1875 [==============================] - 12s 6ms/step - loss: 0.1006 - accuracy: 0.9611\n",
            "Epoch 5/10\n",
            "1875/1875 [==============================] - 11s 6ms/step - loss: 0.0998 - accuracy: 0.9623\n",
            "Epoch 6/10\n",
            "1875/1875 [==============================] - 11s 6ms/step - loss: 0.0979 - accuracy: 0.9631\n",
            "Epoch 7/10\n",
            "1875/1875 [==============================] - 11s 6ms/step - loss: 0.0961 - accuracy: 0.9642\n",
            "Epoch 8/10\n",
            "1875/1875 [==============================] - 11s 6ms/step - loss: 0.0936 - accuracy: 0.9648\n",
            "Epoch 9/10\n",
            "1875/1875 [==============================] - 11s 6ms/step - loss: 0.0930 - accuracy: 0.9644\n",
            "Epoch 10/10\n",
            "1875/1875 [==============================] - 11s 6ms/step - loss: 0.0912 - accuracy: 0.9654\n",
            "313/313 - 1s - loss: 0.6657 - accuracy: 0.8941 - 823ms/epoch - 3ms/step\n",
            "----------------\n",
            "Acurácia: 0.89410001039505\n"
          ]
        }
      ]
    },
    {
      "cell_type": "code",
      "source": [
        "treinar_testar_rede(X_treino, y_treino, X_teste, y_teste, 50)"
      ],
      "metadata": {
        "colab": {
          "base_uri": "https://localhost:8080/"
        },
        "id": "MsIrl7xjLB66",
        "outputId": "185bb8b1-54cc-4d30-fc45-2208c3e62c16"
      },
      "execution_count": 174,
      "outputs": [
        {
          "output_type": "stream",
          "name": "stdout",
          "text": [
            "Epoch 1/50\n",
            "1875/1875 [==============================] - 11s 6ms/step - loss: 0.0721 - accuracy: 0.9740\n",
            "Epoch 2/50\n",
            "1875/1875 [==============================] - 11s 6ms/step - loss: 0.0709 - accuracy: 0.9743\n",
            "Epoch 3/50\n",
            "1875/1875 [==============================] - 11s 6ms/step - loss: 0.0706 - accuracy: 0.9752\n",
            "Epoch 4/50\n",
            "1875/1875 [==============================] - 11s 6ms/step - loss: 0.0680 - accuracy: 0.9757\n",
            "Epoch 5/50\n",
            "1875/1875 [==============================] - 11s 6ms/step - loss: 0.0729 - accuracy: 0.9742\n",
            "Epoch 6/50\n",
            "1875/1875 [==============================] - 11s 6ms/step - loss: 0.0654 - accuracy: 0.9763\n",
            "Epoch 7/50\n",
            "1875/1875 [==============================] - 11s 6ms/step - loss: 0.0620 - accuracy: 0.9771\n",
            "Epoch 8/50\n",
            "1875/1875 [==============================] - 11s 6ms/step - loss: 0.0652 - accuracy: 0.9765\n",
            "Epoch 9/50\n",
            "1875/1875 [==============================] - 11s 6ms/step - loss: 0.0662 - accuracy: 0.9766\n",
            "Epoch 10/50\n",
            "1875/1875 [==============================] - 11s 6ms/step - loss: 0.0621 - accuracy: 0.9774\n",
            "Epoch 11/50\n",
            "1875/1875 [==============================] - 11s 6ms/step - loss: 0.0632 - accuracy: 0.9777\n",
            "Epoch 12/50\n",
            "1875/1875 [==============================] - 11s 6ms/step - loss: 0.0567 - accuracy: 0.9798\n",
            "Epoch 13/50\n",
            "1875/1875 [==============================] - 11s 6ms/step - loss: 0.0607 - accuracy: 0.9785\n",
            "Epoch 14/50\n",
            "1875/1875 [==============================] - 11s 6ms/step - loss: 0.0607 - accuracy: 0.9777\n",
            "Epoch 15/50\n",
            "1875/1875 [==============================] - 11s 6ms/step - loss: 0.0632 - accuracy: 0.9788\n",
            "Epoch 16/50\n",
            "1875/1875 [==============================] - 11s 6ms/step - loss: 0.0584 - accuracy: 0.9790\n",
            "Epoch 17/50\n",
            "1875/1875 [==============================] - 11s 6ms/step - loss: 0.0555 - accuracy: 0.9802\n",
            "Epoch 18/50\n",
            "1875/1875 [==============================] - 11s 6ms/step - loss: 0.0561 - accuracy: 0.9796\n",
            "Epoch 19/50\n",
            "1875/1875 [==============================] - 11s 6ms/step - loss: 0.0611 - accuracy: 0.9779\n",
            "Epoch 20/50\n",
            "1875/1875 [==============================] - 11s 6ms/step - loss: 0.0620 - accuracy: 0.9790\n",
            "Epoch 21/50\n",
            "1875/1875 [==============================] - 11s 6ms/step - loss: 0.0567 - accuracy: 0.9797\n",
            "Epoch 22/50\n",
            "1875/1875 [==============================] - 11s 6ms/step - loss: 0.0577 - accuracy: 0.9801\n",
            "Epoch 23/50\n",
            "1875/1875 [==============================] - 11s 6ms/step - loss: 0.0570 - accuracy: 0.9797\n",
            "Epoch 24/50\n",
            "1875/1875 [==============================] - 11s 6ms/step - loss: 0.0588 - accuracy: 0.9801\n",
            "Epoch 25/50\n",
            "1875/1875 [==============================] - 11s 6ms/step - loss: 0.0573 - accuracy: 0.9804\n",
            "Epoch 26/50\n",
            "1875/1875 [==============================] - 11s 6ms/step - loss: 0.0520 - accuracy: 0.9819\n",
            "Epoch 27/50\n",
            "1875/1875 [==============================] - 11s 6ms/step - loss: 0.0512 - accuracy: 0.9817\n",
            "Epoch 28/50\n",
            "1875/1875 [==============================] - 12s 6ms/step - loss: 0.0562 - accuracy: 0.9805\n",
            "Epoch 29/50\n",
            "1875/1875 [==============================] - 11s 6ms/step - loss: 0.0600 - accuracy: 0.9799\n",
            "Epoch 30/50\n",
            "1875/1875 [==============================] - 11s 6ms/step - loss: 0.0559 - accuracy: 0.9802\n",
            "Epoch 31/50\n",
            "1875/1875 [==============================] - 11s 6ms/step - loss: 0.0556 - accuracy: 0.9806\n",
            "Epoch 32/50\n",
            "1875/1875 [==============================] - 11s 6ms/step - loss: 0.0570 - accuracy: 0.9803\n",
            "Epoch 33/50\n",
            "1875/1875 [==============================] - 10s 6ms/step - loss: 0.0529 - accuracy: 0.9825\n",
            "Epoch 34/50\n",
            "1875/1875 [==============================] - 10s 6ms/step - loss: 0.0535 - accuracy: 0.9812\n",
            "Epoch 35/50\n",
            "1875/1875 [==============================] - 10s 6ms/step - loss: 0.0459 - accuracy: 0.9835\n",
            "Epoch 36/50\n",
            "1875/1875 [==============================] - 11s 6ms/step - loss: 0.0507 - accuracy: 0.9821\n",
            "Epoch 37/50\n",
            "1875/1875 [==============================] - 11s 6ms/step - loss: 0.0534 - accuracy: 0.9814\n",
            "Epoch 38/50\n",
            "1875/1875 [==============================] - 11s 6ms/step - loss: 0.0526 - accuracy: 0.9825\n",
            "Epoch 39/50\n",
            "1875/1875 [==============================] - 10s 6ms/step - loss: 0.0496 - accuracy: 0.9826\n",
            "Epoch 40/50\n",
            "1875/1875 [==============================] - 11s 6ms/step - loss: 0.0478 - accuracy: 0.9838\n",
            "Epoch 41/50\n",
            "1875/1875 [==============================] - 11s 6ms/step - loss: 0.0455 - accuracy: 0.9841\n",
            "Epoch 42/50\n",
            "1875/1875 [==============================] - 11s 6ms/step - loss: 0.0507 - accuracy: 0.9831\n",
            "Epoch 43/50\n",
            "1875/1875 [==============================] - 11s 6ms/step - loss: 0.0485 - accuracy: 0.9826\n",
            "Epoch 44/50\n",
            "1875/1875 [==============================] - 10s 5ms/step - loss: 0.0475 - accuracy: 0.9836\n",
            "Epoch 45/50\n",
            "1875/1875 [==============================] - 10s 5ms/step - loss: 0.0458 - accuracy: 0.9842\n",
            "Epoch 46/50\n",
            "1875/1875 [==============================] - 10s 6ms/step - loss: 0.0464 - accuracy: 0.9840\n",
            "Epoch 47/50\n",
            "1875/1875 [==============================] - 11s 6ms/step - loss: 0.0489 - accuracy: 0.9839\n",
            "Epoch 48/50\n",
            "1875/1875 [==============================] - 11s 6ms/step - loss: 0.0492 - accuracy: 0.9838\n",
            "Epoch 49/50\n",
            "1875/1875 [==============================] - 10s 6ms/step - loss: 0.0486 - accuracy: 0.9846\n",
            "Epoch 50/50\n",
            "1875/1875 [==============================] - 11s 6ms/step - loss: 0.0478 - accuracy: 0.9841\n",
            "313/313 - 1s - loss: 1.3132 - accuracy: 0.8935 - 799ms/epoch - 3ms/step\n",
            "----------------\n",
            "Acurácia: 0.8934999704360962\n"
          ]
        }
      ]
    },
    {
      "cell_type": "code",
      "source": [
        "treinar_testar_rede(X_treino, y_treino, X_teste, y_teste, 150)"
      ],
      "metadata": {
        "colab": {
          "base_uri": "https://localhost:8080/"
        },
        "id": "_9-c7EImLqjy",
        "outputId": "fac326e2-8479-4f2b-f4fb-ad4991b1a48b"
      },
      "execution_count": 175,
      "outputs": [
        {
          "output_type": "stream",
          "name": "stdout",
          "text": [
            "Epoch 1/150\n",
            "1875/1875 [==============================] - 11s 6ms/step - loss: 0.0510 - accuracy: 0.9829\n",
            "Epoch 2/150\n",
            "1875/1875 [==============================] - 10s 6ms/step - loss: 0.0515 - accuracy: 0.9835\n",
            "Epoch 3/150\n",
            "1875/1875 [==============================] - 10s 6ms/step - loss: 0.0435 - accuracy: 0.9856\n",
            "Epoch 4/150\n",
            "1875/1875 [==============================] - 10s 5ms/step - loss: 0.0460 - accuracy: 0.9845\n",
            "Epoch 5/150\n",
            "1875/1875 [==============================] - 10s 6ms/step - loss: 0.0470 - accuracy: 0.9848\n",
            "Epoch 6/150\n",
            "1875/1875 [==============================] - 11s 6ms/step - loss: 0.0496 - accuracy: 0.9844\n",
            "Epoch 7/150\n",
            "1875/1875 [==============================] - 10s 5ms/step - loss: 0.0500 - accuracy: 0.9844\n",
            "Epoch 8/150\n",
            "1875/1875 [==============================] - 10s 5ms/step - loss: 0.0464 - accuracy: 0.9848\n",
            "Epoch 9/150\n",
            "1875/1875 [==============================] - 10s 6ms/step - loss: 0.0514 - accuracy: 0.9846\n",
            "Epoch 10/150\n",
            "1875/1875 [==============================] - 10s 5ms/step - loss: 0.0474 - accuracy: 0.9847\n",
            "Epoch 11/150\n",
            "1875/1875 [==============================] - 10s 5ms/step - loss: 0.0387 - accuracy: 0.9870\n",
            "Epoch 12/150\n",
            "1875/1875 [==============================] - 10s 5ms/step - loss: 0.0500 - accuracy: 0.9839\n",
            "Epoch 13/150\n",
            "1875/1875 [==============================] - 10s 5ms/step - loss: 0.0440 - accuracy: 0.9855\n",
            "Epoch 14/150\n",
            "1875/1875 [==============================] - 10s 5ms/step - loss: 0.0394 - accuracy: 0.9870\n",
            "Epoch 15/150\n",
            "1875/1875 [==============================] - 10s 6ms/step - loss: 0.0501 - accuracy: 0.9848\n",
            "Epoch 16/150\n",
            "1875/1875 [==============================] - 10s 6ms/step - loss: 0.0430 - accuracy: 0.9867\n",
            "Epoch 17/150\n",
            "1875/1875 [==============================] - 10s 6ms/step - loss: 0.0452 - accuracy: 0.9854\n",
            "Epoch 18/150\n",
            "1875/1875 [==============================] - 10s 6ms/step - loss: 0.0381 - accuracy: 0.9871\n",
            "Epoch 19/150\n",
            "1875/1875 [==============================] - 10s 6ms/step - loss: 0.0471 - accuracy: 0.9849\n",
            "Epoch 20/150\n",
            "1875/1875 [==============================] - 10s 6ms/step - loss: 0.0393 - accuracy: 0.9869\n",
            "Epoch 21/150\n",
            "1875/1875 [==============================] - 10s 5ms/step - loss: 0.0393 - accuracy: 0.9869\n",
            "Epoch 22/150\n",
            "1875/1875 [==============================] - 10s 6ms/step - loss: 0.0413 - accuracy: 0.9861\n",
            "Epoch 23/150\n",
            "1875/1875 [==============================] - 10s 5ms/step - loss: 0.0437 - accuracy: 0.9865\n",
            "Epoch 24/150\n",
            "1875/1875 [==============================] - 10s 6ms/step - loss: 0.0442 - accuracy: 0.9866\n",
            "Epoch 25/150\n",
            "1875/1875 [==============================] - 10s 6ms/step - loss: 0.0435 - accuracy: 0.9864\n",
            "Epoch 26/150\n",
            "1875/1875 [==============================] - 10s 6ms/step - loss: 0.0387 - accuracy: 0.9876\n",
            "Epoch 27/150\n",
            "1875/1875 [==============================] - 10s 5ms/step - loss: 0.0435 - accuracy: 0.9860\n",
            "Epoch 28/150\n",
            "1875/1875 [==============================] - 10s 5ms/step - loss: 0.0440 - accuracy: 0.9862\n",
            "Epoch 29/150\n",
            "1875/1875 [==============================] - 10s 5ms/step - loss: 0.0376 - accuracy: 0.9876\n",
            "Epoch 30/150\n",
            "1875/1875 [==============================] - 10s 6ms/step - loss: 0.0479 - accuracy: 0.9859\n",
            "Epoch 31/150\n",
            "1875/1875 [==============================] - 10s 6ms/step - loss: 0.0428 - accuracy: 0.9862\n",
            "Epoch 32/150\n",
            "1875/1875 [==============================] - 10s 5ms/step - loss: 0.0404 - accuracy: 0.9871\n",
            "Epoch 33/150\n",
            "1875/1875 [==============================] - 10s 5ms/step - loss: 0.0340 - accuracy: 0.9882\n",
            "Epoch 34/150\n",
            "1875/1875 [==============================] - 10s 6ms/step - loss: 0.0403 - accuracy: 0.9873\n",
            "Epoch 35/150\n",
            "1875/1875 [==============================] - 11s 6ms/step - loss: 0.0426 - accuracy: 0.9860\n",
            "Epoch 36/150\n",
            "1875/1875 [==============================] - 10s 6ms/step - loss: 0.0406 - accuracy: 0.9871\n",
            "Epoch 37/150\n",
            "1875/1875 [==============================] - 11s 6ms/step - loss: 0.0371 - accuracy: 0.9879\n",
            "Epoch 38/150\n",
            "1875/1875 [==============================] - 11s 6ms/step - loss: 0.0387 - accuracy: 0.9876\n",
            "Epoch 39/150\n",
            "1875/1875 [==============================] - 11s 6ms/step - loss: 0.0412 - accuracy: 0.9871\n",
            "Epoch 40/150\n",
            "1875/1875 [==============================] - 11s 6ms/step - loss: 0.0352 - accuracy: 0.9888\n",
            "Epoch 41/150\n",
            "1875/1875 [==============================] - 11s 6ms/step - loss: 0.0367 - accuracy: 0.9888\n",
            "Epoch 42/150\n",
            "1875/1875 [==============================] - 11s 6ms/step - loss: 0.0460 - accuracy: 0.9863\n",
            "Epoch 43/150\n",
            "1875/1875 [==============================] - 11s 6ms/step - loss: 0.0443 - accuracy: 0.9872\n",
            "Epoch 44/150\n",
            "1875/1875 [==============================] - 11s 6ms/step - loss: 0.0332 - accuracy: 0.9896\n",
            "Epoch 45/150\n",
            "1875/1875 [==============================] - 11s 6ms/step - loss: 0.0514 - accuracy: 0.9862\n",
            "Epoch 46/150\n",
            "1875/1875 [==============================] - 11s 6ms/step - loss: 0.0408 - accuracy: 0.9878\n",
            "Epoch 47/150\n",
            "1875/1875 [==============================] - 11s 6ms/step - loss: 0.0367 - accuracy: 0.9886\n",
            "Epoch 48/150\n",
            "1875/1875 [==============================] - 11s 6ms/step - loss: 0.0397 - accuracy: 0.9886\n",
            "Epoch 49/150\n",
            "1875/1875 [==============================] - 10s 6ms/step - loss: 0.0422 - accuracy: 0.9884\n",
            "Epoch 50/150\n",
            "1875/1875 [==============================] - 10s 6ms/step - loss: 0.0423 - accuracy: 0.9865\n",
            "Epoch 51/150\n",
            "1875/1875 [==============================] - 11s 6ms/step - loss: 0.0359 - accuracy: 0.9885\n",
            "Epoch 52/150\n",
            "1875/1875 [==============================] - 11s 6ms/step - loss: 0.0359 - accuracy: 0.9894\n",
            "Epoch 53/150\n",
            "1875/1875 [==============================] - 11s 6ms/step - loss: 0.0441 - accuracy: 0.9874\n",
            "Epoch 54/150\n",
            "1875/1875 [==============================] - 11s 6ms/step - loss: 0.0322 - accuracy: 0.9898\n",
            "Epoch 55/150\n",
            "1875/1875 [==============================] - 11s 6ms/step - loss: 0.0399 - accuracy: 0.9875\n",
            "Epoch 56/150\n",
            "1875/1875 [==============================] - 11s 6ms/step - loss: 0.0374 - accuracy: 0.9882\n",
            "Epoch 57/150\n",
            "1875/1875 [==============================] - 11s 6ms/step - loss: 0.0339 - accuracy: 0.9893\n",
            "Epoch 58/150\n",
            "1875/1875 [==============================] - 11s 6ms/step - loss: 0.0422 - accuracy: 0.9881\n",
            "Epoch 59/150\n",
            "1875/1875 [==============================] - 11s 6ms/step - loss: 0.0327 - accuracy: 0.9898\n",
            "Epoch 60/150\n",
            "1875/1875 [==============================] - 11s 6ms/step - loss: 0.0490 - accuracy: 0.9864\n",
            "Epoch 61/150\n",
            "1875/1875 [==============================] - 11s 6ms/step - loss: 0.0341 - accuracy: 0.9888\n",
            "Epoch 62/150\n",
            "1875/1875 [==============================] - 11s 6ms/step - loss: 0.0375 - accuracy: 0.9888\n",
            "Epoch 63/150\n",
            "1875/1875 [==============================] - 11s 6ms/step - loss: 0.0437 - accuracy: 0.9882\n",
            "Epoch 64/150\n",
            "1875/1875 [==============================] - 11s 6ms/step - loss: 0.0350 - accuracy: 0.9895\n",
            "Epoch 65/150\n",
            "1875/1875 [==============================] - 11s 6ms/step - loss: 0.0382 - accuracy: 0.9889\n",
            "Epoch 66/150\n",
            "1875/1875 [==============================] - 11s 6ms/step - loss: 0.0356 - accuracy: 0.9895\n",
            "Epoch 67/150\n",
            "1875/1875 [==============================] - 11s 6ms/step - loss: 0.0313 - accuracy: 0.9902\n",
            "Epoch 68/150\n",
            "1875/1875 [==============================] - 11s 6ms/step - loss: 0.0394 - accuracy: 0.9891\n",
            "Epoch 69/150\n",
            "1875/1875 [==============================] - 11s 6ms/step - loss: 0.0393 - accuracy: 0.9882\n",
            "Epoch 70/150\n",
            "1875/1875 [==============================] - 11s 6ms/step - loss: 0.0385 - accuracy: 0.9886\n",
            "Epoch 71/150\n",
            "1875/1875 [==============================] - 11s 6ms/step - loss: 0.0345 - accuracy: 0.9899\n",
            "Epoch 72/150\n",
            "1875/1875 [==============================] - 11s 6ms/step - loss: 0.0439 - accuracy: 0.9878\n",
            "Epoch 73/150\n",
            "1875/1875 [==============================] - 11s 6ms/step - loss: 0.0308 - accuracy: 0.9905\n",
            "Epoch 74/150\n",
            "1875/1875 [==============================] - 11s 6ms/step - loss: 0.0406 - accuracy: 0.9885\n",
            "Epoch 75/150\n",
            "1875/1875 [==============================] - 11s 6ms/step - loss: 0.0338 - accuracy: 0.9899\n",
            "Epoch 76/150\n",
            "1875/1875 [==============================] - 11s 6ms/step - loss: 0.0344 - accuracy: 0.9902\n",
            "Epoch 77/150\n",
            "1875/1875 [==============================] - 11s 6ms/step - loss: 0.0409 - accuracy: 0.9883\n",
            "Epoch 78/150\n",
            "1875/1875 [==============================] - 11s 6ms/step - loss: 0.0353 - accuracy: 0.9897\n",
            "Epoch 79/150\n",
            "1875/1875 [==============================] - 11s 6ms/step - loss: 0.0337 - accuracy: 0.9903\n",
            "Epoch 80/150\n",
            "1875/1875 [==============================] - 11s 6ms/step - loss: 0.0364 - accuracy: 0.9891\n",
            "Epoch 81/150\n",
            "1875/1875 [==============================] - 11s 6ms/step - loss: 0.0367 - accuracy: 0.9895\n",
            "Epoch 82/150\n",
            "1875/1875 [==============================] - 11s 6ms/step - loss: 0.0361 - accuracy: 0.9896\n",
            "Epoch 83/150\n",
            "1875/1875 [==============================] - 11s 6ms/step - loss: 0.0316 - accuracy: 0.9899\n",
            "Epoch 84/150\n",
            "1875/1875 [==============================] - 11s 6ms/step - loss: 0.0510 - accuracy: 0.9879\n",
            "Epoch 85/150\n",
            "1875/1875 [==============================] - 11s 6ms/step - loss: 0.0318 - accuracy: 0.9908\n",
            "Epoch 86/150\n",
            "1875/1875 [==============================] - 11s 6ms/step - loss: 0.0425 - accuracy: 0.9886\n",
            "Epoch 87/150\n",
            "1875/1875 [==============================] - 11s 6ms/step - loss: 0.0372 - accuracy: 0.9898\n",
            "Epoch 88/150\n",
            "1875/1875 [==============================] - 11s 6ms/step - loss: 0.0356 - accuracy: 0.9896\n",
            "Epoch 89/150\n",
            "1875/1875 [==============================] - 11s 6ms/step - loss: 0.0412 - accuracy: 0.9890\n",
            "Epoch 90/150\n",
            "1875/1875 [==============================] - 11s 6ms/step - loss: 0.0327 - accuracy: 0.9909\n",
            "Epoch 91/150\n",
            "1875/1875 [==============================] - 11s 6ms/step - loss: 0.0363 - accuracy: 0.9896\n",
            "Epoch 92/150\n",
            "1875/1875 [==============================] - 11s 6ms/step - loss: 0.0287 - accuracy: 0.9907\n",
            "Epoch 93/150\n",
            "1875/1875 [==============================] - 11s 6ms/step - loss: 0.0392 - accuracy: 0.9891\n",
            "Epoch 94/150\n",
            "1875/1875 [==============================] - 11s 6ms/step - loss: 0.0410 - accuracy: 0.9887\n",
            "Epoch 95/150\n",
            "1875/1875 [==============================] - 11s 6ms/step - loss: 0.0312 - accuracy: 0.9908\n",
            "Epoch 96/150\n",
            "1875/1875 [==============================] - 11s 6ms/step - loss: 0.0340 - accuracy: 0.9903\n",
            "Epoch 97/150\n",
            "1875/1875 [==============================] - 11s 6ms/step - loss: 0.0455 - accuracy: 0.9881\n",
            "Epoch 98/150\n",
            "1875/1875 [==============================] - 11s 6ms/step - loss: 0.0301 - accuracy: 0.9914\n",
            "Epoch 99/150\n",
            "1875/1875 [==============================] - 11s 6ms/step - loss: 0.0301 - accuracy: 0.9905\n",
            "Epoch 100/150\n",
            "1875/1875 [==============================] - 11s 6ms/step - loss: 0.0389 - accuracy: 0.9898\n",
            "Epoch 101/150\n",
            "1875/1875 [==============================] - 11s 6ms/step - loss: 0.0344 - accuracy: 0.9907\n",
            "Epoch 102/150\n",
            "1875/1875 [==============================] - 11s 6ms/step - loss: 0.0373 - accuracy: 0.9897\n",
            "Epoch 103/150\n",
            "1875/1875 [==============================] - 11s 6ms/step - loss: 0.0345 - accuracy: 0.9906\n",
            "Epoch 104/150\n",
            "1875/1875 [==============================] - 11s 6ms/step - loss: 0.0348 - accuracy: 0.9908\n",
            "Epoch 105/150\n",
            "1875/1875 [==============================] - 11s 6ms/step - loss: 0.0357 - accuracy: 0.9906\n",
            "Epoch 106/150\n",
            "1875/1875 [==============================] - 11s 6ms/step - loss: 0.0282 - accuracy: 0.9919\n",
            "Epoch 107/150\n",
            "1875/1875 [==============================] - 11s 6ms/step - loss: 0.0359 - accuracy: 0.9900\n",
            "Epoch 108/150\n",
            "1875/1875 [==============================] - 11s 6ms/step - loss: 0.0306 - accuracy: 0.9918\n",
            "Epoch 109/150\n",
            "1875/1875 [==============================] - 11s 6ms/step - loss: 0.0350 - accuracy: 0.9902\n",
            "Epoch 110/150\n",
            "1875/1875 [==============================] - 11s 6ms/step - loss: 0.0378 - accuracy: 0.9900\n",
            "Epoch 111/150\n",
            "1875/1875 [==============================] - 11s 6ms/step - loss: 0.0201 - accuracy: 0.9933\n",
            "Epoch 112/150\n",
            "1875/1875 [==============================] - 11s 6ms/step - loss: 0.0395 - accuracy: 0.9893\n",
            "Epoch 113/150\n",
            "1875/1875 [==============================] - 11s 6ms/step - loss: 0.0380 - accuracy: 0.9901\n",
            "Epoch 114/150\n",
            "1875/1875 [==============================] - 11s 6ms/step - loss: 0.0335 - accuracy: 0.9908\n",
            "Epoch 115/150\n",
            "1875/1875 [==============================] - 11s 6ms/step - loss: 0.0323 - accuracy: 0.9912\n",
            "Epoch 116/150\n",
            "1875/1875 [==============================] - 11s 6ms/step - loss: 0.0362 - accuracy: 0.9906\n",
            "Epoch 117/150\n",
            "1875/1875 [==============================] - 11s 6ms/step - loss: 0.0481 - accuracy: 0.9889\n",
            "Epoch 118/150\n",
            "1875/1875 [==============================] - 11s 6ms/step - loss: 0.0224 - accuracy: 0.9938\n",
            "Epoch 119/150\n",
            "1875/1875 [==============================] - 11s 6ms/step - loss: 0.0379 - accuracy: 0.9901\n",
            "Epoch 120/150\n",
            "1875/1875 [==============================] - 11s 6ms/step - loss: 0.0351 - accuracy: 0.9912\n",
            "Epoch 121/150\n",
            "1875/1875 [==============================] - 11s 6ms/step - loss: 0.0313 - accuracy: 0.9915\n",
            "Epoch 122/150\n",
            "1875/1875 [==============================] - 11s 6ms/step - loss: 0.0413 - accuracy: 0.9891\n",
            "Epoch 123/150\n",
            "1875/1875 [==============================] - 11s 6ms/step - loss: 0.0369 - accuracy: 0.9904\n",
            "Epoch 124/150\n",
            "1875/1875 [==============================] - 11s 6ms/step - loss: 0.0364 - accuracy: 0.9909\n",
            "Epoch 125/150\n",
            "1875/1875 [==============================] - 11s 6ms/step - loss: 0.0324 - accuracy: 0.9912\n",
            "Epoch 126/150\n",
            "1875/1875 [==============================] - 11s 6ms/step - loss: 0.0335 - accuracy: 0.9905\n",
            "Epoch 127/150\n",
            "1875/1875 [==============================] - 11s 6ms/step - loss: 0.0302 - accuracy: 0.9919\n",
            "Epoch 128/150\n",
            "1875/1875 [==============================] - 11s 6ms/step - loss: 0.0341 - accuracy: 0.9905\n",
            "Epoch 129/150\n",
            "1875/1875 [==============================] - 11s 6ms/step - loss: 0.0403 - accuracy: 0.9908\n",
            "Epoch 130/150\n",
            "1875/1875 [==============================] - 11s 6ms/step - loss: 0.0313 - accuracy: 0.9914\n",
            "Epoch 131/150\n",
            "1875/1875 [==============================] - 12s 6ms/step - loss: 0.0296 - accuracy: 0.9923\n",
            "Epoch 132/150\n",
            "1875/1875 [==============================] - 12s 6ms/step - loss: 0.0369 - accuracy: 0.9900\n",
            "Epoch 133/150\n",
            "1875/1875 [==============================] - 11s 6ms/step - loss: 0.0308 - accuracy: 0.9916\n",
            "Epoch 134/150\n",
            "1875/1875 [==============================] - 11s 6ms/step - loss: 0.0335 - accuracy: 0.9917\n",
            "Epoch 135/150\n",
            "1875/1875 [==============================] - 11s 6ms/step - loss: 0.0417 - accuracy: 0.9902\n",
            "Epoch 136/150\n",
            "1875/1875 [==============================] - 11s 6ms/step - loss: 0.0359 - accuracy: 0.9911\n",
            "Epoch 137/150\n",
            "1875/1875 [==============================] - 11s 6ms/step - loss: 0.0334 - accuracy: 0.9916\n",
            "Epoch 138/150\n",
            "1875/1875 [==============================] - 11s 6ms/step - loss: 0.0377 - accuracy: 0.9908\n",
            "Epoch 139/150\n",
            "1875/1875 [==============================] - 11s 6ms/step - loss: 0.0300 - accuracy: 0.9916\n",
            "Epoch 140/150\n",
            "1875/1875 [==============================] - 11s 6ms/step - loss: 0.0236 - accuracy: 0.9929\n",
            "Epoch 141/150\n",
            "1875/1875 [==============================] - 11s 6ms/step - loss: 0.0403 - accuracy: 0.9901\n",
            "Epoch 142/150\n",
            "1875/1875 [==============================] - 11s 6ms/step - loss: 0.0347 - accuracy: 0.9916\n",
            "Epoch 143/150\n",
            "1875/1875 [==============================] - 11s 6ms/step - loss: 0.0293 - accuracy: 0.9921\n",
            "Epoch 144/150\n",
            "1875/1875 [==============================] - 11s 6ms/step - loss: 0.0382 - accuracy: 0.9902\n",
            "Epoch 145/150\n",
            "1875/1875 [==============================] - 11s 6ms/step - loss: 0.0308 - accuracy: 0.9915\n",
            "Epoch 146/150\n",
            "1875/1875 [==============================] - 11s 6ms/step - loss: 0.0292 - accuracy: 0.9928\n",
            "Epoch 147/150\n",
            "1875/1875 [==============================] - 11s 6ms/step - loss: 0.0345 - accuracy: 0.9913\n",
            "Epoch 148/150\n",
            "1875/1875 [==============================] - 11s 6ms/step - loss: 0.0294 - accuracy: 0.9922\n",
            "Epoch 149/150\n",
            "1875/1875 [==============================] - 11s 6ms/step - loss: 0.0324 - accuracy: 0.9914\n",
            "Epoch 150/150\n",
            "1875/1875 [==============================] - 11s 6ms/step - loss: 0.0396 - accuracy: 0.9907\n",
            "313/313 - 1s - loss: 2.7174 - accuracy: 0.8967 - 779ms/epoch - 2ms/step\n",
            "----------------\n",
            "Acurácia: 0.8967000246047974\n"
          ]
        }
      ]
    },
    {
      "cell_type": "code",
      "source": [
        "treinar_testar_rede(X_treino, y_treino, X_teste, y_teste, 1)"
      ],
      "metadata": {
        "colab": {
          "base_uri": "https://localhost:8080/"
        },
        "id": "vFSNrMQ_PCER",
        "outputId": "533a9a19-bf8d-4c5d-d6fe-2d232f910626"
      },
      "execution_count": 177,
      "outputs": [
        {
          "output_type": "stream",
          "name": "stdout",
          "text": [
            "1875/1875 [==============================] - 11s 6ms/step - loss: 0.0354 - accuracy: 0.9917\n",
            "313/313 - 1s - loss: 3.0604 - accuracy: 0.8860 - 797ms/epoch - 3ms/step\n",
            "----------------\n",
            "Acurácia: 0.8859999775886536\n"
          ]
        }
      ]
    },
    {
      "cell_type": "markdown",
      "source": [
        "**Conclusão**\n",
        "\n",
        "O modelo conseguiu predizer bem os resultados obtendo 89% de acurácia para diiferentes números de epócas. O modelo se saiu bem, contudo estagnou em 89% de acurácia, sendo, portanto necessário a exploração de mais técnicas para melhorar a acurácia da detecção."
      ],
      "metadata": {
        "id": "aI8ZhdvsV-TN"
      }
    }
  ]
}