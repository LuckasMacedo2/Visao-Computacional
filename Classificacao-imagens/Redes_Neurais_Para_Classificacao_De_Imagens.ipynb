{
  "cells": [
    {
      "cell_type": "markdown",
      "metadata": {
        "id": "rZouGSEFJKcI"
      },
      "source": [
        "**Rede Neural**\n",
        "\n",
        "Objetivo: Encontrar o menor conjunto de pesos para cada atributo para aproximar o resultado. Os pesos são iniciados aleatoriamente.\n",
        "\n",
        "- Perceptron de uma camada: Possui entradas que possuem pesos que são somados e depois aplicados em uma função de ativação. \n",
        "\n",
        "- Redes multicamada:\n",
        "\n",
        "Adicionar mais camadas para resolver problemas não linearmente separaveis. São necessárias redes neurais mais complexas para resolver problemas.\n",
        "\n",
        "Função sigmoid: Não retorna valores negativos.\n",
        "\n",
        "Descida do gradiente: Valores da camada oculta -> soma -> função de ativação. A descida do gradiente busca encontrar o conjunto de pesos que resulte no menor erro possível. Cálculo da derivada ajuda a encontrar o local em que o erro é o menor possível. O resultado da derivada diz se deve aumentar ou diminuir o peso.\n",
        "\n",
        "Cálculo do parâmetro Delta: Função de ativação -> derivada da função -> delta -> gradiente. Levar em consideração a camada de saída. O parâmetro delta diz respeito a forma que o peso deve se comportar, se ele deve aumentar ou deve diminuir.\n",
        "\n",
        "Ajuste dos pesos com backpropagation: momento pode acelerar o processo de encontrar o minimo global.\n",
        "\n",
        "\n",
        "Peso = (peson + momento) + (entrada * delta * taxa de aprendizagem)\n",
        "\n",
        "Backpropagation: Atualiza os pesos da camada de saída e depois volta atualizando as camadas anteriores. \n",
        "\n",
        "Redes feedfowards: Atualizam os pesos de trás para frente, a partir da camada de saída para a camada de entrada.\n",
        "\n",
        "Cada atualização peso é denominado de época\n",
        "\n",
        "Bias: Adiciona-se neurônios adicionais nas camadas para evitar que sempre se tema os menos valores de saída\n",
        "\n",
        "Mean absolute error: resposta correta - resposta calculada > mais simples\n",
        "\n",
        "Mean square error (MSE): penaliza mais o erro. Permite o algoritmo se adaptar melhor\n",
        "\n",
        "Root MSE: Aplicar a radiciação no MSE.\n",
        "\n",
        "Descida do gradiente estocatisca: calcula o erro para cada registro do dataset e propaga o erro. Evita minimos locais, além de pode ser considerado mais rápido\n",
        "\n",
        "Mini batch gradient descent: Escolha de um número de registros para executar e atualizar os pesos.\n",
        "\n",
        "Learning rate = taxa de aprendizagem\n",
        "\n",
        "Batch size = tamanho do lote\n",
        "\n",
        "Epochs = épocas. Número de épocas = número de vezes que os pesos serão atualizados..\n",
        "\n",
        "Pixels e redes neurais: uma imagem possui diversos pixels.\n",
        "\n",
        "Representação: conjunto de pixels; classe da imagem\n",
        "\n",
        "Enviar para a rede neural cada pixel da imagem\n",
        "\n",
        "Quanto maior a estrutura da imagem de entrada mais complexa será a arquitetura da rede neural.\n",
        "\n",
        "As imagens precisam ter o mesmo tamanho. Pois os neurônios de entrada da rede neural são limitados.\n",
        "\n",
        "Cada pixel é enviado para um neurônio da rede neural. É necessário também converter a imagem que está em matriz para um vetor para ser dado como entrada para a rede neural.\n",
        "\n"
      ]
    },
    {
      "cell_type": "code",
      "execution_count": 1,
      "metadata": {
        "colab": {
          "base_uri": "https://localhost:8080/"
        },
        "id": "EMBYSs7yJFLL",
        "outputId": "8c2f4883-3098-4fba-b566-913696009eb1"
      },
      "outputs": [
        {
          "output_type": "stream",
          "name": "stdout",
          "text": [
            "Mounted at /content/drive\n"
          ]
        }
      ],
      "source": [
        "from google.colab import drive\n",
        "drive.mount('/content/drive')"
      ]
    },
    {
      "cell_type": "code",
      "source": [
        "# Importando as bibliotecas\n",
        "import cv2 \n",
        "import numpy as np\n",
        "import zipfile\n",
        "import os\n",
        "from google.colab.patches import cv2_imshow\n",
        "\n",
        "import tensorflow as tf\n",
        "import pandas as pd\n",
        "\n",
        "import seaborn as sns\n",
        "import matplotlib.pyplot as plt"
      ],
      "metadata": {
        "id": "V-5qUPx70HUK"
      },
      "execution_count": 2,
      "outputs": []
    },
    {
      "cell_type": "code",
      "source": [
        "tf.__version__"
      ],
      "metadata": {
        "colab": {
          "base_uri": "https://localhost:8080/",
          "height": 35
        },
        "id": "ap1SaXXI0vbT",
        "outputId": "b7e57d5f-8ef3-4e23-83fb-2635b1db3b09"
      },
      "execution_count": 3,
      "outputs": [
        {
          "output_type": "execute_result",
          "data": {
            "text/plain": [
              "'2.8.0'"
            ],
            "application/vnd.google.colaboratory.intrinsic+json": {
              "type": "string"
            }
          },
          "metadata": {},
          "execution_count": 3
        }
      ]
    },
    {
      "cell_type": "markdown",
      "source": [
        "**Extração dos pixels das imagens**"
      ],
      "metadata": {
        "id": "bJYlXQ1v04za"
      }
    },
    {
      "cell_type": "code",
      "source": [
        "path = '/content/drive/MyDrive/Mestrado/Cursos - Udemy/Visão computacional/Recursos/Visão Computacional Guia Completo/Datasets/homer_bart_1.zip'\n",
        "\n",
        "zip_object = zipfile.ZipFile(file = path, mode = 'r')\n",
        "zip_object.extractall('./')\n",
        "zip_object.close()"
      ],
      "metadata": {
        "id": "pluzt5Ct02Yp"
      },
      "execution_count": 4,
      "outputs": []
    },
    {
      "cell_type": "code",
      "source": [
        "diretorio = '/content/homer_bart_1'\n",
        "\n",
        "arquivos = [os.path.join(diretorio, f) for f in sorted(os.listdir(diretorio))]"
      ],
      "metadata": {
        "id": "SRyWD5lg1uxi"
      },
      "execution_count": 5,
      "outputs": []
    },
    {
      "cell_type": "code",
      "source": [
        "# Redizindo o tamanho das imagens, pois as redes neurais possuem número limitado de neurônios na entrada\n",
        "largura, altura = 128, 128"
      ],
      "metadata": {
        "id": "5XUUROH-2Jrj"
      },
      "execution_count": 6,
      "outputs": []
    },
    {
      "cell_type": "code",
      "source": [
        "imagens = [] # pixels da imagem\n",
        "classes = [] # classe da imagem"
      ],
      "metadata": {
        "id": "wBto2lJ62yfi"
      },
      "execution_count": null,
      "outputs": []
    },
    {
      "cell_type": "code",
      "source": [
        "for arquivo in arquivos:\n",
        "  try:\n",
        "    imagem = cv2.imread(arquivo)\n",
        "    (H, W) = imagem.shape[:2]\n",
        "  except:\n",
        "    continue\n",
        "  \n",
        "  # Redimensionando a imagem e convertendo-a para escala de cinza.\n",
        "  imagem = cv2.resize(imagem, (largura, altura))\n",
        "  imagem = cv2.cvtColor(imagem, cv2.COLOR_BGR2GRAY)\n",
        "\n",
        "  # Convertendo de matriz para vetor\n",
        "  imagem = imagem.ravel()\n",
        "  imagens.append(imagem)\n",
        "\n",
        "  # Classes\n",
        "  nome_imagem = os.path.basename(os.path.normpath(arquivo))\n",
        "\n",
        "  if nome_imagem.startswith('b'):\n",
        "    classe = 0 # Bart\n",
        "  else:\n",
        "    classe = 1 # Homer\n",
        "\n",
        "  classes.append(classe)\n",
        "  "
      ],
      "metadata": {
        "id": "uEO4_gWj23nN"
      },
      "execution_count": null,
      "outputs": []
    },
    {
      "cell_type": "code",
      "source": [
        "# Convertendo para array\n",
        "X = np.asarray(imagens) # Itens a serem preditos\n",
        "y = np.asarray(classes)  # Classes dos itens"
      ],
      "metadata": {
        "id": "zFGGz65S3WZS"
      },
      "execution_count": null,
      "outputs": []
    },
    {
      "cell_type": "code",
      "source": [
        "X.shape"
      ],
      "metadata": {
        "colab": {
          "base_uri": "https://localhost:8080/"
        },
        "id": "LUxJJGDr6Mot",
        "outputId": "818b0eb4-8885-46ba-812c-4c67e67e64ec"
      },
      "execution_count": null,
      "outputs": [
        {
          "output_type": "execute_result",
          "data": {
            "text/plain": [
              "(269, 16384)"
            ]
          },
          "metadata": {},
          "execution_count": 49
        }
      ]
    },
    {
      "cell_type": "code",
      "source": [
        "sns.countplot(y)"
      ],
      "metadata": {
        "colab": {
          "base_uri": "https://localhost:8080/",
          "height": 337
        },
        "id": "-TA95Ihh5C3T",
        "outputId": "8d0ad2db-1394-44c9-f9ce-cf0715a57114"
      },
      "execution_count": null,
      "outputs": [
        {
          "output_type": "stream",
          "name": "stderr",
          "text": [
            "/usr/local/lib/python3.7/dist-packages/seaborn/_decorators.py:43: FutureWarning: Pass the following variable as a keyword arg: x. From version 0.12, the only valid positional argument will be `data`, and passing other arguments without an explicit keyword will result in an error or misinterpretation.\n",
            "  FutureWarning\n"
          ]
        },
        {
          "output_type": "execute_result",
          "data": {
            "text/plain": [
              "<matplotlib.axes._subplots.AxesSubplot at 0x7f493337f410>"
            ]
          },
          "metadata": {},
          "execution_count": 35
        },
        {
          "output_type": "display_data",
          "data": {
            "text/plain": [
              "<Figure size 432x288 with 1 Axes>"
            ],
            "image/png": "[encoded data removed]"
          },
          "metadata": {
            "needs_background": "light"
          }
        }
      ]
    },
    {
      "cell_type": "code",
      "source": [
        "np.unique(y, return_counts=True)"
      ],
      "metadata": {
        "colab": {
          "base_uri": "https://localhost:8080/"
        },
        "id": "SYe9hYAw5TLK",
        "outputId": "297a0538-2c60-4849-9a8b-5933eff778bb"
      },
      "execution_count": null,
      "outputs": [
        {
          "output_type": "execute_result",
          "data": {
            "text/plain": [
              "(array([0, 1]), array([160, 109]))"
            ]
          },
          "metadata": {},
          "execution_count": 32
        }
      ]
    },
    {
      "cell_type": "markdown",
      "source": [
        "**Normalização dos dados**\n",
        "\n",
        "Busca deixar os valores em uma mesma escala"
      ],
      "metadata": {
        "id": "kt50ZwFU5bxi"
      }
    },
    {
      "cell_type": "code",
      "source": [
        "from sklearn.preprocessing import MinMaxScaler\n",
        "scaler = MinMaxScaler()\n",
        "X = scaler.fit_transform(X)"
      ],
      "metadata": {
        "id": "EtM2jU575aCS"
      },
      "execution_count": null,
      "outputs": []
    },
    {
      "cell_type": "code",
      "source": [
        "X[0]. max(), X.min()"
      ],
      "metadata": {
        "colab": {
          "base_uri": "https://localhost:8080/"
        },
        "id": "aUkxNQbK51HK",
        "outputId": "e8c0fafb-d4ef-4730-f66d-67475fb01157"
      },
      "execution_count": null,
      "outputs": [
        {
          "output_type": "execute_result",
          "data": {
            "text/plain": [
              "(1.0000000000000002, 0.0)"
            ]
          },
          "metadata": {},
          "execution_count": 51
        }
      ]
    },
    {
      "cell_type": "markdown",
      "source": [
        "**Divisão da base em treino e teste**\n",
        "\n",
        "Uma parte é usada para aprender os pesos -> Treino\n",
        "\n",
        "Outra parte é usada para testar o modelo -> Teste"
      ],
      "metadata": {
        "id": "XjTAMgTr6-ej"
      }
    },
    {
      "cell_type": "code",
      "source": [
        "from sklearn.model_selection import train_test_split"
      ],
      "metadata": {
        "id": "V9xu12Wv7YlB"
      },
      "execution_count": null,
      "outputs": []
    },
    {
      "cell_type": "code",
      "source": [
        "X_treinamento, X_teste, y_treinamento, y_teste = train_test_split(X, y, test_size = 0.2, random_state = 1) # test_size -> Porcentagem da base de dados que será usada para teste."
      ],
      "metadata": {
        "id": "T8hFPTEF695_"
      },
      "execution_count": null,
      "outputs": []
    },
    {
      "cell_type": "markdown",
      "source": [
        "**Construção e treinamento da rede neural**"
      ],
      "metadata": {
        "id": "GhDXFxSb7x-r"
      }
    },
    {
      "cell_type": "code",
      "source": [
        "# Calculo número units:\n",
        "# Dimensões da imagem: kargura x altura = 128 * 128 = 16384\n",
        "(16384 +2) / 2\n"
      ],
      "metadata": {
        "id": "mY4tM6AW8q0k"
      },
      "execution_count": null,
      "outputs": []
    },
    {
      "cell_type": "code",
      "source": [
        "rede1 = tf.keras.models.Sequential()\n",
        "\n",
        "# Adicionado as camadas\n",
        "# Camada de entrada e 1ª camada oculta\n",
        "rede1.add(tf.keras.layers.Dense(input_shape = (16384, ), units = 8193, activation = 'relu')) # Dense() -> Um neurônio de uma camada está ligado com todos os neurônios de outra camada. input_shape = (16384, ) -> tamanho da camada de entrada, valor equivalente a quantidade de pixels da entrada\n",
        "# units = 8193 -> quantidade de neurônios da camada de entrada\n",
        "# activation = 'relu' -> função de ativação. Relu -> padrão para redes neurais\n",
        "\n",
        "# 2ª camada oculta\n",
        "rede1.add(tf.keras.layers.Dense(units = 8193, activation = 'relu'))\n",
        "\n",
        "# Camada de saída\n",
        "rede1.add(tf.keras.layers.Dense(units = 1, activation = 'sigmoid'))\n",
        "# activation = 'sigmoid' = retorna uma probabilidade"
      ],
      "metadata": {
        "id": "BvxmJ9Hz60WL"
      },
      "execution_count": null,
      "outputs": []
    },
    {
      "cell_type": "code",
      "source": [
        "rede1.summary()"
      ],
      "metadata": {
        "colab": {
          "base_uri": "https://localhost:8080/"
        },
        "id": "VbXb10tp9B5q",
        "outputId": "3c7705c2-6860-426f-c8ea-e1d3bec979ef"
      },
      "execution_count": null,
      "outputs": [
        {
          "output_type": "stream",
          "name": "stdout",
          "text": [
            "Model: \"sequential_2\"\n",
            "_________________________________________________________________\n",
            " Layer (type)                Output Shape              Param #   \n",
            "=================================================================\n",
            " dense_4 (Dense)             (None, 8193)              134242305 \n",
            "                                                                 \n",
            " dense_5 (Dense)             (None, 8193)              67133442  \n",
            "                                                                 \n",
            " dense_6 (Dense)             (None, 1)                 8194      \n",
            "                                                                 \n",
            "=================================================================\n",
            "Total params: 201,383,941\n",
            "Trainable params: 201,383,941\n",
            "Non-trainable params: 0\n",
            "_________________________________________________________________\n"
          ]
        }
      ]
    },
    {
      "cell_type": "code",
      "source": [
        "rede1.compile(optimizer = 'adam', loss = 'binary_crossentropy', metrics=['accuracy']) # optimizer -> algoritmo para ajuste de pesos e encontrar o minimo global\n",
        "# loss -> função utilizada para calcular o erro\n",
        "# metrics -> métrica de avaliação da rde"
      ],
      "metadata": {
        "id": "5BU8TEmq90Nq"
      },
      "execution_count": null,
      "outputs": []
    },
    {
      "cell_type": "code",
      "source": [
        "# Treinando\n",
        "historico = rede1.fit(X_treinamento, y_treinamento, epochs = 50)"
      ],
      "metadata": {
        "colab": {
          "base_uri": "https://localhost:8080/"
        },
        "id": "LJgHLuXC-Pwr",
        "outputId": "5a54b93c-4c72-4c58-96b9-54b60ff4c98f"
      },
      "execution_count": null,
      "outputs": [
        {
          "output_type": "stream",
          "name": "stdout",
          "text": [
            "Epoch 1/50\n",
            "7/7 [==============================] - 0s 49ms/step - loss: 0.1326 - accuracy: 0.9674\n",
            "Epoch 2/50\n",
            "7/7 [==============================] - 0s 46ms/step - loss: 0.1276 - accuracy: 0.9628\n",
            "Epoch 3/50\n",
            "7/7 [==============================] - 0s 46ms/step - loss: 0.0897 - accuracy: 0.9814\n",
            "Epoch 4/50\n",
            "7/7 [==============================] - 0s 46ms/step - loss: 0.0714 - accuracy: 1.0000\n",
            "Epoch 5/50\n",
            "7/7 [==============================] - 0s 45ms/step - loss: 0.0675 - accuracy: 0.9953\n",
            "Epoch 6/50\n",
            "7/7 [==============================] - 0s 45ms/step - loss: 0.0622 - accuracy: 0.9907\n",
            "Epoch 7/50\n",
            "7/7 [==============================] - 0s 45ms/step - loss: 0.0790 - accuracy: 0.9721\n",
            "Epoch 8/50\n",
            "7/7 [==============================] - 0s 45ms/step - loss: 0.0458 - accuracy: 0.9953\n",
            "Epoch 9/50\n",
            "7/7 [==============================] - 0s 46ms/step - loss: 0.0484 - accuracy: 0.9907\n",
            "Epoch 10/50\n",
            "7/7 [==============================] - 0s 45ms/step - loss: 0.0430 - accuracy: 0.9907\n",
            "Epoch 11/50\n",
            "7/7 [==============================] - 0s 45ms/step - loss: 0.0280 - accuracy: 1.0000\n",
            "Epoch 12/50\n",
            "7/7 [==============================] - 0s 46ms/step - loss: 0.0218 - accuracy: 1.0000\n",
            "Epoch 13/50\n",
            "7/7 [==============================] - 0s 45ms/step - loss: 0.0194 - accuracy: 1.0000\n",
            "Epoch 14/50\n",
            "7/7 [==============================] - 0s 46ms/step - loss: 0.0236 - accuracy: 1.0000\n",
            "Epoch 15/50\n",
            "7/7 [==============================] - 0s 53ms/step - loss: 0.0294 - accuracy: 0.9953\n",
            "Epoch 16/50\n",
            "7/7 [==============================] - 0s 51ms/step - loss: 0.0198 - accuracy: 1.0000\n",
            "Epoch 17/50\n",
            "7/7 [==============================] - 0s 46ms/step - loss: 0.0246 - accuracy: 0.9953\n",
            "Epoch 18/50\n",
            "7/7 [==============================] - 0s 50ms/step - loss: 0.0207 - accuracy: 1.0000\n",
            "Epoch 19/50\n",
            "7/7 [==============================] - 0s 52ms/step - loss: 0.0269 - accuracy: 0.9953\n",
            "Epoch 20/50\n",
            "7/7 [==============================] - 0s 46ms/step - loss: 0.0455 - accuracy: 0.9907\n",
            "Epoch 21/50\n",
            "7/7 [==============================] - 0s 54ms/step - loss: 0.0166 - accuracy: 1.0000\n",
            "Epoch 22/50\n",
            "7/7 [==============================] - 0s 54ms/step - loss: 0.0172 - accuracy: 1.0000\n",
            "Epoch 23/50\n",
            "7/7 [==============================] - 0s 53ms/step - loss: 0.0093 - accuracy: 1.0000\n",
            "Epoch 24/50\n",
            "7/7 [==============================] - 0s 51ms/step - loss: 0.0082 - accuracy: 1.0000\n",
            "Epoch 25/50\n",
            "7/7 [==============================] - 0s 45ms/step - loss: 0.0059 - accuracy: 1.0000\n",
            "Epoch 26/50\n",
            "7/7 [==============================] - 0s 45ms/step - loss: 0.0061 - accuracy: 1.0000\n",
            "Epoch 27/50\n",
            "7/7 [==============================] - 0s 46ms/step - loss: 0.0042 - accuracy: 1.0000\n",
            "Epoch 28/50\n",
            "7/7 [==============================] - 0s 45ms/step - loss: 0.0035 - accuracy: 1.0000\n",
            "Epoch 29/50\n",
            "7/7 [==============================] - 0s 46ms/step - loss: 0.0033 - accuracy: 1.0000\n",
            "Epoch 30/50\n",
            "7/7 [==============================] - 0s 46ms/step - loss: 0.0033 - accuracy: 1.0000\n",
            "Epoch 31/50\n",
            "7/7 [==============================] - 0s 45ms/step - loss: 0.0032 - accuracy: 1.0000\n",
            "Epoch 32/50\n",
            "7/7 [==============================] - 0s 45ms/step - loss: 0.0032 - accuracy: 1.0000\n",
            "Epoch 33/50\n",
            "7/7 [==============================] - 0s 46ms/step - loss: 0.0029 - accuracy: 1.0000\n",
            "Epoch 34/50\n",
            "7/7 [==============================] - 0s 46ms/step - loss: 0.0029 - accuracy: 1.0000\n",
            "Epoch 35/50\n",
            "7/7 [==============================] - 0s 46ms/step - loss: 0.0027 - accuracy: 1.0000\n",
            "Epoch 36/50\n",
            "7/7 [==============================] - 0s 46ms/step - loss: 0.0028 - accuracy: 1.0000\n",
            "Epoch 37/50\n",
            "7/7 [==============================] - 0s 46ms/step - loss: 0.0026 - accuracy: 1.0000\n",
            "Epoch 38/50\n",
            "7/7 [==============================] - 0s 45ms/step - loss: 0.0024 - accuracy: 1.0000\n",
            "Epoch 39/50\n",
            "7/7 [==============================] - 0s 46ms/step - loss: 0.0022 - accuracy: 1.0000\n",
            "Epoch 40/50\n",
            "7/7 [==============================] - 0s 46ms/step - loss: 0.0021 - accuracy: 1.0000\n",
            "Epoch 41/50\n",
            "7/7 [==============================] - 0s 46ms/step - loss: 0.0021 - accuracy: 1.0000\n",
            "Epoch 42/50\n",
            "7/7 [==============================] - 0s 45ms/step - loss: 0.0021 - accuracy: 1.0000\n",
            "Epoch 43/50\n",
            "7/7 [==============================] - 0s 45ms/step - loss: 0.0019 - accuracy: 1.0000\n",
            "Epoch 44/50\n",
            "7/7 [==============================] - 0s 46ms/step - loss: 0.0019 - accuracy: 1.0000\n",
            "Epoch 45/50\n",
            "7/7 [==============================] - 0s 45ms/step - loss: 0.0019 - accuracy: 1.0000\n",
            "Epoch 46/50\n",
            "7/7 [==============================] - 0s 46ms/step - loss: 0.0019 - accuracy: 1.0000\n",
            "Epoch 47/50\n",
            "7/7 [==============================] - 0s 46ms/step - loss: 0.0017 - accuracy: 1.0000\n",
            "Epoch 48/50\n",
            "7/7 [==============================] - 0s 46ms/step - loss: 0.0017 - accuracy: 1.0000\n",
            "Epoch 49/50\n",
            "7/7 [==============================] - 0s 46ms/step - loss: 0.0017 - accuracy: 1.0000\n",
            "Epoch 50/50\n",
            "7/7 [==============================] - 0s 45ms/step - loss: 0.0017 - accuracy: 1.0000\n"
          ]
        }
      ]
    },
    {
      "cell_type": "markdown",
      "source": [
        "**Avaliação da rede neural**"
      ],
      "metadata": {
        "id": "txgJXGr3-zFD"
      }
    },
    {
      "cell_type": "code",
      "source": [
        "plt.plot(historico.history['loss']);"
      ],
      "metadata": {
        "colab": {
          "base_uri": "https://localhost:8080/",
          "height": 265
        },
        "id": "EXwi6tnq-y2a",
        "outputId": "7f42cb06-e880-4870-c183-989c5a3dc49e"
      },
      "execution_count": null,
      "outputs": [
        {
          "output_type": "display_data",
          "data": {
            "text/plain": [
              "<Figure size 432x288 with 1 Axes>"
            ],
            "image/png": "[encoded data removed]"
          },
          "metadata": {
            "needs_background": "light"
          }
        }
      ]
    },
    {
      "cell_type": "code",
      "source": [
        "plt.plot(historico.history['accuracy']);"
      ],
      "metadata": {
        "colab": {
          "base_uri": "https://localhost:8080/",
          "height": 265
        },
        "id": "Uq2HFbfS-cwZ",
        "outputId": "01df4892-c0d0-4be9-c7b4-b6fbe068c55b"
      },
      "execution_count": null,
      "outputs": [
        {
          "output_type": "display_data",
          "data": {
            "text/plain": [
              "<Figure size 432x288 with 1 Axes>"
            ],
            "image/png": "[encoded data removed]"
          },
          "metadata": {
            "needs_background": "light"
          }
        }
      ]
    },
    {
      "cell_type": "code",
      "source": [
        "previsoes = rede1.predict(X_teste)"
      ],
      "metadata": {
        "id": "S6euUxKm-_ny"
      },
      "execution_count": null,
      "outputs": []
    },
    {
      "cell_type": "code",
      "source": [
        "# 0 -> false -> bart\n",
        "# 1 -> true -> homer\n",
        "previsoes = (previsoes > 0.5)"
      ],
      "metadata": {
        "id": "QVoDQ9QX_L-6"
      },
      "execution_count": null,
      "outputs": []
    },
    {
      "cell_type": "code",
      "source": [
        "from sklearn.metrics import accuracy_score\n",
        "accuracy_score(y_teste, previsoes)"
      ],
      "metadata": {
        "colab": {
          "base_uri": "https://localhost:8080/"
        },
        "id": "vJIg6kfS_aZi",
        "outputId": "14d33338-a12e-4281-b673-616a39541f7e"
      },
      "execution_count": null,
      "outputs": [
        {
          "output_type": "execute_result",
          "data": {
            "text/plain": [
              "0.7037037037037037"
            ]
          },
          "metadata": {},
          "execution_count": 76
        }
      ]
    },
    {
      "cell_type": "code",
      "source": [
        "from sklearn.metrics import confusion_matrix\n",
        "cm = confusion_matrix(y_teste, previsoes)\n",
        "sns.heatmap(cm, annot = True)"
      ],
      "metadata": {
        "colab": {
          "base_uri": "https://localhost:8080/",
          "height": 286
        },
        "id": "UrjWSkqK_uBC",
        "outputId": "47e094f4-d1eb-45ab-dc50-caf48f970c3a"
      },
      "execution_count": null,
      "outputs": [
        {
          "output_type": "execute_result",
          "data": {
            "text/plain": [
              "<matplotlib.axes._subplots.AxesSubplot at 0x7f48a0205310>"
            ]
          },
          "metadata": {},
          "execution_count": 77
        },
        {
          "output_type": "display_data",
          "data": {
            "text/plain": [
              "<Figure size 432x288 with 2 Axes>"
            ],
            "image/png": "[encoded data removed]"
          },
          "metadata": {
            "needs_background": "light"
          }
        }
      ]
    },
    {
      "cell_type": "code",
      "source": [
        "from sklearn.metrics import classification_report\n",
        "print(classification_report(y_teste, previsoes))"
      ],
      "metadata": {
        "colab": {
          "base_uri": "https://localhost:8080/"
        },
        "id": "550pKYTg_8BL",
        "outputId": "eb8eb0e6-9959-4862-a812-ecc6f0a5d822"
      },
      "execution_count": null,
      "outputs": [
        {
          "output_type": "stream",
          "name": "stdout",
          "text": [
            "              precision    recall  f1-score   support\n",
            "\n",
            "           0       0.69      0.79      0.73        28\n",
            "           1       0.73      0.62      0.67        26\n",
            "\n",
            "    accuracy                           0.70        54\n",
            "   macro avg       0.71      0.70      0.70        54\n",
            "weighted avg       0.71      0.70      0.70        54\n",
            "\n"
          ]
        }
      ]
    },
    {
      "cell_type": "markdown",
      "source": [
        "**Salvando e carregando a rede neural**"
      ],
      "metadata": {
        "id": "8TMranQaATbz"
      }
    },
    {
      "cell_type": "code",
      "source": [
        "model_json = rede1.to_json()\n",
        "\n",
        "with open('rede1.json', 'w') as json_file:\n",
        "  json_file.write(model_json)"
      ],
      "metadata": {
        "id": "gAWQSTKaAKhC"
      },
      "execution_count": null,
      "outputs": []
    },
    {
      "cell_type": "code",
      "source": [
        "from keras.models import save_model\n",
        "rede_salva = save_model(rede1, 'weights1.hdf5')"
      ],
      "metadata": {
        "id": "ljwt4u5DAXXE"
      },
      "execution_count": null,
      "outputs": []
    },
    {
      "cell_type": "code",
      "source": [
        "with open('rede1.json') as json_file:\n",
        "  json_saved_model = json_file.read()"
      ],
      "metadata": {
        "id": "ivWd-IPiAxTE"
      },
      "execution_count": null,
      "outputs": []
    },
    {
      "cell_type": "code",
      "source": [
        "rede_carregada = tf.keras.models.model_from_json(json_saved_model)\n",
        "rede_carregada.load_weights('/content/weights1.hdf5')\n",
        "rede_carregada.compile(loss = 'binary_crossentropy', optimizer = 'Adam', metrics = ['accuracy'])"
      ],
      "metadata": {
        "id": "4KSRURlmBAuz"
      },
      "execution_count": null,
      "outputs": []
    },
    {
      "cell_type": "code",
      "source": [
        "rede_carregada.summary()"
      ],
      "metadata": {
        "colab": {
          "base_uri": "https://localhost:8080/"
        },
        "id": "ezia0OakBfuL",
        "outputId": "480529f1-becd-4c64-c7e9-e9196c697959"
      },
      "execution_count": null,
      "outputs": [
        {
          "output_type": "stream",
          "name": "stdout",
          "text": [
            "Model: \"sequential_2\"\n",
            "_________________________________________________________________\n",
            " Layer (type)                Output Shape              Param #   \n",
            "=================================================================\n",
            " dense_4 (Dense)             (None, 8193)              134242305 \n",
            "                                                                 \n",
            " dense_5 (Dense)             (None, 8193)              67133442  \n",
            "                                                                 \n",
            " dense_6 (Dense)             (None, 1)                 8194      \n",
            "                                                                 \n",
            "=================================================================\n",
            "Total params: 201,383,941\n",
            "Trainable params: 201,383,941\n",
            "Non-trainable params: 0\n",
            "_________________________________________________________________\n"
          ]
        }
      ]
    },
    {
      "cell_type": "markdown",
      "source": [
        "**Testes com classificação de imagens**"
      ],
      "metadata": {
        "id": "BFC3evbuB1fz"
      }
    },
    {
      "cell_type": "code",
      "source": [
        "# Transformando a imagem de vetor de pixels para matriz\n",
        "imagem_teste = X_teste[0]\n",
        "imagem_teste = scaler.inverse_transform(imagem_teste.reshape(1, -1))"
      ],
      "metadata": {
        "id": "SNJwMlUsCKyj"
      },
      "execution_count": null,
      "outputs": []
    },
    {
      "cell_type": "code",
      "source": [
        "cv2_imshow(imagem_teste.reshape(128,128))"
      ],
      "metadata": {
        "colab": {
          "base_uri": "https://localhost:8080/",
          "height": 145
        },
        "id": "qsdCFtmgB0bD",
        "outputId": "1e0fe9fd-893d-4298-8bec-2678dd5a5c03"
      },
      "execution_count": null,
      "outputs": [
        {
          "output_type": "display_data",
          "data": {
            "text/plain": [
              "<PIL.Image.Image image mode=L size=128x128 at 0x7F48A00A9310>"
            ],
            "image/png": "[encoded data removed]"
          },
          "metadata": {}
        }
      ]
    },
    {
      "cell_type": "code",
      "source": [
        "# Predizendo a classe do elemento\n",
        "if rede_carregada.predict(imagem_teste)[0][0] < 0.5:\n",
        "  print('Bart')\n",
        "else:\n",
        "  print('Homer')"
      ],
      "metadata": {
        "colab": {
          "base_uri": "https://localhost:8080/"
        },
        "id": "zlrHdswRCEoL",
        "outputId": "f31b17fd-d339-49fc-ccea-cf27014d2a1c"
      },
      "execution_count": null,
      "outputs": [
        {
          "output_type": "stream",
          "name": "stdout",
          "text": [
            "Bart\n"
          ]
        }
      ]
    },
    {
      "cell_type": "markdown",
      "source": [
        "**Extração de características**\n",
        "\n",
        "Identificar caractetristicas únicas de cada classe. Por exemplo: cores.\n",
        "\n",
        "Permite reduzir a quantidade de neuônios da camada de entrada da rede. Também reduz a complexidade da base de dados."
      ],
      "metadata": {
        "id": "dehlFdEU4r3_"
      }
    },
    {
      "cell_type": "code",
      "source": [
        "export = 'boca,calca,sapatos,camisa,calcao,tenis,classe\\n' # cabecalho do arquivo"
      ],
      "metadata": {
        "id": "xlU1HbdgCtub"
      },
      "execution_count": 7,
      "outputs": []
    },
    {
      "cell_type": "code",
      "source": [
        "mostrar_imagens = False\n",
        "caracteristicas = []"
      ],
      "metadata": {
        "id": "vTBQkX6b6PeV"
      },
      "execution_count": 8,
      "outputs": []
    },
    {
      "cell_type": "code",
      "source": [
        "# Extrator de características\n",
        "for arquivo in arquivos:\n",
        "  try:\n",
        "    imagem_original = cv2.imread(arquivo)\n",
        "    (H, W) = imagem_original.shape[:2]\n",
        "  except:\n",
        "    continue\n",
        "  \n",
        "  imagem_alterada = imagem_original.copy()\n",
        "  imagem_caracteristicas = []\n",
        "  imagem_nome = os.path.basename(os.path.normpath(arquivo))\n",
        "  boca = calca = sapato = 0\n",
        "  camisa = calcao = tenis = 0\n",
        "\n",
        "  if imagem_nome.startswith('b'):\n",
        "    classe = 0\n",
        "  else:\n",
        "    classe = 1\n",
        "\n",
        "  for altura in range(0, H):\n",
        "    for largura in range(0, W):\n",
        "      # RGB -> no openCv: BGR\n",
        "      azul = imagem_alterada.item(altura, largura, 0)\n",
        "      verde = imagem_alterada.item(altura, largura, 1)\n",
        "      vermelho = imagem_alterada.item(altura, largura, 2)\n",
        "\n",
        "      # Homer - marrom da boca\n",
        "      if(azul >=95 and azul<=140 and verde>=160 and verde<=185 and vermelho>=175 and vermelho<=205):\n",
        "        if mostrar_imagens:\n",
        "          imagem_alterada[altura, largura] = [0, 255, 255]\n",
        "        calca += 1\n",
        "\n",
        "      # Homer - azul da calça\n",
        "      if(azul >=150 and azul<=180 and verde>=98 and verde<=120 and vermelho>=0 and vermelho<=90):\n",
        "        if mostrar_imagens:\n",
        "          imagem_alterada[altura, largura] = [0, 255, 255]\n",
        "        calca += 1\n",
        "\n",
        "      if altura > (H/2):\n",
        "        # Homer - cinza dos sapatos\n",
        "        if(azul >=25 and azul<=45 and verde>=25 and verde<=45 and vermelho>=25 and vermelho<=45):\n",
        "          if mostrar_imagens:\n",
        "            imagem_alterada[altura, largura] = [0, 255, 255]\n",
        "          sapato += 1\n",
        "\n",
        "      # Bart - Laranja da camisa\n",
        "      if(azul >=11 and azul<=50 and verde>=85 and verde<=105 and vermelho>=240 and vermelho<=255):\n",
        "        if mostrar_imagens:\n",
        "          imagem_alterada[altura, largura] = [0, 255, 128]\n",
        "        camisa += 1\n",
        "      \n",
        "      # Bart - Azul do calcao\n",
        "      if(azul >=125 and azul<=170 and verde>=0 and verde<=12 and vermelho>=0 and vermelho<=120):\n",
        "        if mostrar_imagens:\n",
        "          imagem_alterada[altura, largura] = [0, 255, 128]\n",
        "        calcao += 1\n",
        "      \n",
        "      # Bart - Azul do tênis\n",
        "      if altura > (H/2):\n",
        "        if(azul >=125 and azul<=170 and verde>=0 and verde<=12 and vermelho>=0 and vermelho<=120):\n",
        "          if mostrar_imagens:\n",
        "            imagem_alterada[altura, largura] = [0, 255, 128]\n",
        "          tenis += 1\n",
        "  \n",
        "  boca = round((boca / (H*W)* 100), 9) # Quantos % da imagem corresponde a característica\n",
        "  calca = round((calca / (H*W)* 100), 9) \n",
        "  sapato = round((sapato / (H*W)* 100), 9) \n",
        "\n",
        "  camisa = round((camisa / (H*W)* 100), 9) \n",
        "  calcao = round((calcao / (H*W)* 100), 9) \n",
        "  tenis = round((tenis / (H*W)* 100), 9) \n",
        "\n",
        "\n",
        "  imagem_caracteristicas.append(boca)\n",
        "  imagem_caracteristicas.append(calca)\n",
        "  imagem_caracteristicas.append(sapato)\n",
        "\n",
        "  imagem_caracteristicas.append(camisa)\n",
        "  imagem_caracteristicas.append(calcao)\n",
        "  imagem_caracteristicas.append(tenis)\n",
        "\n",
        "  imagem_caracteristicas.append(classe)\n",
        "\n",
        "  caracteristicas.append(imagem_caracteristicas)\n",
        "\n",
        "  f = (','.join([str(item) for item in imagem_caracteristicas]))\n",
        "  export += f + '\\n'\n",
        "\n",
        "  # Visualização da comparação das imagens\n",
        "  if mostrar_imagens:\n",
        "    imagem_alterada = cv2.cvtColor(imagem_alterada, cv2.COLOR_BGR2RGB)\n",
        "    imagem_original = cv2.cvtColor(imagem_original, cv2.COLOR_BGR2RGB)\n",
        "    figura, im = plt.subplots(1, 2)\n",
        "    im[0].imshow(imagem_original)\n",
        "    im[1].imshow(imagem_alterada)\n",
        "    plt.show()"
      ],
      "metadata": {
        "id": "hDfOqXBM6UZw",
        "colab": {
          "base_uri": "https://localhost:8080/"
        },
        "outputId": "fb99e66f-fb94-4cf7-cdc4-41a629de0288"
      },
      "execution_count": 9,
      "outputs": [
        {
          "output_type": "stream",
          "name": "stdout",
          "text": [
            "0\n",
            "0\n",
            "0\n",
            "0\n",
            "0\n",
            "0\n",
            "0\n",
            "0\n",
            "0\n",
            "0\n",
            "0\n",
            "0\n",
            "0\n",
            "0\n",
            "0\n",
            "0\n",
            "0\n",
            "0\n",
            "0\n",
            "0\n",
            "0\n",
            "0\n",
            "0\n",
            "0\n",
            "0\n",
            "0\n",
            "0\n",
            "0\n",
            "0\n",
            "0\n",
            "0\n",
            "0\n",
            "0\n",
            "0\n",
            "0\n",
            "0\n",
            "0\n",
            "0\n",
            "0\n",
            "0\n",
            "0\n",
            "0\n",
            "0\n",
            "0\n",
            "0\n",
            "0\n",
            "0\n",
            "0\n",
            "0\n",
            "0\n",
            "0\n",
            "0\n",
            "0\n",
            "0\n",
            "0\n",
            "0\n",
            "0\n",
            "0\n",
            "0\n",
            "0\n",
            "0\n",
            "0\n",
            "0\n",
            "0\n",
            "0\n",
            "0\n",
            "0\n",
            "0\n",
            "0\n",
            "0\n",
            "0\n",
            "0\n",
            "0\n",
            "0\n",
            "0\n",
            "0\n",
            "0\n",
            "0\n",
            "0\n",
            "0\n",
            "0\n",
            "0\n",
            "0\n",
            "0\n",
            "0\n",
            "0\n",
            "0\n",
            "0\n",
            "0\n",
            "0\n",
            "0\n",
            "0\n",
            "0\n",
            "0\n",
            "0\n",
            "0\n",
            "0\n",
            "0\n",
            "0\n",
            "0\n",
            "0\n",
            "0\n",
            "0\n",
            "0\n",
            "0\n",
            "0\n",
            "0\n",
            "0\n",
            "0\n",
            "0\n",
            "0\n",
            "0\n",
            "0\n",
            "0\n",
            "0\n",
            "0\n",
            "0\n",
            "0\n",
            "0\n",
            "0\n",
            "0\n",
            "0\n",
            "0\n",
            "0\n",
            "0\n",
            "0\n",
            "0\n",
            "0\n",
            "0\n",
            "0\n",
            "0\n",
            "0\n",
            "0\n",
            "0\n",
            "0\n",
            "0\n",
            "0\n",
            "0\n",
            "0\n",
            "0\n",
            "0\n",
            "0\n",
            "0\n",
            "0\n",
            "0\n",
            "0\n",
            "0\n",
            "0\n",
            "0\n",
            "0\n",
            "0\n",
            "0\n",
            "0\n",
            "0\n",
            "0\n",
            "0\n",
            "0\n",
            "0\n",
            "0\n",
            "0\n",
            "1\n",
            "1\n",
            "1\n",
            "1\n",
            "1\n",
            "1\n",
            "1\n",
            "1\n",
            "1\n",
            "1\n",
            "1\n",
            "1\n",
            "1\n",
            "1\n",
            "1\n",
            "1\n",
            "1\n",
            "1\n",
            "1\n",
            "1\n",
            "1\n",
            "1\n",
            "1\n",
            "1\n",
            "1\n",
            "1\n",
            "1\n",
            "1\n",
            "1\n",
            "1\n",
            "1\n",
            "1\n",
            "1\n",
            "1\n",
            "1\n",
            "1\n",
            "1\n",
            "1\n",
            "1\n",
            "1\n",
            "1\n",
            "1\n",
            "1\n",
            "1\n",
            "1\n",
            "1\n",
            "1\n",
            "1\n",
            "1\n",
            "1\n",
            "1\n",
            "1\n",
            "1\n",
            "1\n",
            "1\n",
            "1\n",
            "1\n",
            "1\n",
            "1\n",
            "1\n",
            "1\n",
            "1\n",
            "1\n",
            "1\n",
            "1\n",
            "1\n",
            "1\n",
            "1\n",
            "1\n",
            "1\n",
            "1\n",
            "1\n",
            "1\n",
            "1\n",
            "1\n",
            "1\n",
            "1\n",
            "1\n",
            "1\n",
            "1\n",
            "1\n",
            "1\n",
            "1\n",
            "1\n",
            "1\n",
            "1\n",
            "1\n",
            "1\n",
            "1\n",
            "1\n",
            "1\n",
            "1\n",
            "1\n",
            "1\n",
            "1\n",
            "1\n",
            "1\n",
            "1\n",
            "1\n",
            "1\n",
            "1\n",
            "1\n",
            "1\n",
            "1\n",
            "1\n",
            "1\n",
            "1\n",
            "1\n",
            "1\n"
          ]
        }
      ]
    },
    {
      "cell_type": "code",
      "source": [
        "with open('features.csv', 'w') as file:\n",
        "  for linha in export:\n",
        "    file.write(linha)\n",
        "  file.closed"
      ],
      "metadata": {
        "id": "gw5Cgb4294ae"
      },
      "execution_count": 10,
      "outputs": []
    },
    {
      "cell_type": "code",
      "source": [
        "dataset = pd.read_csv('features.csv')\n",
        "dataset"
      ],
      "metadata": {
        "colab": {
          "base_uri": "https://localhost:8080/",
          "height": 424
        },
        "id": "opTqn-2RB44_",
        "outputId": "d96529d7-124b-4387-b6fc-104f7599451e"
      },
      "execution_count": 11,
      "outputs": [
        {
          "output_type": "execute_result",
          "data": {
            "text/plain": [
              "     boca      calca   sapatos    camisa    calcao     tenis  classe\n",
              "0     0.0   0.000000  0.114799  6.886102  3.495204  3.495204       0\n",
              "1     0.0   0.000000  0.110078  5.004901  3.183889  3.183889       0\n",
              "2     0.0   0.000000  0.182519  5.264620  5.029683  5.029683       0\n",
              "3     0.0   0.480168  0.080028  0.000000  0.000000  0.000000       0\n",
              "4     0.0   0.000000  0.029708  8.978929  3.459119  3.459119       0\n",
              "..    ...        ...       ...       ...       ...       ...     ...\n",
              "264   0.0   6.485412  0.171985  0.000000  0.000000  0.000000       1\n",
              "265   0.0   0.000000  0.161637  0.000000  0.000000  0.000000       1\n",
              "266   0.0   4.264975  0.329940  0.000000  0.000000  0.000000       1\n",
              "267   0.0   1.429133  0.034559  0.000000  0.000000  0.000000       1\n",
              "268   0.0  14.598150  0.161778  0.000000  0.000000  0.000000       1\n",
              "\n",
              "[269 rows x 7 columns]"
            ],
            "text/html": [
              "\n",
              "  <div id=\"df-2306ca04-d813-4584-98f0-b9b6fe2f60b1\">\n",
              "    <div class=\"colab-df-container\">\n",
              "      <div>\n",
              "<style scoped>\n",
              "    .dataframe tbody tr th:only-of-type {\n",
              "        vertical-align: middle;\n",
              "    }\n",
              "\n",
              "    .dataframe tbody tr th {\n",
              "        vertical-align: top;\n",
              "    }\n",
              "\n",
              "    .dataframe thead th {\n",
              "        text-align: right;\n",
              "    }\n",
              "</style>\n",
              "<table border=\"1\" class=\"dataframe\">\n",
              "  <thead>\n",
              "    <tr style=\"text-align: right;\">\n",
              "      <th></th>\n",
              "      <th>boca</th>\n",
              "      <th>calca</th>\n",
              "      <th>sapatos</th>\n",
              "      <th>camisa</th>\n",
              "      <th>calcao</th>\n",
              "      <th>tenis</th>\n",
              "      <th>classe</th>\n",
              "    </tr>\n",
              "  </thead>\n",
              "  <tbody>\n",
              "    <tr>\n",
              "      <th>0</th>\n",
              "      <td>0.0</td>\n",
              "      <td>0.000000</td>\n",
              "      <td>0.114799</td>\n",
              "      <td>6.886102</td>\n",
              "      <td>3.495204</td>\n",
              "      <td>3.495204</td>\n",
              "      <td>0</td>\n",
              "    </tr>\n",
              "    <tr>\n",
              "      <th>1</th>\n",
              "      <td>0.0</td>\n",
              "      <td>0.000000</td>\n",
              "      <td>0.110078</td>\n",
              "      <td>5.004901</td>\n",
              "      <td>3.183889</td>\n",
              "      <td>3.183889</td>\n",
              "      <td>0</td>\n",
              "    </tr>\n",
              "    <tr>\n",
              "      <th>2</th>\n",
              "      <td>0.0</td>\n",
              "      <td>0.000000</td>\n",
              "      <td>0.182519</td>\n",
              "      <td>5.264620</td>\n",
              "      <td>5.029683</td>\n",
              "      <td>5.029683</td>\n",
              "      <td>0</td>\n",
              "    </tr>\n",
              "    <tr>\n",
              "      <th>3</th>\n",
              "      <td>0.0</td>\n",
              "      <td>0.480168</td>\n",
              "      <td>0.080028</td>\n",
              "      <td>0.000000</td>\n",
              "      <td>0.000000</td>\n",
              "      <td>0.000000</td>\n",
              "      <td>0</td>\n",
              "    </tr>\n",
              "    <tr>\n",
              "      <th>4</th>\n",
              "      <td>0.0</td>\n",
              "      <td>0.000000</td>\n",
              "      <td>0.029708</td>\n",
              "      <td>8.978929</td>\n",
              "      <td>3.459119</td>\n",
              "      <td>3.459119</td>\n",
              "      <td>0</td>\n",
              "    </tr>\n",
              "    <tr>\n",
              "      <th>...</th>\n",
              "      <td>...</td>\n",
              "      <td>...</td>\n",
              "      <td>...</td>\n",
              "      <td>...</td>\n",
              "      <td>...</td>\n",
              "      <td>...</td>\n",
              "      <td>...</td>\n",
              "    </tr>\n",
              "    <tr>\n",
              "      <th>264</th>\n",
              "      <td>0.0</td>\n",
              "      <td>6.485412</td>\n",
              "      <td>0.171985</td>\n",
              "      <td>0.000000</td>\n",
              "      <td>0.000000</td>\n",
              "      <td>0.000000</td>\n",
              "      <td>1</td>\n",
              "    </tr>\n",
              "    <tr>\n",
              "      <th>265</th>\n",
              "      <td>0.0</td>\n",
              "      <td>0.000000</td>\n",
              "      <td>0.161637</td>\n",
              "      <td>0.000000</td>\n",
              "      <td>0.000000</td>\n",
              "      <td>0.000000</td>\n",
              "      <td>1</td>\n",
              "    </tr>\n",
              "    <tr>\n",
              "      <th>266</th>\n",
              "      <td>0.0</td>\n",
              "      <td>4.264975</td>\n",
              "      <td>0.329940</td>\n",
              "      <td>0.000000</td>\n",
              "      <td>0.000000</td>\n",
              "      <td>0.000000</td>\n",
              "      <td>1</td>\n",
              "    </tr>\n",
              "    <tr>\n",
              "      <th>267</th>\n",
              "      <td>0.0</td>\n",
              "      <td>1.429133</td>\n",
              "      <td>0.034559</td>\n",
              "      <td>0.000000</td>\n",
              "      <td>0.000000</td>\n",
              "      <td>0.000000</td>\n",
              "      <td>1</td>\n",
              "    </tr>\n",
              "    <tr>\n",
              "      <th>268</th>\n",
              "      <td>0.0</td>\n",
              "      <td>14.598150</td>\n",
              "      <td>0.161778</td>\n",
              "      <td>0.000000</td>\n",
              "      <td>0.000000</td>\n",
              "      <td>0.000000</td>\n",
              "      <td>1</td>\n",
              "    </tr>\n",
              "  </tbody>\n",
              "</table>\n",
              "<p>269 rows × 7 columns</p>\n",
              "</div>\n",
              "      <button class=\"colab-df-convert\" onclick=\"convertToInteractive('df-2306ca04-d813-4584-98f0-b9b6fe2f60b1')\"\n",
              "              title=\"Convert this dataframe to an interactive table.\"\n",
              "              style=\"display:none;\">\n",
              "        \n",
              "  <svg xmlns=\"http://www.w3.org/2000/svg\" height=\"24px\"viewBox=\"0 0 24 24\"\n",
              "       width=\"24px\">\n",
              "    <path d=\"M0 0h24v24H0V0z\" fill=\"none\"/>\n",
              "    <path d=\"M18.56 5.44l.94 2.06.94-2.06 2.06-.94-2.06-.94-.94-2.06-.94 2.06-2.06.94zm-11 1L8.5 8.5l.94-2.06 2.06-.94-2.06-.94L8.5 2.5l-.94 2.06-2.06.94zm10 10l.94 2.06.94-2.06 2.06-.94-2.06-.94-.94-2.06-.94 2.06-2.06.94z\"/><path d=\"M17.41 7.96l-1.37-1.37c-.4-.4-.92-.59-1.43-.59-.52 0-1.04.2-1.43.59L10.3 9.45l-7.72 7.72c-.78.78-.78 2.05 0 2.83L4 21.41c.39.39.9.59 1.41.59.51 0 1.02-.2 1.41-.59l7.78-7.78 2.81-2.81c.8-.78.8-2.07 0-2.86zM5.41 20L4 18.59l7.72-7.72 1.47 1.35L5.41 20z\"/>\n",
              "  </svg>\n",
              "      </button>\n",
              "      \n",
              "  <style>\n",
              "    .colab-df-container {\n",
              "      display:flex;\n",
              "      flex-wrap:wrap;\n",
              "      gap: 12px;\n",
              "    }\n",
              "\n",
              "    .colab-df-convert {\n",
              "      background-color: #E8F0FE;\n",
              "      border: none;\n",
              "      border-radius: 50%;\n",
              "      cursor: pointer;\n",
              "      display: none;\n",
              "      fill: #1967D2;\n",
              "      height: 32px;\n",
              "      padding: 0 0 0 0;\n",
              "      width: 32px;\n",
              "    }\n",
              "\n",
              "    .colab-df-convert:hover {\n",
              "      background-color: #E2EBFA;\n",
              "      box-shadow: 0px 1px 2px rgba(60, 64, 67, 0.3), 0px 1px 3px 1px rgba(60, 64, 67, 0.15);\n",
              "      fill: #174EA6;\n",
              "    }\n",
              "\n",
              "    [theme=dark] .colab-df-convert {\n",
              "      background-color: #3B4455;\n",
              "      fill: #D2E3FC;\n",
              "    }\n",
              "\n",
              "    [theme=dark] .colab-df-convert:hover {\n",
              "      background-color: #434B5C;\n",
              "      box-shadow: 0px 1px 3px 1px rgba(0, 0, 0, 0.15);\n",
              "      filter: drop-shadow(0px 1px 2px rgba(0, 0, 0, 0.3));\n",
              "      fill: #FFFFFF;\n",
              "    }\n",
              "  </style>\n",
              "\n",
              "      <script>\n",
              "        const buttonEl =\n",
              "          document.querySelector('#df-2306ca04-d813-4584-98f0-b9b6fe2f60b1 button.colab-df-convert');\n",
              "        buttonEl.style.display =\n",
              "          google.colab.kernel.accessAllowed ? 'block' : 'none';\n",
              "\n",
              "        async function convertToInteractive(key) {\n",
              "          const element = document.querySelector('#df-2306ca04-d813-4584-98f0-b9b6fe2f60b1');\n",
              "          const dataTable =\n",
              "            await google.colab.kernel.invokeFunction('convertToInteractive',\n",
              "                                                     [key], {});\n",
              "          if (!dataTable) return;\n",
              "\n",
              "          const docLinkHtml = 'Like what you see? Visit the ' +\n",
              "            '<a target=\"_blank\" href=https://colab.research.google.com/notebooks/data_table.ipynb>data table notebook</a>'\n",
              "            + ' to learn more about interactive tables.';\n",
              "          element.innerHTML = '';\n",
              "          dataTable['output_type'] = 'display_data';\n",
              "          await google.colab.output.renderOutput(dataTable, element);\n",
              "          const docLink = document.createElement('div');\n",
              "          docLink.innerHTML = docLinkHtml;\n",
              "          element.appendChild(docLink);\n",
              "        }\n",
              "      </script>\n",
              "    </div>\n",
              "  </div>\n",
              "  "
            ]
          },
          "metadata": {},
          "execution_count": 11
        }
      ]
    },
    {
      "cell_type": "markdown",
      "source": [
        "**Treinamento e teste**"
      ],
      "metadata": {
        "id": "t25ADeHcRzz2"
      }
    },
    {
      "cell_type": "code",
      "source": [
        "X = dataset.iloc[:, 0:6].values # Converte também para o numpyarray"
      ],
      "metadata": {
        "id": "iIcFN_3-Spto"
      },
      "execution_count": 15,
      "outputs": []
    },
    {
      "cell_type": "code",
      "source": [
        "y = dataset.iloc[:, 6].values"
      ],
      "metadata": {
        "id": "nWgilkIBS0pN"
      },
      "execution_count": 16,
      "outputs": []
    },
    {
      "cell_type": "code",
      "source": [
        "from sklearn.model_selection import train_test_split\n",
        "X_treinamento, X_teste, y_treinamento, y_teste = train_test_split(X, y, test_size=0.2, random_state=1)"
      ],
      "metadata": {
        "id": "NAeJSOrpS5JO"
      },
      "execution_count": 18,
      "outputs": []
    },
    {
      "cell_type": "markdown",
      "source": [
        "Número inicial de camadas:\n",
        "\n",
        "(número de atributos + 2) / 2"
      ],
      "metadata": {
        "id": "yVXyrqnaSG4W"
      }
    },
    {
      "cell_type": "code",
      "source": [
        "# 6 -> 4 -> 4 -> 4\n",
        "rede2 = tf.keras.Sequential()\n",
        "rede2.add(tf.keras.layers.Dense(input_shape = (6,), units = 4, activation = 'relu'))\n",
        "rede2.add(tf.keras.layers.Dense(units = 4, activation = 'relu'))\n",
        "rede2.add(tf.keras.layers.Dense(units = 4, activation = 'relu'))\n",
        "rede2.add(tf.keras.layers.Dense(units = 1, activation = 'sigmoid'))"
      ],
      "metadata": {
        "id": "lcumPQuOCbTO"
      },
      "execution_count": 12,
      "outputs": []
    },
    {
      "cell_type": "code",
      "source": [
        "rede2.summary()"
      ],
      "metadata": {
        "colab": {
          "base_uri": "https://localhost:8080/"
        },
        "id": "Y1gZKzA4SZU-",
        "outputId": "890a3c45-9266-4cc5-a11f-5e61e3a8efbd"
      },
      "execution_count": 13,
      "outputs": [
        {
          "output_type": "stream",
          "name": "stdout",
          "text": [
            "Model: \"sequential\"\n",
            "_________________________________________________________________\n",
            " Layer (type)                Output Shape              Param #   \n",
            "=================================================================\n",
            " dense (Dense)               (None, 4)                 28        \n",
            "                                                                 \n",
            " dense_1 (Dense)             (None, 4)                 20        \n",
            "                                                                 \n",
            " dense_2 (Dense)             (None, 4)                 20        \n",
            "                                                                 \n",
            " dense_3 (Dense)             (None, 1)                 5         \n",
            "                                                                 \n",
            "=================================================================\n",
            "Total params: 73\n",
            "Trainable params: 73\n",
            "Non-trainable params: 0\n",
            "_________________________________________________________________\n"
          ]
        }
      ]
    },
    {
      "cell_type": "code",
      "source": [
        "rede2.compile(optimizer='Adam', loss='binary_crossentropy', metrics=['accuracy'])"
      ],
      "metadata": {
        "id": "D0-PvBCrSbPF"
      },
      "execution_count": 14,
      "outputs": []
    },
    {
      "cell_type": "code",
      "source": [
        "historico = rede2.fit(X_treinamento, y_treinamento, epochs=50)"
      ],
      "metadata": {
        "colab": {
          "base_uri": "https://localhost:8080/"
        },
        "id": "aro1cTzdSkjd",
        "outputId": "0579c274-12c2-4273-9429-3d16aef1e795"
      },
      "execution_count": 20,
      "outputs": [
        {
          "output_type": "stream",
          "name": "stdout",
          "text": [
            "Epoch 1/50\n",
            "7/7 [==============================] - 0s 8ms/step - loss: 0.4943 - accuracy: 0.8744\n",
            "Epoch 2/50\n",
            "7/7 [==============================] - 0s 10ms/step - loss: 0.4917 - accuracy: 0.8744\n",
            "Epoch 3/50\n",
            "7/7 [==============================] - 0s 9ms/step - loss: 0.4895 - accuracy: 0.8744\n",
            "Epoch 4/50\n",
            "7/7 [==============================] - 0s 7ms/step - loss: 0.4866 - accuracy: 0.8744\n",
            "Epoch 5/50\n",
            "7/7 [==============================] - 0s 8ms/step - loss: 0.4842 - accuracy: 0.8744\n",
            "Epoch 6/50\n",
            "7/7 [==============================] - 0s 7ms/step - loss: 0.4820 - accuracy: 0.8744\n",
            "Epoch 7/50\n",
            "7/7 [==============================] - 0s 12ms/step - loss: 0.4800 - accuracy: 0.8744\n",
            "Epoch 8/50\n",
            "7/7 [==============================] - 0s 7ms/step - loss: 0.4775 - accuracy: 0.8744\n",
            "Epoch 9/50\n",
            "7/7 [==============================] - 0s 7ms/step - loss: 0.4754 - accuracy: 0.8791\n",
            "Epoch 10/50\n",
            "7/7 [==============================] - 0s 7ms/step - loss: 0.4733 - accuracy: 0.8791\n",
            "Epoch 11/50\n",
            "7/7 [==============================] - 0s 7ms/step - loss: 0.4715 - accuracy: 0.8791\n",
            "Epoch 12/50\n",
            "7/7 [==============================] - 0s 7ms/step - loss: 0.4699 - accuracy: 0.8791\n",
            "Epoch 13/50\n",
            "7/7 [==============================] - 0s 7ms/step - loss: 0.4678 - accuracy: 0.8791\n",
            "Epoch 14/50\n",
            "7/7 [==============================] - 0s 7ms/step - loss: 0.4660 - accuracy: 0.8884\n",
            "Epoch 15/50\n",
            "7/7 [==============================] - 0s 7ms/step - loss: 0.4646 - accuracy: 0.8930\n",
            "Epoch 16/50\n",
            "7/7 [==============================] - 0s 7ms/step - loss: 0.4627 - accuracy: 0.8930\n",
            "Epoch 17/50\n",
            "7/7 [==============================] - 0s 7ms/step - loss: 0.4610 - accuracy: 0.8930\n",
            "Epoch 18/50\n",
            "7/7 [==============================] - 0s 7ms/step - loss: 0.4593 - accuracy: 0.8930\n",
            "Epoch 19/50\n",
            "7/7 [==============================] - 0s 8ms/step - loss: 0.4579 - accuracy: 0.9070\n",
            "Epoch 20/50\n",
            "7/7 [==============================] - 0s 7ms/step - loss: 0.4561 - accuracy: 0.9116\n",
            "Epoch 21/50\n",
            "7/7 [==============================] - 0s 9ms/step - loss: 0.4547 - accuracy: 0.9116\n",
            "Epoch 22/50\n",
            "7/7 [==============================] - 0s 7ms/step - loss: 0.4532 - accuracy: 0.9116\n",
            "Epoch 23/50\n",
            "7/7 [==============================] - 0s 11ms/step - loss: 0.4515 - accuracy: 0.9116\n",
            "Epoch 24/50\n",
            "7/7 [==============================] - 0s 7ms/step - loss: 0.4502 - accuracy: 0.9116\n",
            "Epoch 25/50\n",
            "7/7 [==============================] - 0s 6ms/step - loss: 0.4489 - accuracy: 0.9070\n",
            "Epoch 26/50\n",
            "7/7 [==============================] - 0s 8ms/step - loss: 0.4475 - accuracy: 0.9116\n",
            "Epoch 27/50\n",
            "7/7 [==============================] - 0s 8ms/step - loss: 0.4461 - accuracy: 0.9070\n",
            "Epoch 28/50\n",
            "7/7 [==============================] - 0s 8ms/step - loss: 0.4448 - accuracy: 0.9070\n",
            "Epoch 29/50\n",
            "7/7 [==============================] - 0s 7ms/step - loss: 0.4434 - accuracy: 0.9070\n",
            "Epoch 30/50\n",
            "7/7 [==============================] - 0s 7ms/step - loss: 0.4421 - accuracy: 0.9070\n",
            "Epoch 31/50\n",
            "7/7 [==============================] - 0s 8ms/step - loss: 0.4408 - accuracy: 0.9070\n",
            "Epoch 32/50\n",
            "7/7 [==============================] - 0s 8ms/step - loss: 0.4395 - accuracy: 0.9070\n",
            "Epoch 33/50\n",
            "7/7 [==============================] - 0s 8ms/step - loss: 0.4382 - accuracy: 0.9070\n",
            "Epoch 34/50\n",
            "7/7 [==============================] - 0s 8ms/step - loss: 0.4370 - accuracy: 0.9070\n",
            "Epoch 35/50\n",
            "7/7 [==============================] - 0s 8ms/step - loss: 0.4357 - accuracy: 0.9070\n",
            "Epoch 36/50\n",
            "7/7 [==============================] - 0s 8ms/step - loss: 0.4345 - accuracy: 0.9070\n",
            "Epoch 37/50\n",
            "7/7 [==============================] - 0s 9ms/step - loss: 0.4332 - accuracy: 0.9070\n",
            "Epoch 38/50\n",
            "7/7 [==============================] - 0s 10ms/step - loss: 0.4322 - accuracy: 0.9070\n",
            "Epoch 39/50\n",
            "7/7 [==============================] - 0s 8ms/step - loss: 0.4308 - accuracy: 0.9070\n",
            "Epoch 40/50\n",
            "7/7 [==============================] - 0s 10ms/step - loss: 0.4297 - accuracy: 0.9070\n",
            "Epoch 41/50\n",
            "7/7 [==============================] - 0s 11ms/step - loss: 0.4285 - accuracy: 0.9070\n",
            "Epoch 42/50\n",
            "7/7 [==============================] - 0s 10ms/step - loss: 0.4274 - accuracy: 0.9070\n",
            "Epoch 43/50\n",
            "7/7 [==============================] - 0s 11ms/step - loss: 0.4263 - accuracy: 0.9070\n",
            "Epoch 44/50\n",
            "7/7 [==============================] - 0s 10ms/step - loss: 0.4251 - accuracy: 0.9070\n",
            "Epoch 45/50\n",
            "7/7 [==============================] - 0s 8ms/step - loss: 0.4239 - accuracy: 0.9070\n",
            "Epoch 46/50\n",
            "7/7 [==============================] - 0s 10ms/step - loss: 0.4228 - accuracy: 0.9070\n",
            "Epoch 47/50\n",
            "7/7 [==============================] - 0s 11ms/step - loss: 0.4217 - accuracy: 0.9070\n",
            "Epoch 48/50\n",
            "7/7 [==============================] - 0s 12ms/step - loss: 0.4206 - accuracy: 0.9070\n",
            "Epoch 49/50\n",
            "7/7 [==============================] - 0s 12ms/step - loss: 0.4195 - accuracy: 0.9116\n",
            "Epoch 50/50\n",
            "7/7 [==============================] - 0s 13ms/step - loss: 0.4183 - accuracy: 0.9116\n"
          ]
        }
      ]
    },
    {
      "cell_type": "markdown",
      "source": [
        "**Avaliação da rede**"
      ],
      "metadata": {
        "id": "SEvbWwMvTbSh"
      }
    },
    {
      "cell_type": "code",
      "source": [
        "plt.plot(historico.history['loss'])"
      ],
      "metadata": {
        "colab": {
          "base_uri": "https://localhost:8080/",
          "height": 282
        },
        "id": "4Zd1eUrkTUg_",
        "outputId": "89895013-c4f4-43e4-d502-ae017be9948f"
      },
      "execution_count": 21,
      "outputs": [
        {
          "output_type": "execute_result",
          "data": {
            "text/plain": [
              "[<matplotlib.lines.Line2D at 0x7f6efa27cd90>]"
            ]
          },
          "metadata": {},
          "execution_count": 21
        },
        {
          "output_type": "display_data",
          "data": {
            "text/plain": [
              "<Figure size 432x288 with 1 Axes>"
            ],
            "image/png": "[encoded data removed]"
          },
          "metadata": {
            "needs_background": "light"
          }
        }
      ]
    },
    {
      "cell_type": "code",
      "source": [
        "plt.plot(historico.history['accuracy'])"
      ],
      "metadata": {
        "colab": {
          "base_uri": "https://localhost:8080/",
          "height": 282
        },
        "id": "mcG9X5Q5UBvl",
        "outputId": "33460389-ebb5-4828-fd16-80dd72a7a4b8"
      },
      "execution_count": 22,
      "outputs": [
        {
          "output_type": "execute_result",
          "data": {
            "text/plain": [
              "[<matplotlib.lines.Line2D at 0x7f6ef9cc7190>]"
            ]
          },
          "metadata": {},
          "execution_count": 22
        },
        {
          "output_type": "display_data",
          "data": {
            "text/plain": [
              "<Figure size 432x288 with 1 Axes>"
            ],
            "image/png": "[encoded data removed]"
          },
          "metadata": {
            "needs_background": "light"
          }
        }
      ]
    },
    {
      "cell_type": "code",
      "source": [
        "previsoes = rede2(X_teste)"
      ],
      "metadata": {
        "id": "4M_HakONUDKm"
      },
      "execution_count": 23,
      "outputs": []
    },
    {
      "cell_type": "code",
      "source": [
        "previsoes = previsoes > 0.5"
      ],
      "metadata": {
        "id": "HGbU_XZqUGG9"
      },
      "execution_count": 24,
      "outputs": []
    },
    {
      "cell_type": "code",
      "source": [
        "from sklearn.metrics import accuracy_score\n",
        "accuracy_score(y_teste, previsoes)"
      ],
      "metadata": {
        "colab": {
          "base_uri": "https://localhost:8080/"
        },
        "id": "h2npKLUqUK-G",
        "outputId": "ec2fe4ff-990f-46c2-d2ba-fbcff04e2dba"
      },
      "execution_count": 25,
      "outputs": [
        {
          "output_type": "execute_result",
          "data": {
            "text/plain": [
              "0.9444444444444444"
            ]
          },
          "metadata": {},
          "execution_count": 25
        }
      ]
    },
    {
      "cell_type": "code",
      "source": [
        "from sklearn.metrics import confusion_matrix\n",
        "cm = confusion_matrix(y_teste, previsoes)"
      ],
      "metadata": {
        "id": "ZcTp5BQAUX6V"
      },
      "execution_count": 26,
      "outputs": []
    },
    {
      "cell_type": "code",
      "source": [
        "cm"
      ],
      "metadata": {
        "colab": {
          "base_uri": "https://localhost:8080/"
        },
        "id": "f4iEQJcLUeP1",
        "outputId": "2121a79a-7f56-4f1e-ecbd-87e44a95c358"
      },
      "execution_count": 27,
      "outputs": [
        {
          "output_type": "execute_result",
          "data": {
            "text/plain": [
              "array([[27,  1],\n",
              "       [ 2, 24]])"
            ]
          },
          "metadata": {},
          "execution_count": 27
        }
      ]
    },
    {
      "cell_type": "code",
      "source": [
        "sns.heatmap(cm, annot=True)"
      ],
      "metadata": {
        "colab": {
          "base_uri": "https://localhost:8080/",
          "height": 282
        },
        "id": "P5JLIY96UevF",
        "outputId": "3583a1fa-74c5-48eb-f889-b7145b5ff900"
      },
      "execution_count": 28,
      "outputs": [
        {
          "output_type": "execute_result",
          "data": {
            "text/plain": [
              "<matplotlib.axes._subplots.AxesSubplot at 0x7f6ef9c20550>"
            ]
          },
          "metadata": {},
          "execution_count": 28
        },
        {
          "output_type": "display_data",
          "data": {
            "text/plain": [
              "<Figure size 432x288 with 2 Axes>"
            ],
            "image/png": "[encoded data removed]"
          },
          "metadata": {
            "needs_background": "light"
          }
        }
      ]
    },
    {
      "cell_type": "code",
      "source": [
        "from sklearn.metrics import classification_report\n",
        "print(classification_report(y_teste, previsoes))"
      ],
      "metadata": {
        "colab": {
          "base_uri": "https://localhost:8080/"
        },
        "id": "hIA2YIxeUi-d",
        "outputId": "ea798018-b223-4807-a7c1-b3c7b84623c0"
      },
      "execution_count": 29,
      "outputs": [
        {
          "output_type": "stream",
          "name": "stdout",
          "text": [
            "              precision    recall  f1-score   support\n",
            "\n",
            "           0       0.93      0.96      0.95        28\n",
            "           1       0.96      0.92      0.94        26\n",
            "\n",
            "    accuracy                           0.94        54\n",
            "   macro avg       0.95      0.94      0.94        54\n",
            "weighted avg       0.94      0.94      0.94        54\n",
            "\n"
          ]
        }
      ]
    }
  ],
  "metadata": {
    "accelerator": "GPU",
    "colab": {
      "name": "RedesNeuraisParaClassificacaoDeImagens.ipynb",
      "provenance": [],
      "collapsed_sections": []
    },
    "kernelspec": {
      "display_name": "Python 3",
      "name": "python3"
    },
    "language_info": {
      "name": "python"
    }
  },
  "nbformat": 4,
  "nbformat_minor": 0
}